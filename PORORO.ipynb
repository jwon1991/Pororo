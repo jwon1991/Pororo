{
  "nbformat": 4,
  "nbformat_minor": 0,
  "metadata": {
    "colab": {
      "name": "PORORO.ipynb",
      "provenance": [],
      "collapsed_sections": [],
      "authorship_tag": "ABX9TyN0Rm4PkgjPdC9xISPLeXCm",
      "include_colab_link": true
    },
    "kernelspec": {
      "display_name": "Python 3",
      "name": "python3"
    },
    "language_info": {
      "name": "python"
    },
    "widgets": {
      "application/vnd.jupyter.widget-state+json": {
        "17bd4aa405024bb68befa636ec690d39": {
          "model_module": "@jupyter-widgets/controls",
          "model_name": "HBoxModel",
          "state": {
            "_view_name": "HBoxView",
            "_dom_classes": [],
            "_model_name": "HBoxModel",
            "_view_module": "@jupyter-widgets/controls",
            "_model_module_version": "1.5.0",
            "_view_count": null,
            "_view_module_version": "1.5.0",
            "box_style": "",
            "layout": "IPY_MODEL_98f3efc8c1704328b459e8deeacfad01",
            "_model_module": "@jupyter-widgets/controls",
            "children": [
              "IPY_MODEL_848bf6a9472e491d91c991bf6e6cf1f9",
              "IPY_MODEL_5c282670db6645c2891065f21d99ff99"
            ]
          }
        },
        "98f3efc8c1704328b459e8deeacfad01": {
          "model_module": "@jupyter-widgets/base",
          "model_name": "LayoutModel",
          "state": {
            "_view_name": "LayoutView",
            "grid_template_rows": null,
            "right": null,
            "justify_content": null,
            "_view_module": "@jupyter-widgets/base",
            "overflow": null,
            "_model_module_version": "1.2.0",
            "_view_count": null,
            "flex_flow": null,
            "width": null,
            "min_width": null,
            "border": null,
            "align_items": null,
            "bottom": null,
            "_model_module": "@jupyter-widgets/base",
            "top": null,
            "grid_column": null,
            "overflow_y": null,
            "overflow_x": null,
            "grid_auto_flow": null,
            "grid_area": null,
            "grid_template_columns": null,
            "flex": null,
            "_model_name": "LayoutModel",
            "justify_items": null,
            "grid_row": null,
            "max_height": null,
            "align_content": null,
            "visibility": null,
            "align_self": null,
            "height": null,
            "min_height": null,
            "padding": null,
            "grid_auto_rows": null,
            "grid_gap": null,
            "max_width": null,
            "order": null,
            "_view_module_version": "1.2.0",
            "grid_template_areas": null,
            "object_position": null,
            "object_fit": null,
            "grid_auto_columns": null,
            "margin": null,
            "display": null,
            "left": null
          }
        },
        "848bf6a9472e491d91c991bf6e6cf1f9": {
          "model_module": "@jupyter-widgets/controls",
          "model_name": "FloatProgressModel",
          "state": {
            "_view_name": "ProgressView",
            "style": "IPY_MODEL_b0386879b887443dac60a69442036de7",
            "_dom_classes": [],
            "description": "Downloading: 100%",
            "_model_name": "FloatProgressModel",
            "bar_style": "success",
            "max": 1110,
            "_view_module": "@jupyter-widgets/controls",
            "_model_module_version": "1.5.0",
            "value": 1110,
            "_view_count": null,
            "_view_module_version": "1.5.0",
            "orientation": "horizontal",
            "min": 0,
            "description_tooltip": null,
            "_model_module": "@jupyter-widgets/controls",
            "layout": "IPY_MODEL_936bce6d29164e9a95ccd1e8bd7c45ee"
          }
        },
        "5c282670db6645c2891065f21d99ff99": {
          "model_module": "@jupyter-widgets/controls",
          "model_name": "HTMLModel",
          "state": {
            "_view_name": "HTMLView",
            "style": "IPY_MODEL_61b05e0c39934ef4914a04f3702c2d9e",
            "_dom_classes": [],
            "description": "",
            "_model_name": "HTMLModel",
            "placeholder": "​",
            "_view_module": "@jupyter-widgets/controls",
            "_model_module_version": "1.5.0",
            "value": " 1.11k/1.11k [00:00&lt;00:00, 2.16kB/s]",
            "_view_count": null,
            "_view_module_version": "1.5.0",
            "description_tooltip": null,
            "_model_module": "@jupyter-widgets/controls",
            "layout": "IPY_MODEL_21a9cd3df16c41b9962723f056bc7521"
          }
        },
        "b0386879b887443dac60a69442036de7": {
          "model_module": "@jupyter-widgets/controls",
          "model_name": "ProgressStyleModel",
          "state": {
            "_view_name": "StyleView",
            "_model_name": "ProgressStyleModel",
            "description_width": "initial",
            "_view_module": "@jupyter-widgets/base",
            "_model_module_version": "1.5.0",
            "_view_count": null,
            "_view_module_version": "1.2.0",
            "bar_color": null,
            "_model_module": "@jupyter-widgets/controls"
          }
        },
        "936bce6d29164e9a95ccd1e8bd7c45ee": {
          "model_module": "@jupyter-widgets/base",
          "model_name": "LayoutModel",
          "state": {
            "_view_name": "LayoutView",
            "grid_template_rows": null,
            "right": null,
            "justify_content": null,
            "_view_module": "@jupyter-widgets/base",
            "overflow": null,
            "_model_module_version": "1.2.0",
            "_view_count": null,
            "flex_flow": null,
            "width": null,
            "min_width": null,
            "border": null,
            "align_items": null,
            "bottom": null,
            "_model_module": "@jupyter-widgets/base",
            "top": null,
            "grid_column": null,
            "overflow_y": null,
            "overflow_x": null,
            "grid_auto_flow": null,
            "grid_area": null,
            "grid_template_columns": null,
            "flex": null,
            "_model_name": "LayoutModel",
            "justify_items": null,
            "grid_row": null,
            "max_height": null,
            "align_content": null,
            "visibility": null,
            "align_self": null,
            "height": null,
            "min_height": null,
            "padding": null,
            "grid_auto_rows": null,
            "grid_gap": null,
            "max_width": null,
            "order": null,
            "_view_module_version": "1.2.0",
            "grid_template_areas": null,
            "object_position": null,
            "object_fit": null,
            "grid_auto_columns": null,
            "margin": null,
            "display": null,
            "left": null
          }
        },
        "61b05e0c39934ef4914a04f3702c2d9e": {
          "model_module": "@jupyter-widgets/controls",
          "model_name": "DescriptionStyleModel",
          "state": {
            "_view_name": "StyleView",
            "_model_name": "DescriptionStyleModel",
            "description_width": "",
            "_view_module": "@jupyter-widgets/base",
            "_model_module_version": "1.5.0",
            "_view_count": null,
            "_view_module_version": "1.2.0",
            "_model_module": "@jupyter-widgets/controls"
          }
        },
        "21a9cd3df16c41b9962723f056bc7521": {
          "model_module": "@jupyter-widgets/base",
          "model_name": "LayoutModel",
          "state": {
            "_view_name": "LayoutView",
            "grid_template_rows": null,
            "right": null,
            "justify_content": null,
            "_view_module": "@jupyter-widgets/base",
            "overflow": null,
            "_model_module_version": "1.2.0",
            "_view_count": null,
            "flex_flow": null,
            "width": null,
            "min_width": null,
            "border": null,
            "align_items": null,
            "bottom": null,
            "_model_module": "@jupyter-widgets/base",
            "top": null,
            "grid_column": null,
            "overflow_y": null,
            "overflow_x": null,
            "grid_auto_flow": null,
            "grid_area": null,
            "grid_template_columns": null,
            "flex": null,
            "_model_name": "LayoutModel",
            "justify_items": null,
            "grid_row": null,
            "max_height": null,
            "align_content": null,
            "visibility": null,
            "align_self": null,
            "height": null,
            "min_height": null,
            "padding": null,
            "grid_auto_rows": null,
            "grid_gap": null,
            "max_width": null,
            "order": null,
            "_view_module_version": "1.2.0",
            "grid_template_areas": null,
            "object_position": null,
            "object_fit": null,
            "grid_auto_columns": null,
            "margin": null,
            "display": null,
            "left": null
          }
        },
        "cd90dc17e10d45f196a7fcf8032fbf08": {
          "model_module": "@jupyter-widgets/controls",
          "model_name": "HBoxModel",
          "state": {
            "_view_name": "HBoxView",
            "_dom_classes": [],
            "_model_name": "HBoxModel",
            "_view_module": "@jupyter-widgets/controls",
            "_model_module_version": "1.5.0",
            "_view_count": null,
            "_view_module_version": "1.5.0",
            "box_style": "",
            "layout": "IPY_MODEL_d08a063d7088474e83323606352d1496",
            "_model_module": "@jupyter-widgets/controls",
            "children": [
              "IPY_MODEL_bac76594a8c8477e93aa3c9289f02833",
              "IPY_MODEL_bb7a928574764cd797bdc42271182265"
            ]
          }
        },
        "d08a063d7088474e83323606352d1496": {
          "model_module": "@jupyter-widgets/base",
          "model_name": "LayoutModel",
          "state": {
            "_view_name": "LayoutView",
            "grid_template_rows": null,
            "right": null,
            "justify_content": null,
            "_view_module": "@jupyter-widgets/base",
            "overflow": null,
            "_model_module_version": "1.2.0",
            "_view_count": null,
            "flex_flow": null,
            "width": null,
            "min_width": null,
            "border": null,
            "align_items": null,
            "bottom": null,
            "_model_module": "@jupyter-widgets/base",
            "top": null,
            "grid_column": null,
            "overflow_y": null,
            "overflow_x": null,
            "grid_auto_flow": null,
            "grid_area": null,
            "grid_template_columns": null,
            "flex": null,
            "_model_name": "LayoutModel",
            "justify_items": null,
            "grid_row": null,
            "max_height": null,
            "align_content": null,
            "visibility": null,
            "align_self": null,
            "height": null,
            "min_height": null,
            "padding": null,
            "grid_auto_rows": null,
            "grid_gap": null,
            "max_width": null,
            "order": null,
            "_view_module_version": "1.2.0",
            "grid_template_areas": null,
            "object_position": null,
            "object_fit": null,
            "grid_auto_columns": null,
            "margin": null,
            "display": null,
            "left": null
          }
        },
        "bac76594a8c8477e93aa3c9289f02833": {
          "model_module": "@jupyter-widgets/controls",
          "model_name": "FloatProgressModel",
          "state": {
            "_view_name": "ProgressView",
            "style": "IPY_MODEL_cd8c4529dcbe4c76b201c3c9056f46eb",
            "_dom_classes": [],
            "description": "Downloading: 100%",
            "_model_name": "FloatProgressModel",
            "bar_style": "success",
            "max": 2,
            "_view_module": "@jupyter-widgets/controls",
            "_model_module_version": "1.5.0",
            "value": 2,
            "_view_count": null,
            "_view_module_version": "1.5.0",
            "orientation": "horizontal",
            "min": 0,
            "description_tooltip": null,
            "_model_module": "@jupyter-widgets/controls",
            "layout": "IPY_MODEL_4f0af18a1f1542dcb2286ce38fe202c7"
          }
        },
        "bb7a928574764cd797bdc42271182265": {
          "model_module": "@jupyter-widgets/controls",
          "model_name": "HTMLModel",
          "state": {
            "_view_name": "HTMLView",
            "style": "IPY_MODEL_093563758b2640849f05151af73188a5",
            "_dom_classes": [],
            "description": "",
            "_model_name": "HTMLModel",
            "placeholder": "​",
            "_view_module": "@jupyter-widgets/controls",
            "_model_module_version": "1.5.0",
            "value": " 2.00/2.00 [00:00&lt;00:00, 5.61B/s]",
            "_view_count": null,
            "_view_module_version": "1.5.0",
            "description_tooltip": null,
            "_model_module": "@jupyter-widgets/controls",
            "layout": "IPY_MODEL_3a6dd39e29a74af0ac46e07b04a04d56"
          }
        },
        "cd8c4529dcbe4c76b201c3c9056f46eb": {
          "model_module": "@jupyter-widgets/controls",
          "model_name": "ProgressStyleModel",
          "state": {
            "_view_name": "StyleView",
            "_model_name": "ProgressStyleModel",
            "description_width": "initial",
            "_view_module": "@jupyter-widgets/base",
            "_model_module_version": "1.5.0",
            "_view_count": null,
            "_view_module_version": "1.2.0",
            "bar_color": null,
            "_model_module": "@jupyter-widgets/controls"
          }
        },
        "4f0af18a1f1542dcb2286ce38fe202c7": {
          "model_module": "@jupyter-widgets/base",
          "model_name": "LayoutModel",
          "state": {
            "_view_name": "LayoutView",
            "grid_template_rows": null,
            "right": null,
            "justify_content": null,
            "_view_module": "@jupyter-widgets/base",
            "overflow": null,
            "_model_module_version": "1.2.0",
            "_view_count": null,
            "flex_flow": null,
            "width": null,
            "min_width": null,
            "border": null,
            "align_items": null,
            "bottom": null,
            "_model_module": "@jupyter-widgets/base",
            "top": null,
            "grid_column": null,
            "overflow_y": null,
            "overflow_x": null,
            "grid_auto_flow": null,
            "grid_area": null,
            "grid_template_columns": null,
            "flex": null,
            "_model_name": "LayoutModel",
            "justify_items": null,
            "grid_row": null,
            "max_height": null,
            "align_content": null,
            "visibility": null,
            "align_self": null,
            "height": null,
            "min_height": null,
            "padding": null,
            "grid_auto_rows": null,
            "grid_gap": null,
            "max_width": null,
            "order": null,
            "_view_module_version": "1.2.0",
            "grid_template_areas": null,
            "object_position": null,
            "object_fit": null,
            "grid_auto_columns": null,
            "margin": null,
            "display": null,
            "left": null
          }
        },
        "093563758b2640849f05151af73188a5": {
          "model_module": "@jupyter-widgets/controls",
          "model_name": "DescriptionStyleModel",
          "state": {
            "_view_name": "StyleView",
            "_model_name": "DescriptionStyleModel",
            "description_width": "",
            "_view_module": "@jupyter-widgets/base",
            "_model_module_version": "1.5.0",
            "_view_count": null,
            "_view_module_version": "1.2.0",
            "_model_module": "@jupyter-widgets/controls"
          }
        },
        "3a6dd39e29a74af0ac46e07b04a04d56": {
          "model_module": "@jupyter-widgets/base",
          "model_name": "LayoutModel",
          "state": {
            "_view_name": "LayoutView",
            "grid_template_rows": null,
            "right": null,
            "justify_content": null,
            "_view_module": "@jupyter-widgets/base",
            "overflow": null,
            "_model_module_version": "1.2.0",
            "_view_count": null,
            "flex_flow": null,
            "width": null,
            "min_width": null,
            "border": null,
            "align_items": null,
            "bottom": null,
            "_model_module": "@jupyter-widgets/base",
            "top": null,
            "grid_column": null,
            "overflow_y": null,
            "overflow_x": null,
            "grid_auto_flow": null,
            "grid_area": null,
            "grid_template_columns": null,
            "flex": null,
            "_model_name": "LayoutModel",
            "justify_items": null,
            "grid_row": null,
            "max_height": null,
            "align_content": null,
            "visibility": null,
            "align_self": null,
            "height": null,
            "min_height": null,
            "padding": null,
            "grid_auto_rows": null,
            "grid_gap": null,
            "max_width": null,
            "order": null,
            "_view_module_version": "1.2.0",
            "grid_template_areas": null,
            "object_position": null,
            "object_fit": null,
            "grid_auto_columns": null,
            "margin": null,
            "display": null,
            "left": null
          }
        },
        "50c5bbcc2ce447a4ad96dd4b6d631398": {
          "model_module": "@jupyter-widgets/controls",
          "model_name": "HBoxModel",
          "state": {
            "_view_name": "HBoxView",
            "_dom_classes": [],
            "_model_name": "HBoxModel",
            "_view_module": "@jupyter-widgets/controls",
            "_model_module_version": "1.5.0",
            "_view_count": null,
            "_view_module_version": "1.5.0",
            "box_style": "",
            "layout": "IPY_MODEL_42d2b945a782404889050df03620bfaf",
            "_model_module": "@jupyter-widgets/controls",
            "children": [
              "IPY_MODEL_21ff366119da4763ac08c158c70393d8",
              "IPY_MODEL_5df85987421a4bd6895a68ab62c900f2"
            ]
          }
        },
        "42d2b945a782404889050df03620bfaf": {
          "model_module": "@jupyter-widgets/base",
          "model_name": "LayoutModel",
          "state": {
            "_view_name": "LayoutView",
            "grid_template_rows": null,
            "right": null,
            "justify_content": null,
            "_view_module": "@jupyter-widgets/base",
            "overflow": null,
            "_model_module_version": "1.2.0",
            "_view_count": null,
            "flex_flow": null,
            "width": null,
            "min_width": null,
            "border": null,
            "align_items": null,
            "bottom": null,
            "_model_module": "@jupyter-widgets/base",
            "top": null,
            "grid_column": null,
            "overflow_y": null,
            "overflow_x": null,
            "grid_auto_flow": null,
            "grid_area": null,
            "grid_template_columns": null,
            "flex": null,
            "_model_name": "LayoutModel",
            "justify_items": null,
            "grid_row": null,
            "max_height": null,
            "align_content": null,
            "visibility": null,
            "align_self": null,
            "height": null,
            "min_height": null,
            "padding": null,
            "grid_auto_rows": null,
            "grid_gap": null,
            "max_width": null,
            "order": null,
            "_view_module_version": "1.2.0",
            "grid_template_areas": null,
            "object_position": null,
            "object_fit": null,
            "grid_auto_columns": null,
            "margin": null,
            "display": null,
            "left": null
          }
        },
        "21ff366119da4763ac08c158c70393d8": {
          "model_module": "@jupyter-widgets/controls",
          "model_name": "FloatProgressModel",
          "state": {
            "_view_name": "ProgressView",
            "style": "IPY_MODEL_88dda3020cf14e41bb512b8b937806b0",
            "_dom_classes": [],
            "description": "Downloading: 100%",
            "_model_name": "FloatProgressModel",
            "bar_style": "success",
            "max": 85,
            "_view_module": "@jupyter-widgets/controls",
            "_model_module_version": "1.5.0",
            "value": 85,
            "_view_count": null,
            "_view_module_version": "1.5.0",
            "orientation": "horizontal",
            "min": 0,
            "description_tooltip": null,
            "_model_module": "@jupyter-widgets/controls",
            "layout": "IPY_MODEL_3935260239114d789272127e3233a3fd"
          }
        },
        "5df85987421a4bd6895a68ab62c900f2": {
          "model_module": "@jupyter-widgets/controls",
          "model_name": "HTMLModel",
          "state": {
            "_view_name": "HTMLView",
            "style": "IPY_MODEL_c9afbd1a0293499890dd702115f9ddee",
            "_dom_classes": [],
            "description": "",
            "_model_name": "HTMLModel",
            "placeholder": "​",
            "_view_module": "@jupyter-widgets/controls",
            "_model_module_version": "1.5.0",
            "value": " 85.0/85.0 [00:00&lt;00:00, 580B/s]",
            "_view_count": null,
            "_view_module_version": "1.5.0",
            "description_tooltip": null,
            "_model_module": "@jupyter-widgets/controls",
            "layout": "IPY_MODEL_19cf66251fcd4c9cad4084d562ac4278"
          }
        },
        "88dda3020cf14e41bb512b8b937806b0": {
          "model_module": "@jupyter-widgets/controls",
          "model_name": "ProgressStyleModel",
          "state": {
            "_view_name": "StyleView",
            "_model_name": "ProgressStyleModel",
            "description_width": "initial",
            "_view_module": "@jupyter-widgets/base",
            "_model_module_version": "1.5.0",
            "_view_count": null,
            "_view_module_version": "1.2.0",
            "bar_color": null,
            "_model_module": "@jupyter-widgets/controls"
          }
        },
        "3935260239114d789272127e3233a3fd": {
          "model_module": "@jupyter-widgets/base",
          "model_name": "LayoutModel",
          "state": {
            "_view_name": "LayoutView",
            "grid_template_rows": null,
            "right": null,
            "justify_content": null,
            "_view_module": "@jupyter-widgets/base",
            "overflow": null,
            "_model_module_version": "1.2.0",
            "_view_count": null,
            "flex_flow": null,
            "width": null,
            "min_width": null,
            "border": null,
            "align_items": null,
            "bottom": null,
            "_model_module": "@jupyter-widgets/base",
            "top": null,
            "grid_column": null,
            "overflow_y": null,
            "overflow_x": null,
            "grid_auto_flow": null,
            "grid_area": null,
            "grid_template_columns": null,
            "flex": null,
            "_model_name": "LayoutModel",
            "justify_items": null,
            "grid_row": null,
            "max_height": null,
            "align_content": null,
            "visibility": null,
            "align_self": null,
            "height": null,
            "min_height": null,
            "padding": null,
            "grid_auto_rows": null,
            "grid_gap": null,
            "max_width": null,
            "order": null,
            "_view_module_version": "1.2.0",
            "grid_template_areas": null,
            "object_position": null,
            "object_fit": null,
            "grid_auto_columns": null,
            "margin": null,
            "display": null,
            "left": null
          }
        },
        "c9afbd1a0293499890dd702115f9ddee": {
          "model_module": "@jupyter-widgets/controls",
          "model_name": "DescriptionStyleModel",
          "state": {
            "_view_name": "StyleView",
            "_model_name": "DescriptionStyleModel",
            "description_width": "",
            "_view_module": "@jupyter-widgets/base",
            "_model_module_version": "1.5.0",
            "_view_count": null,
            "_view_module_version": "1.2.0",
            "_model_module": "@jupyter-widgets/controls"
          }
        },
        "19cf66251fcd4c9cad4084d562ac4278": {
          "model_module": "@jupyter-widgets/base",
          "model_name": "LayoutModel",
          "state": {
            "_view_name": "LayoutView",
            "grid_template_rows": null,
            "right": null,
            "justify_content": null,
            "_view_module": "@jupyter-widgets/base",
            "overflow": null,
            "_model_module_version": "1.2.0",
            "_view_count": null,
            "flex_flow": null,
            "width": null,
            "min_width": null,
            "border": null,
            "align_items": null,
            "bottom": null,
            "_model_module": "@jupyter-widgets/base",
            "top": null,
            "grid_column": null,
            "overflow_y": null,
            "overflow_x": null,
            "grid_auto_flow": null,
            "grid_area": null,
            "grid_template_columns": null,
            "flex": null,
            "_model_name": "LayoutModel",
            "justify_items": null,
            "grid_row": null,
            "max_height": null,
            "align_content": null,
            "visibility": null,
            "align_self": null,
            "height": null,
            "min_height": null,
            "padding": null,
            "grid_auto_rows": null,
            "grid_gap": null,
            "max_width": null,
            "order": null,
            "_view_module_version": "1.2.0",
            "grid_template_areas": null,
            "object_position": null,
            "object_fit": null,
            "grid_auto_columns": null,
            "margin": null,
            "display": null,
            "left": null
          }
        },
        "af0f0adc2621433984e6f60f4ccddde9": {
          "model_module": "@jupyter-widgets/controls",
          "model_name": "HBoxModel",
          "state": {
            "_view_name": "HBoxView",
            "_dom_classes": [],
            "_model_name": "HBoxModel",
            "_view_module": "@jupyter-widgets/controls",
            "_model_module_version": "1.5.0",
            "_view_count": null,
            "_view_module_version": "1.5.0",
            "box_style": "",
            "layout": "IPY_MODEL_4c48851837c84f3db0d8ea5aafc5513c",
            "_model_module": "@jupyter-widgets/controls",
            "children": [
              "IPY_MODEL_35061f03eeaa404f95acf9f9719c860d",
              "IPY_MODEL_6330eeae1362433db41f3f6648e31bb9"
            ]
          }
        },
        "4c48851837c84f3db0d8ea5aafc5513c": {
          "model_module": "@jupyter-widgets/base",
          "model_name": "LayoutModel",
          "state": {
            "_view_name": "LayoutView",
            "grid_template_rows": null,
            "right": null,
            "justify_content": null,
            "_view_module": "@jupyter-widgets/base",
            "overflow": null,
            "_model_module_version": "1.2.0",
            "_view_count": null,
            "flex_flow": null,
            "width": null,
            "min_width": null,
            "border": null,
            "align_items": null,
            "bottom": null,
            "_model_module": "@jupyter-widgets/base",
            "top": null,
            "grid_column": null,
            "overflow_y": null,
            "overflow_x": null,
            "grid_auto_flow": null,
            "grid_area": null,
            "grid_template_columns": null,
            "flex": null,
            "_model_name": "LayoutModel",
            "justify_items": null,
            "grid_row": null,
            "max_height": null,
            "align_content": null,
            "visibility": null,
            "align_self": null,
            "height": null,
            "min_height": null,
            "padding": null,
            "grid_auto_rows": null,
            "grid_gap": null,
            "max_width": null,
            "order": null,
            "_view_module_version": "1.2.0",
            "grid_template_areas": null,
            "object_position": null,
            "object_fit": null,
            "grid_auto_columns": null,
            "margin": null,
            "display": null,
            "left": null
          }
        },
        "35061f03eeaa404f95acf9f9719c860d": {
          "model_module": "@jupyter-widgets/controls",
          "model_name": "FloatProgressModel",
          "state": {
            "_view_name": "ProgressView",
            "style": "IPY_MODEL_22bc18002cf0471a8402a30ee06e6f03",
            "_dom_classes": [],
            "description": "Downloading: 100%",
            "_model_name": "FloatProgressModel",
            "bar_style": "success",
            "max": 109,
            "_view_module": "@jupyter-widgets/controls",
            "_model_module_version": "1.5.0",
            "value": 109,
            "_view_count": null,
            "_view_module_version": "1.5.0",
            "orientation": "horizontal",
            "min": 0,
            "description_tooltip": null,
            "_model_module": "@jupyter-widgets/controls",
            "layout": "IPY_MODEL_024a7bd1dba24e3c9a8d915540e6f75e"
          }
        },
        "6330eeae1362433db41f3f6648e31bb9": {
          "model_module": "@jupyter-widgets/controls",
          "model_name": "HTMLModel",
          "state": {
            "_view_name": "HTMLView",
            "style": "IPY_MODEL_0829ac2adc2444ca80f9d0f23f8ae986",
            "_dom_classes": [],
            "description": "",
            "_model_name": "HTMLModel",
            "placeholder": "​",
            "_view_module": "@jupyter-widgets/controls",
            "_model_module_version": "1.5.0",
            "value": " 109/109 [00:00&lt;00:00, 199B/s]",
            "_view_count": null,
            "_view_module_version": "1.5.0",
            "description_tooltip": null,
            "_model_module": "@jupyter-widgets/controls",
            "layout": "IPY_MODEL_b6d4ae308813438990398da8aeee0476"
          }
        },
        "22bc18002cf0471a8402a30ee06e6f03": {
          "model_module": "@jupyter-widgets/controls",
          "model_name": "ProgressStyleModel",
          "state": {
            "_view_name": "StyleView",
            "_model_name": "ProgressStyleModel",
            "description_width": "initial",
            "_view_module": "@jupyter-widgets/base",
            "_model_module_version": "1.5.0",
            "_view_count": null,
            "_view_module_version": "1.2.0",
            "bar_color": null,
            "_model_module": "@jupyter-widgets/controls"
          }
        },
        "024a7bd1dba24e3c9a8d915540e6f75e": {
          "model_module": "@jupyter-widgets/base",
          "model_name": "LayoutModel",
          "state": {
            "_view_name": "LayoutView",
            "grid_template_rows": null,
            "right": null,
            "justify_content": null,
            "_view_module": "@jupyter-widgets/base",
            "overflow": null,
            "_model_module_version": "1.2.0",
            "_view_count": null,
            "flex_flow": null,
            "width": null,
            "min_width": null,
            "border": null,
            "align_items": null,
            "bottom": null,
            "_model_module": "@jupyter-widgets/base",
            "top": null,
            "grid_column": null,
            "overflow_y": null,
            "overflow_x": null,
            "grid_auto_flow": null,
            "grid_area": null,
            "grid_template_columns": null,
            "flex": null,
            "_model_name": "LayoutModel",
            "justify_items": null,
            "grid_row": null,
            "max_height": null,
            "align_content": null,
            "visibility": null,
            "align_self": null,
            "height": null,
            "min_height": null,
            "padding": null,
            "grid_auto_rows": null,
            "grid_gap": null,
            "max_width": null,
            "order": null,
            "_view_module_version": "1.2.0",
            "grid_template_areas": null,
            "object_position": null,
            "object_fit": null,
            "grid_auto_columns": null,
            "margin": null,
            "display": null,
            "left": null
          }
        },
        "0829ac2adc2444ca80f9d0f23f8ae986": {
          "model_module": "@jupyter-widgets/controls",
          "model_name": "DescriptionStyleModel",
          "state": {
            "_view_name": "StyleView",
            "_model_name": "DescriptionStyleModel",
            "description_width": "",
            "_view_module": "@jupyter-widgets/base",
            "_model_module_version": "1.5.0",
            "_view_count": null,
            "_view_module_version": "1.2.0",
            "_model_module": "@jupyter-widgets/controls"
          }
        },
        "b6d4ae308813438990398da8aeee0476": {
          "model_module": "@jupyter-widgets/base",
          "model_name": "LayoutModel",
          "state": {
            "_view_name": "LayoutView",
            "grid_template_rows": null,
            "right": null,
            "justify_content": null,
            "_view_module": "@jupyter-widgets/base",
            "overflow": null,
            "_model_module_version": "1.2.0",
            "_view_count": null,
            "flex_flow": null,
            "width": null,
            "min_width": null,
            "border": null,
            "align_items": null,
            "bottom": null,
            "_model_module": "@jupyter-widgets/base",
            "top": null,
            "grid_column": null,
            "overflow_y": null,
            "overflow_x": null,
            "grid_auto_flow": null,
            "grid_area": null,
            "grid_template_columns": null,
            "flex": null,
            "_model_name": "LayoutModel",
            "justify_items": null,
            "grid_row": null,
            "max_height": null,
            "align_content": null,
            "visibility": null,
            "align_self": null,
            "height": null,
            "min_height": null,
            "padding": null,
            "grid_auto_rows": null,
            "grid_gap": null,
            "max_width": null,
            "order": null,
            "_view_module_version": "1.2.0",
            "grid_template_areas": null,
            "object_position": null,
            "object_fit": null,
            "grid_auto_columns": null,
            "margin": null,
            "display": null,
            "left": null
          }
        },
        "649bd77015cf49b59350930bcbde7562": {
          "model_module": "@jupyter-widgets/controls",
          "model_name": "HBoxModel",
          "state": {
            "_view_name": "HBoxView",
            "_dom_classes": [],
            "_model_name": "HBoxModel",
            "_view_module": "@jupyter-widgets/controls",
            "_model_module_version": "1.5.0",
            "_view_count": null,
            "_view_module_version": "1.5.0",
            "box_style": "",
            "layout": "IPY_MODEL_481ebd106e95430595530f5a35c9fb2f",
            "_model_module": "@jupyter-widgets/controls",
            "children": [
              "IPY_MODEL_cce563ae6f594bb19f30f0c2bc284c37",
              "IPY_MODEL_78577ac025b74c2a971c7404a6862004"
            ]
          }
        },
        "481ebd106e95430595530f5a35c9fb2f": {
          "model_module": "@jupyter-widgets/base",
          "model_name": "LayoutModel",
          "state": {
            "_view_name": "LayoutView",
            "grid_template_rows": null,
            "right": null,
            "justify_content": null,
            "_view_module": "@jupyter-widgets/base",
            "overflow": null,
            "_model_module_version": "1.2.0",
            "_view_count": null,
            "flex_flow": null,
            "width": null,
            "min_width": null,
            "border": null,
            "align_items": null,
            "bottom": null,
            "_model_module": "@jupyter-widgets/base",
            "top": null,
            "grid_column": null,
            "overflow_y": null,
            "overflow_x": null,
            "grid_auto_flow": null,
            "grid_area": null,
            "grid_template_columns": null,
            "flex": null,
            "_model_name": "LayoutModel",
            "justify_items": null,
            "grid_row": null,
            "max_height": null,
            "align_content": null,
            "visibility": null,
            "align_self": null,
            "height": null,
            "min_height": null,
            "padding": null,
            "grid_auto_rows": null,
            "grid_gap": null,
            "max_width": null,
            "order": null,
            "_view_module_version": "1.2.0",
            "grid_template_areas": null,
            "object_position": null,
            "object_fit": null,
            "grid_auto_columns": null,
            "margin": null,
            "display": null,
            "left": null
          }
        },
        "cce563ae6f594bb19f30f0c2bc284c37": {
          "model_module": "@jupyter-widgets/controls",
          "model_name": "FloatProgressModel",
          "state": {
            "_view_name": "ProgressView",
            "style": "IPY_MODEL_572b4b64af6c494189b7fce1149220ae",
            "_dom_classes": [],
            "description": "Downloading: 100%",
            "_model_name": "FloatProgressModel",
            "bar_style": "success",
            "max": 682149,
            "_view_module": "@jupyter-widgets/controls",
            "_model_module_version": "1.5.0",
            "value": 682149,
            "_view_count": null,
            "_view_module_version": "1.5.0",
            "orientation": "horizontal",
            "min": 0,
            "description_tooltip": null,
            "_model_module": "@jupyter-widgets/controls",
            "layout": "IPY_MODEL_c5ec2015592f4cd1bbbc995c82f4c5ae"
          }
        },
        "78577ac025b74c2a971c7404a6862004": {
          "model_module": "@jupyter-widgets/controls",
          "model_name": "HTMLModel",
          "state": {
            "_view_name": "HTMLView",
            "style": "IPY_MODEL_f56d1cd0cde447458c5afed1fc2d334d",
            "_dom_classes": [],
            "description": "",
            "_model_name": "HTMLModel",
            "placeholder": "​",
            "_view_module": "@jupyter-widgets/controls",
            "_model_module_version": "1.5.0",
            "value": " 682k/682k [00:00&lt;00:00, 2.05MB/s]",
            "_view_count": null,
            "_view_module_version": "1.5.0",
            "description_tooltip": null,
            "_model_module": "@jupyter-widgets/controls",
            "layout": "IPY_MODEL_8fb19a24506044c4bbc1fab7efd7fc3d"
          }
        },
        "572b4b64af6c494189b7fce1149220ae": {
          "model_module": "@jupyter-widgets/controls",
          "model_name": "ProgressStyleModel",
          "state": {
            "_view_name": "StyleView",
            "_model_name": "ProgressStyleModel",
            "description_width": "initial",
            "_view_module": "@jupyter-widgets/base",
            "_model_module_version": "1.5.0",
            "_view_count": null,
            "_view_module_version": "1.2.0",
            "bar_color": null,
            "_model_module": "@jupyter-widgets/controls"
          }
        },
        "c5ec2015592f4cd1bbbc995c82f4c5ae": {
          "model_module": "@jupyter-widgets/base",
          "model_name": "LayoutModel",
          "state": {
            "_view_name": "LayoutView",
            "grid_template_rows": null,
            "right": null,
            "justify_content": null,
            "_view_module": "@jupyter-widgets/base",
            "overflow": null,
            "_model_module_version": "1.2.0",
            "_view_count": null,
            "flex_flow": null,
            "width": null,
            "min_width": null,
            "border": null,
            "align_items": null,
            "bottom": null,
            "_model_module": "@jupyter-widgets/base",
            "top": null,
            "grid_column": null,
            "overflow_y": null,
            "overflow_x": null,
            "grid_auto_flow": null,
            "grid_area": null,
            "grid_template_columns": null,
            "flex": null,
            "_model_name": "LayoutModel",
            "justify_items": null,
            "grid_row": null,
            "max_height": null,
            "align_content": null,
            "visibility": null,
            "align_self": null,
            "height": null,
            "min_height": null,
            "padding": null,
            "grid_auto_rows": null,
            "grid_gap": null,
            "max_width": null,
            "order": null,
            "_view_module_version": "1.2.0",
            "grid_template_areas": null,
            "object_position": null,
            "object_fit": null,
            "grid_auto_columns": null,
            "margin": null,
            "display": null,
            "left": null
          }
        },
        "f56d1cd0cde447458c5afed1fc2d334d": {
          "model_module": "@jupyter-widgets/controls",
          "model_name": "DescriptionStyleModel",
          "state": {
            "_view_name": "StyleView",
            "_model_name": "DescriptionStyleModel",
            "description_width": "",
            "_view_module": "@jupyter-widgets/base",
            "_model_module_version": "1.5.0",
            "_view_count": null,
            "_view_module_version": "1.2.0",
            "_model_module": "@jupyter-widgets/controls"
          }
        },
        "8fb19a24506044c4bbc1fab7efd7fc3d": {
          "model_module": "@jupyter-widgets/base",
          "model_name": "LayoutModel",
          "state": {
            "_view_name": "LayoutView",
            "grid_template_rows": null,
            "right": null,
            "justify_content": null,
            "_view_module": "@jupyter-widgets/base",
            "overflow": null,
            "_model_module_version": "1.2.0",
            "_view_count": null,
            "flex_flow": null,
            "width": null,
            "min_width": null,
            "border": null,
            "align_items": null,
            "bottom": null,
            "_model_module": "@jupyter-widgets/base",
            "top": null,
            "grid_column": null,
            "overflow_y": null,
            "overflow_x": null,
            "grid_auto_flow": null,
            "grid_area": null,
            "grid_template_columns": null,
            "flex": null,
            "_model_name": "LayoutModel",
            "justify_items": null,
            "grid_row": null,
            "max_height": null,
            "align_content": null,
            "visibility": null,
            "align_self": null,
            "height": null,
            "min_height": null,
            "padding": null,
            "grid_auto_rows": null,
            "grid_gap": null,
            "max_width": null,
            "order": null,
            "_view_module_version": "1.2.0",
            "grid_template_areas": null,
            "object_position": null,
            "object_fit": null,
            "grid_auto_columns": null,
            "margin": null,
            "display": null,
            "left": null
          }
        }
      }
    }
  },
  "cells": [
    {
      "cell_type": "markdown",
      "metadata": {
        "id": "view-in-github",
        "colab_type": "text"
      },
      "source": [
        "<a href=\"https://colab.research.google.com/github/jwon1991/Pororo/blob/main/PORORO.ipynb\" target=\"_parent\"><img src=\"https://colab.research.google.com/assets/colab-badge.svg\" alt=\"Open In Colab\"/></a>"
      ]
    },
    {
      "cell_type": "code",
      "metadata": {
        "colab": {
          "base_uri": "https://localhost:8080/"
        },
        "id": "iGZmL7CvE5qG",
        "outputId": "b1747814-45f0-4dfb-b20d-16062d9fb9f2"
      },
      "source": [
        "!pip install pororo"
      ],
      "execution_count": null,
      "outputs": [
        {
          "output_type": "stream",
          "text": [
            "Requirement already satisfied: pororo in /usr/local/lib/python3.7/dist-packages (0.4.2)\n",
            "Requirement already satisfied: fairseq>=0.10.2 in /usr/local/lib/python3.7/dist-packages (from pororo) (0.10.2)\n",
            "Requirement already satisfied: torchvision==0.7.0 in /usr/local/lib/python3.7/dist-packages (from pororo) (0.7.0)\n",
            "Requirement already satisfied: sentence-transformers>=0.4.1.2 in /usr/local/lib/python3.7/dist-packages (from pororo) (2.0.0)\n",
            "Requirement already satisfied: wget in /usr/local/lib/python3.7/dist-packages (from pororo) (3.2)\n",
            "Requirement already satisfied: marisa-trie in /usr/local/lib/python3.7/dist-packages (from pororo) (0.7.5)\n",
            "Requirement already satisfied: word2word in /usr/local/lib/python3.7/dist-packages (from pororo) (1.0.0)\n",
            "Requirement already satisfied: joblib in /usr/local/lib/python3.7/dist-packages (from pororo) (1.0.1)\n",
            "Requirement already satisfied: g2p-en in /usr/local/lib/python3.7/dist-packages (from pororo) (2.1.0)\n",
            "Requirement already satisfied: whoosh in /usr/local/lib/python3.7/dist-packages (from pororo) (2.7.4)\n",
            "Requirement already satisfied: pillow>=4.1.1 in /usr/local/lib/python3.7/dist-packages (from pororo) (7.1.2)\n",
            "Requirement already satisfied: lxml in /usr/local/lib/python3.7/dist-packages (from pororo) (4.2.6)\n",
            "Requirement already satisfied: torch==1.6.0 in /usr/local/lib/python3.7/dist-packages (from pororo) (1.6.0)\n",
            "Requirement already satisfied: kss in /usr/local/lib/python3.7/dist-packages (from pororo) (2.5.1)\n",
            "Requirement already satisfied: nltk>=3.5 in /usr/local/lib/python3.7/dist-packages (from pororo) (3.6.2)\n",
            "Requirement already satisfied: transformers>=4.0.0 in /usr/local/lib/python3.7/dist-packages (from pororo) (4.8.1)\n",
            "Requirement already satisfied: cffi in /usr/local/lib/python3.7/dist-packages (from fairseq>=0.10.2->pororo) (1.14.5)\n",
            "Requirement already satisfied: numpy in /usr/local/lib/python3.7/dist-packages (from fairseq>=0.10.2->pororo) (1.19.5)\n",
            "Requirement already satisfied: regex in /usr/local/lib/python3.7/dist-packages (from fairseq>=0.10.2->pororo) (2019.12.20)\n",
            "Requirement already satisfied: sacrebleu>=1.4.12 in /usr/local/lib/python3.7/dist-packages (from fairseq>=0.10.2->pororo) (1.5.1)\n",
            "Requirement already satisfied: tqdm in /usr/local/lib/python3.7/dist-packages (from fairseq>=0.10.2->pororo) (4.41.1)\n",
            "Requirement already satisfied: cython in /usr/local/lib/python3.7/dist-packages (from fairseq>=0.10.2->pororo) (0.29.23)\n",
            "Requirement already satisfied: hydra-core in /usr/local/lib/python3.7/dist-packages (from fairseq>=0.10.2->pororo) (1.1.0)\n",
            "Requirement already satisfied: dataclasses in /usr/local/lib/python3.7/dist-packages (from fairseq>=0.10.2->pororo) (0.6)\n",
            "Requirement already satisfied: scikit-learn in /usr/local/lib/python3.7/dist-packages (from sentence-transformers>=0.4.1.2->pororo) (0.22.2.post1)\n",
            "Requirement already satisfied: sentencepiece in /usr/local/lib/python3.7/dist-packages (from sentence-transformers>=0.4.1.2->pororo) (0.1.96)\n",
            "Requirement already satisfied: huggingface-hub in /usr/local/lib/python3.7/dist-packages (from sentence-transformers>=0.4.1.2->pororo) (0.0.12)\n",
            "Requirement already satisfied: scipy in /usr/local/lib/python3.7/dist-packages (from sentence-transformers>=0.4.1.2->pororo) (1.4.1)\n",
            "Requirement already satisfied: requests in /usr/local/lib/python3.7/dist-packages (from word2word->pororo) (2.23.0)\n",
            "Requirement already satisfied: distance>=0.1.3 in /usr/local/lib/python3.7/dist-packages (from g2p-en->pororo) (0.1.3)\n",
            "Requirement already satisfied: inflect>=0.3.1 in /usr/local/lib/python3.7/dist-packages (from g2p-en->pororo) (2.1.0)\n",
            "Requirement already satisfied: future in /usr/local/lib/python3.7/dist-packages (from torch==1.6.0->pororo) (0.16.0)\n",
            "Requirement already satisfied: click in /usr/local/lib/python3.7/dist-packages (from nltk>=3.5->pororo) (7.1.2)\n",
            "Requirement already satisfied: filelock in /usr/local/lib/python3.7/dist-packages (from transformers>=4.0.0->pororo) (3.0.12)\n",
            "Requirement already satisfied: pyyaml in /usr/local/lib/python3.7/dist-packages (from transformers>=4.0.0->pororo) (3.13)\n",
            "Requirement already satisfied: packaging in /usr/local/lib/python3.7/dist-packages (from transformers>=4.0.0->pororo) (20.9)\n",
            "Requirement already satisfied: sacremoses in /usr/local/lib/python3.7/dist-packages (from transformers>=4.0.0->pororo) (0.0.45)\n",
            "Requirement already satisfied: tokenizers<0.11,>=0.10.1 in /usr/local/lib/python3.7/dist-packages (from transformers>=4.0.0->pororo) (0.10.3)\n",
            "Requirement already satisfied: importlib-metadata; python_version < \"3.8\" in /usr/local/lib/python3.7/dist-packages (from transformers>=4.0.0->pororo) (4.5.0)\n",
            "Requirement already satisfied: pycparser in /usr/local/lib/python3.7/dist-packages (from cffi->fairseq>=0.10.2->pororo) (2.20)\n",
            "Requirement already satisfied: portalocker==2.0.0 in /usr/local/lib/python3.7/dist-packages (from sacrebleu>=1.4.12->fairseq>=0.10.2->pororo) (2.0.0)\n",
            "Requirement already satisfied: antlr4-python3-runtime==4.8 in /usr/local/lib/python3.7/dist-packages (from hydra-core->fairseq>=0.10.2->pororo) (4.8)\n",
            "Requirement already satisfied: omegaconf==2.1.* in /usr/local/lib/python3.7/dist-packages (from hydra-core->fairseq>=0.10.2->pororo) (2.1.0)\n",
            "Requirement already satisfied: importlib-resources; python_version < \"3.9\" in /usr/local/lib/python3.7/dist-packages (from hydra-core->fairseq>=0.10.2->pororo) (5.1.4)\n",
            "Requirement already satisfied: typing-extensions in /usr/local/lib/python3.7/dist-packages (from huggingface-hub->sentence-transformers>=0.4.1.2->pororo) (3.7.4.3)\n",
            "Requirement already satisfied: urllib3!=1.25.0,!=1.25.1,<1.26,>=1.21.1 in /usr/local/lib/python3.7/dist-packages (from requests->word2word->pororo) (1.24.3)\n",
            "Requirement already satisfied: idna<3,>=2.5 in /usr/local/lib/python3.7/dist-packages (from requests->word2word->pororo) (2.10)\n",
            "Requirement already satisfied: certifi>=2017.4.17 in /usr/local/lib/python3.7/dist-packages (from requests->word2word->pororo) (2021.5.30)\n",
            "Requirement already satisfied: chardet<4,>=3.0.2 in /usr/local/lib/python3.7/dist-packages (from requests->word2word->pororo) (3.0.4)\n",
            "Requirement already satisfied: pyparsing>=2.0.2 in /usr/local/lib/python3.7/dist-packages (from packaging->transformers>=4.0.0->pororo) (2.4.7)\n",
            "Requirement already satisfied: six in /usr/local/lib/python3.7/dist-packages (from sacremoses->transformers>=4.0.0->pororo) (1.15.0)\n",
            "Requirement already satisfied: zipp>=0.5 in /usr/local/lib/python3.7/dist-packages (from importlib-metadata; python_version < \"3.8\"->transformers>=4.0.0->pororo) (3.4.1)\n"
          ],
          "name": "stdout"
        }
      ]
    },
    {
      "cell_type": "code",
      "metadata": {
        "colab": {
          "base_uri": "https://localhost:8080/"
        },
        "id": "RUGiiL40FBIV",
        "outputId": "7e450c2f-b824-4277-938c-3fe6fead1aa2"
      },
      "source": [
        "!git clone https://github.com/kakaobrain/pororo.git"
      ],
      "execution_count": null,
      "outputs": [
        {
          "output_type": "stream",
          "text": [
            "Cloning into 'pororo'...\n",
            "remote: Enumerating objects: 2119, done.\u001b[K\n",
            "remote: Counting objects: 100% (29/29), done.\u001b[K\n",
            "remote: Compressing objects: 100% (25/25), done.\u001b[K\n",
            "remote: Total 2119 (delta 11), reused 12 (delta 4), pack-reused 2090\u001b[K\n",
            "Receiving objects: 100% (2119/2119), 13.09 MiB | 27.48 MiB/s, done.\n",
            "Resolving deltas: 100% (1448/1448), done.\n"
          ],
          "name": "stdout"
        }
      ]
    },
    {
      "cell_type": "code",
      "metadata": {
        "colab": {
          "base_uri": "https://localhost:8080/"
        },
        "id": "T221r8o6FzuK",
        "outputId": "c7f649ea-d917-40d4-edb4-7f65b6a51b63"
      },
      "source": [
        "cd pororo"
      ],
      "execution_count": null,
      "outputs": [
        {
          "output_type": "stream",
          "text": [
            "/content/pororo\n"
          ],
          "name": "stdout"
        }
      ]
    },
    {
      "cell_type": "code",
      "metadata": {
        "colab": {
          "base_uri": "https://localhost:8080/"
        },
        "id": "-xwgpMNJF5Ad",
        "outputId": "bd6553b6-47f1-4a92-c340-a03e93cb6e5d"
      },
      "source": [
        "pip install -e ."
      ],
      "execution_count": null,
      "outputs": [
        {
          "output_type": "stream",
          "text": [
            "Obtaining file:///content/pororo\n",
            "Requirement already satisfied: torch==1.6.0 in /usr/local/lib/python3.7/dist-packages (from pororo==0.4.1) (1.6.0)\n",
            "Requirement already satisfied: torchvision==0.7.0 in /usr/local/lib/python3.7/dist-packages (from pororo==0.4.1) (0.7.0)\n",
            "Requirement already satisfied: pillow>=4.1.1 in /usr/local/lib/python3.7/dist-packages (from pororo==0.4.1) (7.1.2)\n",
            "Requirement already satisfied: fairseq>=0.10.2 in /usr/local/lib/python3.7/dist-packages (from pororo==0.4.1) (0.10.2)\n",
            "Requirement already satisfied: transformers>=4.0.0 in /usr/local/lib/python3.7/dist-packages (from pororo==0.4.1) (4.8.1)\n",
            "Requirement already satisfied: sentence_transformers>=0.4.1.2 in /usr/local/lib/python3.7/dist-packages (from pororo==0.4.1) (2.0.0)\n",
            "Requirement already satisfied: nltk>=3.5 in /usr/local/lib/python3.7/dist-packages (from pororo==0.4.1) (3.6.2)\n",
            "Requirement already satisfied: word2word in /usr/local/lib/python3.7/dist-packages (from pororo==0.4.1) (1.0.0)\n",
            "Requirement already satisfied: wget in /usr/local/lib/python3.7/dist-packages (from pororo==0.4.1) (3.2)\n",
            "Requirement already satisfied: joblib in /usr/local/lib/python3.7/dist-packages (from pororo==0.4.1) (1.0.1)\n",
            "Requirement already satisfied: lxml in /usr/local/lib/python3.7/dist-packages (from pororo==0.4.1) (4.2.6)\n",
            "Requirement already satisfied: g2p_en in /usr/local/lib/python3.7/dist-packages (from pororo==0.4.1) (2.1.0)\n",
            "Requirement already satisfied: whoosh in /usr/local/lib/python3.7/dist-packages (from pororo==0.4.1) (2.7.4)\n",
            "Requirement already satisfied: marisa-trie in /usr/local/lib/python3.7/dist-packages (from pororo==0.4.1) (0.7.5)\n",
            "Requirement already satisfied: kss in /usr/local/lib/python3.7/dist-packages (from pororo==0.4.1) (2.5.1)\n",
            "Requirement already satisfied: numpy in /usr/local/lib/python3.7/dist-packages (from torch==1.6.0->pororo==0.4.1) (1.19.5)\n",
            "Requirement already satisfied: future in /usr/local/lib/python3.7/dist-packages (from torch==1.6.0->pororo==0.4.1) (0.16.0)\n",
            "Requirement already satisfied: sacrebleu>=1.4.12 in /usr/local/lib/python3.7/dist-packages (from fairseq>=0.10.2->pororo==0.4.1) (1.5.1)\n",
            "Requirement already satisfied: cffi in /usr/local/lib/python3.7/dist-packages (from fairseq>=0.10.2->pororo==0.4.1) (1.14.5)\n",
            "Requirement already satisfied: hydra-core in /usr/local/lib/python3.7/dist-packages (from fairseq>=0.10.2->pororo==0.4.1) (1.1.0)\n",
            "Requirement already satisfied: dataclasses in /usr/local/lib/python3.7/dist-packages (from fairseq>=0.10.2->pororo==0.4.1) (0.6)\n",
            "Requirement already satisfied: tqdm in /usr/local/lib/python3.7/dist-packages (from fairseq>=0.10.2->pororo==0.4.1) (4.41.1)\n",
            "Requirement already satisfied: regex in /usr/local/lib/python3.7/dist-packages (from fairseq>=0.10.2->pororo==0.4.1) (2019.12.20)\n",
            "Requirement already satisfied: cython in /usr/local/lib/python3.7/dist-packages (from fairseq>=0.10.2->pororo==0.4.1) (0.29.23)\n",
            "Requirement already satisfied: filelock in /usr/local/lib/python3.7/dist-packages (from transformers>=4.0.0->pororo==0.4.1) (3.0.12)\n",
            "Requirement already satisfied: packaging in /usr/local/lib/python3.7/dist-packages (from transformers>=4.0.0->pororo==0.4.1) (20.9)\n",
            "Requirement already satisfied: importlib-metadata; python_version < \"3.8\" in /usr/local/lib/python3.7/dist-packages (from transformers>=4.0.0->pororo==0.4.1) (4.5.0)\n",
            "Requirement already satisfied: sacremoses in /usr/local/lib/python3.7/dist-packages (from transformers>=4.0.0->pororo==0.4.1) (0.0.45)\n",
            "Requirement already satisfied: tokenizers<0.11,>=0.10.1 in /usr/local/lib/python3.7/dist-packages (from transformers>=4.0.0->pororo==0.4.1) (0.10.3)\n",
            "Requirement already satisfied: pyyaml in /usr/local/lib/python3.7/dist-packages (from transformers>=4.0.0->pororo==0.4.1) (3.13)\n",
            "Requirement already satisfied: huggingface-hub==0.0.12 in /usr/local/lib/python3.7/dist-packages (from transformers>=4.0.0->pororo==0.4.1) (0.0.12)\n",
            "Requirement already satisfied: requests in /usr/local/lib/python3.7/dist-packages (from transformers>=4.0.0->pororo==0.4.1) (2.23.0)\n",
            "Requirement already satisfied: scikit-learn in /usr/local/lib/python3.7/dist-packages (from sentence_transformers>=0.4.1.2->pororo==0.4.1) (0.22.2.post1)\n",
            "Requirement already satisfied: sentencepiece in /usr/local/lib/python3.7/dist-packages (from sentence_transformers>=0.4.1.2->pororo==0.4.1) (0.1.96)\n",
            "Requirement already satisfied: scipy in /usr/local/lib/python3.7/dist-packages (from sentence_transformers>=0.4.1.2->pororo==0.4.1) (1.4.1)\n",
            "Requirement already satisfied: click in /usr/local/lib/python3.7/dist-packages (from nltk>=3.5->pororo==0.4.1) (7.1.2)\n",
            "Requirement already satisfied: distance>=0.1.3 in /usr/local/lib/python3.7/dist-packages (from g2p_en->pororo==0.4.1) (0.1.3)\n",
            "Requirement already satisfied: inflect>=0.3.1 in /usr/local/lib/python3.7/dist-packages (from g2p_en->pororo==0.4.1) (2.1.0)\n",
            "Requirement already satisfied: portalocker==2.0.0 in /usr/local/lib/python3.7/dist-packages (from sacrebleu>=1.4.12->fairseq>=0.10.2->pororo==0.4.1) (2.0.0)\n",
            "Requirement already satisfied: pycparser in /usr/local/lib/python3.7/dist-packages (from cffi->fairseq>=0.10.2->pororo==0.4.1) (2.20)\n",
            "Requirement already satisfied: importlib-resources; python_version < \"3.9\" in /usr/local/lib/python3.7/dist-packages (from hydra-core->fairseq>=0.10.2->pororo==0.4.1) (5.1.4)\n",
            "Requirement already satisfied: antlr4-python3-runtime==4.8 in /usr/local/lib/python3.7/dist-packages (from hydra-core->fairseq>=0.10.2->pororo==0.4.1) (4.8)\n",
            "Requirement already satisfied: omegaconf==2.1.* in /usr/local/lib/python3.7/dist-packages (from hydra-core->fairseq>=0.10.2->pororo==0.4.1) (2.1.0)\n",
            "Requirement already satisfied: pyparsing>=2.0.2 in /usr/local/lib/python3.7/dist-packages (from packaging->transformers>=4.0.0->pororo==0.4.1) (2.4.7)\n",
            "Requirement already satisfied: typing-extensions>=3.6.4; python_version < \"3.8\" in /usr/local/lib/python3.7/dist-packages (from importlib-metadata; python_version < \"3.8\"->transformers>=4.0.0->pororo==0.4.1) (3.7.4.3)\n",
            "Requirement already satisfied: zipp>=0.5 in /usr/local/lib/python3.7/dist-packages (from importlib-metadata; python_version < \"3.8\"->transformers>=4.0.0->pororo==0.4.1) (3.4.1)\n",
            "Requirement already satisfied: six in /usr/local/lib/python3.7/dist-packages (from sacremoses->transformers>=4.0.0->pororo==0.4.1) (1.15.0)\n",
            "Requirement already satisfied: urllib3!=1.25.0,!=1.25.1,<1.26,>=1.21.1 in /usr/local/lib/python3.7/dist-packages (from requests->transformers>=4.0.0->pororo==0.4.1) (1.24.3)\n",
            "Requirement already satisfied: certifi>=2017.4.17 in /usr/local/lib/python3.7/dist-packages (from requests->transformers>=4.0.0->pororo==0.4.1) (2021.5.30)\n",
            "Requirement already satisfied: chardet<4,>=3.0.2 in /usr/local/lib/python3.7/dist-packages (from requests->transformers>=4.0.0->pororo==0.4.1) (3.0.4)\n",
            "Requirement already satisfied: idna<3,>=2.5 in /usr/local/lib/python3.7/dist-packages (from requests->transformers>=4.0.0->pororo==0.4.1) (2.10)\n",
            "Installing collected packages: pororo\n",
            "  Found existing installation: pororo 0.4.2\n",
            "    Uninstalling pororo-0.4.2:\n",
            "      Successfully uninstalled pororo-0.4.2\n",
            "  Running setup.py develop for pororo\n",
            "Successfully installed pororo\n"
          ],
          "name": "stdout"
        }
      ]
    },
    {
      "cell_type": "code",
      "metadata": {
        "colab": {
          "base_uri": "https://localhost:8080/"
        },
        "id": "R4LVphzMF5X9",
        "outputId": "3d4e4a45-ed15-4f7c-cfe9-58ee356bea29"
      },
      "source": [
        "!bash asr-install.sh"
      ],
      "execution_count": null,
      "outputs": [
        {
          "output_type": "stream",
          "text": [
            "OSTYPE: linux-gnu\n",
            "Requirement already satisfied: soundfile in /usr/local/lib/python3.7/dist-packages (0.10.3.post1)\n",
            "Collecting torchaudio==0.6.0\n",
            "\u001b[?25l  Downloading https://files.pythonhosted.org/packages/aa/70/cb37bae080a2551703ed41b5c7b07cff2628b6301e75f7740e0d5efabb32/torchaudio-0.6.0-cp37-cp37m-manylinux1_x86_64.whl (6.8MB)\n",
            "\u001b[K     |████████████████████████████████| 6.8MB 2.8MB/s \n",
            "\u001b[?25hRequirement already satisfied: cffi>=1.0 in /usr/local/lib/python3.7/dist-packages (from soundfile) (1.14.5)\n",
            "Requirement already satisfied: torch==1.6.0 in /usr/local/lib/python3.7/dist-packages (from torchaudio==0.6.0) (1.6.0)\n",
            "Requirement already satisfied: pycparser in /usr/local/lib/python3.7/dist-packages (from cffi>=1.0->soundfile) (2.20)\n",
            "Requirement already satisfied: numpy in /usr/local/lib/python3.7/dist-packages (from torch==1.6.0->torchaudio==0.6.0) (1.19.5)\n",
            "Requirement already satisfied: future in /usr/local/lib/python3.7/dist-packages (from torch==1.6.0->torchaudio==0.6.0) (0.16.0)\n",
            "Installing collected packages: torchaudio\n",
            "Successfully installed torchaudio-0.6.0\n",
            "asr-install.sh: line 25: conda: command not found\n",
            "Collecting pydub\n",
            "  Downloading https://files.pythonhosted.org/packages/a6/53/d78dc063216e62fc55f6b2eebb447f6a4b0a59f55c8406376f76bf959b08/pydub-0.25.1-py2.py3-none-any.whl\n",
            "Requirement already satisfied: editdistance==0.5.3 in /usr/local/lib/python3.7/dist-packages (0.5.3)\n",
            "Collecting SoundFile==0.10.2\n",
            "  Downloading https://files.pythonhosted.org/packages/68/64/1191352221e2ec90db7492b4bf0c04fd9d2508de67b3f39cbf093cd6bd86/SoundFile-0.10.2-py2.py3-none-any.whl\n",
            "Collecting numba==0.48\n",
            "\u001b[?25l  Downloading https://files.pythonhosted.org/packages/39/dc/5ce4a94d98e8a31cab21b150e23ca2f09a7dd354c06a69f71801ecd890db/numba-0.48.0-1-cp37-cp37m-manylinux2014_x86_64.whl (3.5MB)\n",
            "\u001b[K     |████████████████████████████████| 3.6MB 5.2MB/s \n",
            "\u001b[?25hRequirement already satisfied: cffi>=1.0 in /usr/local/lib/python3.7/dist-packages (from SoundFile==0.10.2) (1.14.5)\n",
            "Requirement already satisfied: setuptools in /usr/local/lib/python3.7/dist-packages (from numba==0.48) (57.0.0)\n",
            "Requirement already satisfied: numpy>=1.15 in /usr/local/lib/python3.7/dist-packages (from numba==0.48) (1.19.5)\n",
            "Collecting llvmlite<0.32.0,>=0.31.0dev0\n",
            "\u001b[?25l  Downloading https://files.pythonhosted.org/packages/a0/10/d02c0ac683fc47ecda3426249509cf771d748b6a2c0e9d5ebbee76a7b80a/llvmlite-0.31.0-cp37-cp37m-manylinux1_x86_64.whl (20.2MB)\n",
            "\u001b[K     |████████████████████████████████| 20.2MB 1.3MB/s \n",
            "\u001b[?25hRequirement already satisfied: pycparser in /usr/local/lib/python3.7/dist-packages (from cffi>=1.0->SoundFile==0.10.2) (2.20)\n",
            "Installing collected packages: pydub, SoundFile, llvmlite, numba\n",
            "  Found existing installation: SoundFile 0.10.3.post1\n",
            "    Uninstalling SoundFile-0.10.3.post1:\n",
            "      Successfully uninstalled SoundFile-0.10.3.post1\n",
            "  Found existing installation: llvmlite 0.34.0\n",
            "    Uninstalling llvmlite-0.34.0:\n",
            "      Successfully uninstalled llvmlite-0.34.0\n",
            "  Found existing installation: numba 0.51.2\n",
            "    Uninstalling numba-0.51.2:\n",
            "      Successfully uninstalled numba-0.51.2\n",
            "Successfully installed SoundFile-0.10.2 llvmlite-0.31.0 numba-0.48.0 pydub-0.25.1\n",
            "Get:1 http://security.ubuntu.com/ubuntu bionic-security InRelease [88.7 kB]\n",
            "Ign:2 https://developer.download.nvidia.com/compute/cuda/repos/ubuntu1804/x86_64  InRelease\n",
            "Get:3 https://cloud.r-project.org/bin/linux/ubuntu bionic-cran40/ InRelease [3,626 B]\n",
            "Ign:4 https://developer.download.nvidia.com/compute/machine-learning/repos/ubuntu1804/x86_64  InRelease\n",
            "Hit:5 http://archive.ubuntu.com/ubuntu bionic InRelease\n",
            "Get:6 https://developer.download.nvidia.com/compute/cuda/repos/ubuntu1804/x86_64  Release [697 B]\n",
            "Hit:7 https://developer.download.nvidia.com/compute/machine-learning/repos/ubuntu1804/x86_64  Release\n",
            "Get:8 https://developer.download.nvidia.com/compute/cuda/repos/ubuntu1804/x86_64  Release.gpg [836 B]\n",
            "Get:9 http://ppa.launchpad.net/c2d4u.team/c2d4u4.0+/ubuntu bionic InRelease [15.9 kB]\n",
            "Get:10 http://archive.ubuntu.com/ubuntu bionic-updates InRelease [88.7 kB]\n",
            "Get:11 http://security.ubuntu.com/ubuntu bionic-security/universe amd64 Packages [1,418 kB]\n",
            "Hit:12 http://ppa.launchpad.net/cran/libgit2/ubuntu bionic InRelease\n",
            "Get:13 http://archive.ubuntu.com/ubuntu bionic-backports InRelease [74.6 kB]\n",
            "Get:14 http://security.ubuntu.com/ubuntu bionic-security/restricted amd64 Packages [473 kB]\n",
            "Get:15 http://security.ubuntu.com/ubuntu bionic-security/main amd64 Packages [2,221 kB]\n",
            "Get:16 http://ppa.launchpad.net/deadsnakes/ppa/ubuntu bionic InRelease [15.9 kB]\n",
            "Get:17 http://ppa.launchpad.net/graphics-drivers/ppa/ubuntu bionic InRelease [21.3 kB]\n",
            "Ign:19 https://developer.download.nvidia.com/compute/cuda/repos/ubuntu1804/x86_64  Packages\n",
            "Get:19 https://developer.download.nvidia.com/compute/cuda/repos/ubuntu1804/x86_64  Packages [630 kB]\n",
            "Get:20 http://ppa.launchpad.net/c2d4u.team/c2d4u4.0+/ubuntu bionic/main Sources [1,777 kB]\n",
            "Get:21 http://archive.ubuntu.com/ubuntu bionic-updates/main amd64 Packages [2,656 kB]\n",
            "Get:22 http://archive.ubuntu.com/ubuntu bionic-updates/universe amd64 Packages [2,188 kB]\n",
            "Get:23 http://archive.ubuntu.com/ubuntu bionic-updates/restricted amd64 Packages [506 kB]\n",
            "Get:24 http://ppa.launchpad.net/c2d4u.team/c2d4u4.0+/ubuntu bionic/main amd64 Packages [909 kB]\n",
            "Get:25 http://ppa.launchpad.net/deadsnakes/ppa/ubuntu bionic/main amd64 Packages [40.9 kB]\n",
            "Get:26 http://ppa.launchpad.net/graphics-drivers/ppa/ubuntu bionic/main amd64 Packages [41.5 kB]\n",
            "Fetched 13.2 MB in 4s (3,315 kB/s)\n",
            "Reading package lists... Done\n",
            "Reading package lists... Done\n",
            "Building dependency tree       \n",
            "Reading state information... Done\n",
            "Calculating upgrade... Done\n",
            "The following packages have been kept back:\n",
            "  cuda-drivers libcudnn8 libcudnn8-dev libnccl-dev libnccl2\n",
            "  linux-headers-generic\n",
            "The following packages will be upgraded:\n",
            "  binutils binutils-common binutils-x86-64-linux-gnu cuda-compat-11-0 gnupg2\n",
            "  libaudit-common libaudit1 libbinutils libc-bin libcublas-dev libcublas10\n",
            "  libcudnn7 libcudnn7-dev libhogweed4 libldap-2.4-2 libldap-common liblz4-1\n",
            "  libnettle6 libnvidia-cfg1-465 libnvidia-common-465 libnvidia-compute-465\n",
            "  libnvidia-decode-465 libnvidia-encode-465 libnvidia-extra-465\n",
            "  libnvidia-fbc1-465 libnvidia-gl-465 libnvidia-ifr1-465 libopenexr-dev\n",
            "  libopenexr22 libp11-kit0 libpam-modules libpam-modules-bin libpam-runtime\n",
            "  libpam-systemd libpam0g libperl5.26 librados2 librbd1 libsasl2-2\n",
            "  libsasl2-modules-db libseccomp2 libsystemd0 libudev1 libxml2 libxml2-dev\n",
            "  libxnvctrl0 libzstd1 linux-libc-dev nvidia-compute-utils-465 nvidia-dkms-465\n",
            "  nvidia-driver-465 nvidia-kernel-common-465 nvidia-kernel-source-465\n",
            "  nvidia-modprobe nvidia-settings nvidia-utils-465 openssl perl perl-base\n",
            "  perl-modules-5.26 r-cran-broom r-cran-colorspace r-cran-cpp11 r-cran-curl\n",
            "  r-cran-dplyr r-cran-gert r-cran-ggplot2 r-cran-mime r-cran-rmarkdown\n",
            "  r-cran-testthat r-cran-xfun systemd systemd-sysv tar ubuntu-keyring udev\n",
            "  xserver-xorg-video-nvidia-465\n",
            "77 upgraded, 0 newly installed, 0 to remove and 6 not upgraded.\n",
            "Need to get 675 MB of archives.\n",
            "After this operation, 70.2 MB of additional disk space will be used.\n",
            "Get:1 https://developer.download.nvidia.com/compute/cuda/repos/ubuntu1804/x86_64  cuda-compat-11-0 450.119.04-1 [6,712 kB]\n",
            "Get:2 http://ppa.launchpad.net/graphics-drivers/ppa/ubuntu bionic/main amd64 nvidia-driver-465 amd64 465.31-0ubuntu0.18.04.1 [435 kB]\n",
            "Get:3 http://archive.ubuntu.com/ubuntu bionic-updates/main amd64 libperl5.26 amd64 5.26.1-6ubuntu0.5 [3,534 kB]\n",
            "Get:4 https://developer.download.nvidia.com/compute/cuda/repos/ubuntu1804/x86_64  libcublas10 10.2.3.254-1 [43.1 MB]\n",
            "Get:5 http://ppa.launchpad.net/graphics-drivers/ppa/ubuntu bionic/main amd64 libnvidia-extra-465 amd64 465.31-0ubuntu0.18.04.1 [42.7 kB]\n",
            "Get:6 http://archive.ubuntu.com/ubuntu bionic-updates/main amd64 perl amd64 5.26.1-6ubuntu0.5 [201 kB]\n",
            "Get:7 http://archive.ubuntu.com/ubuntu bionic-updates/main amd64 perl-base amd64 5.26.1-6ubuntu0.5 [1,391 kB]\n",
            "Get:8 http://archive.ubuntu.com/ubuntu bionic-updates/main amd64 perl-modules-5.26 all 5.26.1-6ubuntu0.5 [2,762 kB]\n",
            "Get:9 http://ppa.launchpad.net/graphics-drivers/ppa/ubuntu bionic/main amd64 libnvidia-common-465 all 465.31-0ubuntu0.18.04.1 [9,652 B]\n",
            "Get:10 http://archive.ubuntu.com/ubuntu bionic-updates/main amd64 tar amd64 1.29b-2ubuntu0.2 [234 kB]\n",
            "Get:11 http://archive.ubuntu.com/ubuntu bionic-updates/main amd64 libc-bin amd64 2.27-3ubuntu1.4 [643 kB]\n",
            "Get:12 http://archive.ubuntu.com/ubuntu bionic-updates/main amd64 libaudit-common all 1:2.8.2-1ubuntu1.1 [4,068 B]\n",
            "Get:13 http://archive.ubuntu.com/ubuntu bionic-updates/main amd64 libaudit1 amd64 1:2.8.2-1ubuntu1.1 [38.7 kB]\n",
            "Get:14 http://archive.ubuntu.com/ubuntu bionic-updates/main amd64 libpam0g amd64 1.1.8-3.6ubuntu2.18.04.3 [55.0 kB]\n",
            "Get:15 http://archive.ubuntu.com/ubuntu bionic-updates/main amd64 libpam-modules-bin amd64 1.1.8-3.6ubuntu2.18.04.3 [40.3 kB]\n",
            "Get:16 http://archive.ubuntu.com/ubuntu bionic-updates/main amd64 libpam-modules amd64 1.1.8-3.6ubuntu2.18.04.3 [252 kB]\n",
            "Get:17 http://archive.ubuntu.com/ubuntu bionic-updates/main amd64 libpam-runtime all 1.1.8-3.6ubuntu2.18.04.3 [37.1 kB]\n",
            "Get:18 http://archive.ubuntu.com/ubuntu bionic-updates/main amd64 systemd-sysv amd64 237-3ubuntu10.48 [15.5 kB]\n",
            "Get:19 http://ppa.launchpad.net/graphics-drivers/ppa/ubuntu bionic/main amd64 libnvidia-gl-465 amd64 465.31-0ubuntu0.18.04.1 [118 MB]\n",
            "Get:20 http://archive.ubuntu.com/ubuntu bionic-updates/main amd64 libpam-systemd amd64 237-3ubuntu10.48 [107 kB]\n",
            "Get:21 http://archive.ubuntu.com/ubuntu bionic-updates/main amd64 libsystemd0 amd64 237-3ubuntu10.48 [209 kB]\n",
            "Get:22 http://archive.ubuntu.com/ubuntu bionic-updates/main amd64 systemd amd64 237-3ubuntu10.48 [2,915 kB]\n",
            "Get:23 https://developer.download.nvidia.com/compute/cuda/repos/ubuntu1804/x86_64  libcublas-dev 10.2.3.254-1 [42.4 MB]\n",
            "Get:24 http://archive.ubuntu.com/ubuntu bionic-updates/main amd64 udev amd64 237-3ubuntu10.48 [1,103 kB]\n",
            "Get:25 http://archive.ubuntu.com/ubuntu bionic-updates/main amd64 libudev1 amd64 237-3ubuntu10.48 [58.0 kB]\n",
            "Get:26 http://archive.ubuntu.com/ubuntu bionic-updates/main amd64 liblz4-1 amd64 0.0~r131-2ubuntu3.1 [48.5 kB]\n",
            "Get:27 http://archive.ubuntu.com/ubuntu bionic-updates/main amd64 libzstd1 amd64 1.3.3+dfsg-2ubuntu1.2 [189 kB]\n",
            "Get:28 http://archive.ubuntu.com/ubuntu bionic-updates/main amd64 libnettle6 amd64 3.4.1-0ubuntu0.18.04.1 [111 kB]\n",
            "Get:29 http://archive.ubuntu.com/ubuntu bionic-updates/main amd64 libhogweed4 amd64 3.4.1-0ubuntu0.18.04.1 [140 kB]\n",
            "Get:30 http://archive.ubuntu.com/ubuntu bionic-updates/main amd64 libp11-kit0 amd64 0.23.9-2ubuntu0.1 [187 kB]\n",
            "Get:31 http://archive.ubuntu.com/ubuntu bionic-updates/main amd64 libseccomp2 amd64 2.5.1-1ubuntu1~18.04.1 [43.1 kB]\n",
            "Get:32 http://archive.ubuntu.com/ubuntu bionic-updates/main amd64 ubuntu-keyring all 2018.09.18.1~18.04.2 [22.3 kB]\n",
            "Get:33 http://archive.ubuntu.com/ubuntu bionic-updates/main amd64 libxml2-dev amd64 2.9.4+dfsg1-6.1ubuntu1.4 [757 kB]\n",
            "Get:34 http://archive.ubuntu.com/ubuntu bionic-updates/main amd64 libxml2 amd64 2.9.4+dfsg1-6.1ubuntu1.4 [664 kB]\n",
            "Get:35 http://archive.ubuntu.com/ubuntu bionic-updates/main amd64 openssl amd64 1.1.1-1ubuntu2.1~18.04.9 [614 kB]\n",
            "Get:36 http://archive.ubuntu.com/ubuntu bionic-updates/main amd64 binutils-x86-64-linux-gnu amd64 2.30-21ubuntu1~18.04.5 [1,839 kB]\n",
            "Get:37 http://archive.ubuntu.com/ubuntu bionic-updates/main amd64 binutils-common amd64 2.30-21ubuntu1~18.04.5 [197 kB]\n",
            "Get:38 http://archive.ubuntu.com/ubuntu bionic-updates/main amd64 binutils amd64 2.30-21ubuntu1~18.04.5 [3,388 B]\n",
            "Get:39 http://archive.ubuntu.com/ubuntu bionic-updates/main amd64 libbinutils amd64 2.30-21ubuntu1~18.04.5 [489 kB]\n",
            "Get:40 http://archive.ubuntu.com/ubuntu bionic-updates/main amd64 libsasl2-modules-db amd64 2.1.27~101-g0780600+dfsg-3ubuntu2.3 [15.0 kB]\n",
            "Get:41 http://archive.ubuntu.com/ubuntu bionic-updates/main amd64 libsasl2-2 amd64 2.1.27~101-g0780600+dfsg-3ubuntu2.3 [49.2 kB]\n",
            "Get:42 http://archive.ubuntu.com/ubuntu bionic-updates/main amd64 libldap-common all 2.4.45+dfsg-1ubuntu1.10 [15.8 kB]\n",
            "Get:43 http://archive.ubuntu.com/ubuntu bionic-updates/main amd64 libldap-2.4-2 amd64 2.4.45+dfsg-1ubuntu1.10 [154 kB]\n",
            "Get:44 http://archive.ubuntu.com/ubuntu bionic-updates/main amd64 libopenexr-dev amd64 2.2.0-11.1ubuntu1.7 [691 kB]\n",
            "Get:45 http://archive.ubuntu.com/ubuntu bionic-updates/main amd64 libopenexr22 amd64 2.2.0-11.1ubuntu1.7 [562 kB]\n",
            "Get:46 http://archive.ubuntu.com/ubuntu bionic-updates/main amd64 librbd1 amd64 12.2.13-0ubuntu0.18.04.8 [923 kB]\n",
            "Get:47 http://archive.ubuntu.com/ubuntu bionic-updates/main amd64 librados2 amd64 12.2.13-0ubuntu0.18.04.8 [2,724 kB]\n",
            "Get:48 http://archive.ubuntu.com/ubuntu bionic-updates/main amd64 linux-libc-dev amd64 4.15.0-147.151 [991 kB]\n",
            "Get:49 http://archive.ubuntu.com/ubuntu bionic-updates/universe amd64 gnupg2 all 2.2.4-1ubuntu1.4 [5,292 B]\n",
            "Get:50 https://developer.download.nvidia.com/compute/machine-learning/repos/ubuntu1804/x86_64  libcudnn7-dev 7.6.5.32-1+cuda10.2 [165 MB]\n",
            "Get:51 http://ppa.launchpad.net/graphics-drivers/ppa/ubuntu bionic/main amd64 nvidia-dkms-465 amd64 465.31-0ubuntu0.18.04.1 [28.7 kB]\n",
            "Get:52 http://ppa.launchpad.net/graphics-drivers/ppa/ubuntu bionic/main amd64 nvidia-kernel-source-465 amd64 465.31-0ubuntu0.18.04.1 [24.9 MB]\n",
            "Get:53 https://developer.download.nvidia.com/compute/machine-learning/repos/ubuntu1804/x86_64  libcudnn7 7.6.5.32-1+cuda10.2 [189 MB]\n",
            "Get:54 http://ppa.launchpad.net/graphics-drivers/ppa/ubuntu bionic/main amd64 nvidia-kernel-common-465 amd64 465.31-0ubuntu0.18.04.1 [17.9 MB]\n",
            "Get:55 http://ppa.launchpad.net/graphics-drivers/ppa/ubuntu bionic/main amd64 libnvidia-decode-465 amd64 465.31-0ubuntu0.18.04.1 [1,312 kB]\n",
            "Get:56 http://ppa.launchpad.net/graphics-drivers/ppa/ubuntu bionic/main amd64 libnvidia-compute-465 amd64 465.31-0ubuntu0.18.04.1 [23.5 MB]\n",
            "Get:57 http://ppa.launchpad.net/graphics-drivers/ppa/ubuntu bionic/main amd64 nvidia-compute-utils-465 amd64 465.31-0ubuntu0.18.04.1 [105 kB]\n",
            "Get:58 http://ppa.launchpad.net/graphics-drivers/ppa/ubuntu bionic/main amd64 libnvidia-encode-465 amd64 465.31-0ubuntu0.18.04.1 [40.3 kB]\n",
            "Get:59 https://developer.download.nvidia.com/compute/cuda/repos/ubuntu1804/x86_64  libxnvctrl0 470.42.01-0ubuntu1 [21.3 kB]\n",
            "Get:60 https://developer.download.nvidia.com/compute/cuda/repos/ubuntu1804/x86_64  nvidia-settings 470.42.01-0ubuntu1 [922 kB]\n",
            "Get:61 https://developer.download.nvidia.com/compute/cuda/repos/ubuntu1804/x86_64  nvidia-modprobe 470.42.01-0ubuntu1 [19.8 kB]\n",
            "Get:62 http://ppa.launchpad.net/graphics-drivers/ppa/ubuntu bionic/main amd64 nvidia-utils-465 amd64 465.31-0ubuntu0.18.04.1 [366 kB]\n",
            "Get:63 http://ppa.launchpad.net/graphics-drivers/ppa/ubuntu bionic/main amd64 xserver-xorg-video-nvidia-465 amd64 465.31-0ubuntu0.18.04.1 [1,551 kB]\n",
            "Get:64 http://ppa.launchpad.net/graphics-drivers/ppa/ubuntu bionic/main amd64 libnvidia-ifr1-465 amd64 465.31-0ubuntu0.18.04.1 [68.1 kB]\n",
            "Get:65 http://ppa.launchpad.net/graphics-drivers/ppa/ubuntu bionic/main amd64 libnvidia-fbc1-465 amd64 465.31-0ubuntu0.18.04.1 [45.9 kB]\n",
            "Get:66 http://ppa.launchpad.net/graphics-drivers/ppa/ubuntu bionic/main amd64 libnvidia-cfg1-465 amd64 465.31-0ubuntu0.18.04.1 [77.7 kB]\n",
            "Get:67 http://ppa.launchpad.net/c2d4u.team/c2d4u4.0+/ubuntu bionic/main amd64 r-cran-dplyr amd64 1.0.7-1cran1.1804.0 [1,067 kB]\n",
            "Get:68 http://ppa.launchpad.net/c2d4u.team/c2d4u4.0+/ubuntu bionic/main amd64 r-cran-broom all 0.7.8-1cran1.1804.0 [1,701 kB]\n",
            "Get:69 http://ppa.launchpad.net/c2d4u.team/c2d4u4.0+/ubuntu bionic/main amd64 r-cran-colorspace amd64 2.0-2-1cran1.1804.0 [2,451 kB]\n",
            "Get:70 http://ppa.launchpad.net/c2d4u.team/c2d4u4.0+/ubuntu bionic/main amd64 r-cran-cpp11 all 0.3.1-1cran1.1804.0 [143 kB]\n",
            "Get:71 http://ppa.launchpad.net/c2d4u.team/c2d4u4.0+/ubuntu bionic/main amd64 r-cran-curl amd64 4.3.2-1cran1.1804.0 [428 kB]\n",
            "Get:72 http://ppa.launchpad.net/c2d4u.team/c2d4u4.0+/ubuntu bionic/main amd64 r-cran-gert amd64 1.3.1-1cran1.1804.0 [177 kB]\n",
            "Get:73 http://ppa.launchpad.net/c2d4u.team/c2d4u4.0+/ubuntu bionic/main amd64 r-cran-ggplot2 all 3.3.5-1cran1.1804.0 [3,950 kB]\n",
            "Get:74 http://ppa.launchpad.net/c2d4u.team/c2d4u4.0+/ubuntu bionic/main amd64 r-cran-mime amd64 0.11-1cran1.1804.0 [34.0 kB]\n",
            "Get:75 http://ppa.launchpad.net/c2d4u.team/c2d4u4.0+/ubuntu bionic/main amd64 r-cran-xfun amd64 0.24-1cran1.1804.0 [317 kB]\n",
            "Get:76 http://ppa.launchpad.net/c2d4u.team/c2d4u4.0+/ubuntu bionic/main amd64 r-cran-rmarkdown all 2.9-1cran1.1804.0 [2,676 kB]\n",
            "Get:77 http://ppa.launchpad.net/c2d4u.team/c2d4u4.0+/ubuntu bionic/main amd64 r-cran-testthat amd64 3.0.3-1cran1.1804.0 [1,406 kB]\n",
            "Fetched 675 MB in 22s (30.8 MB/s)\n",
            "Extracting templates from packages: 100%\n",
            "Preconfiguring packages ...\n",
            "(Reading database ... 160772 files and directories currently installed.)\n",
            "Preparing to unpack .../libperl5.26_5.26.1-6ubuntu0.5_amd64.deb ...\n",
            "Unpacking libperl5.26:amd64 (5.26.1-6ubuntu0.5) over (5.26.1-6ubuntu0.3) ...\n",
            "Preparing to unpack .../perl_5.26.1-6ubuntu0.5_amd64.deb ...\n",
            "Unpacking perl (5.26.1-6ubuntu0.5) over (5.26.1-6ubuntu0.3) ...\n",
            "Preparing to unpack .../perl-base_5.26.1-6ubuntu0.5_amd64.deb ...\n",
            "Unpacking perl-base (5.26.1-6ubuntu0.5) over (5.26.1-6ubuntu0.3) ...\n",
            "Setting up perl-base (5.26.1-6ubuntu0.5) ...\n",
            "(Reading database ... 160772 files and directories currently installed.)\n",
            "Preparing to unpack .../perl-modules-5.26_5.26.1-6ubuntu0.5_all.deb ...\n",
            "Unpacking perl-modules-5.26 (5.26.1-6ubuntu0.5) over (5.26.1-6ubuntu0.3) ...\n",
            "Preparing to unpack .../tar_1.29b-2ubuntu0.2_amd64.deb ...\n",
            "Unpacking tar (1.29b-2ubuntu0.2) over (1.29b-2ubuntu0.1) ...\n",
            "Setting up tar (1.29b-2ubuntu0.2) ...\n",
            "update-alternatives: warning: forcing reinstallation of alternative /usr/sbin/rmt-tar because link group rmt is broken\n",
            "(Reading database ... 160772 files and directories currently installed.)\n",
            "Preparing to unpack .../libc-bin_2.27-3ubuntu1.4_amd64.deb ...\n",
            "Unpacking libc-bin (2.27-3ubuntu1.4) over (2.27-3ubuntu1.2) ...\n",
            "Setting up libc-bin (2.27-3ubuntu1.4) ...\n",
            "/sbin/ldconfig.real: /usr/local/lib/python3.7/dist-packages/ideep4py/lib/libmkldnn.so.0 is not a symbolic link\n",
            "\n",
            "(Reading database ... 160772 files and directories currently installed.)\n",
            "Preparing to unpack .../libaudit-common_1%3a2.8.2-1ubuntu1.1_all.deb ...\n",
            "Unpacking libaudit-common (1:2.8.2-1ubuntu1.1) over (1:2.8.2-1ubuntu1) ...\n",
            "Setting up libaudit-common (1:2.8.2-1ubuntu1.1) ...\n",
            "(Reading database ... 160772 files and directories currently installed.)\n",
            "Preparing to unpack .../libaudit1_1%3a2.8.2-1ubuntu1.1_amd64.deb ...\n",
            "Unpacking libaudit1:amd64 (1:2.8.2-1ubuntu1.1) over (1:2.8.2-1ubuntu1) ...\n",
            "Setting up libaudit1:amd64 (1:2.8.2-1ubuntu1.1) ...\n",
            "(Reading database ... 160772 files and directories currently installed.)\n",
            "Preparing to unpack .../libpam0g_1.1.8-3.6ubuntu2.18.04.3_amd64.deb ...\n",
            "Unpacking libpam0g:amd64 (1.1.8-3.6ubuntu2.18.04.3) over (1.1.8-3.6ubuntu2.18.04.2) ...\n",
            "Setting up libpam0g:amd64 (1.1.8-3.6ubuntu2.18.04.3) ...\n",
            "(Reading database ... 160772 files and directories currently installed.)\n",
            "Preparing to unpack .../libpam-modules-bin_1.1.8-3.6ubuntu2.18.04.3_amd64.deb ...\n",
            "Unpacking libpam-modules-bin (1.1.8-3.6ubuntu2.18.04.3) over (1.1.8-3.6ubuntu2.18.04.2) ...\n",
            "Setting up libpam-modules-bin (1.1.8-3.6ubuntu2.18.04.3) ...\n",
            "(Reading database ... 160774 files and directories currently installed.)\n",
            "Preparing to unpack .../libpam-modules_1.1.8-3.6ubuntu2.18.04.3_amd64.deb ...\n",
            "Unpacking libpam-modules:amd64 (1.1.8-3.6ubuntu2.18.04.3) over (1.1.8-3.6ubuntu2.18.04.2) ...\n",
            "Setting up libpam-modules:amd64 (1.1.8-3.6ubuntu2.18.04.3) ...\n",
            "(Reading database ... 160778 files and directories currently installed.)\n",
            "Preparing to unpack .../libpam-runtime_1.1.8-3.6ubuntu2.18.04.3_all.deb ...\n",
            "Unpacking libpam-runtime (1.1.8-3.6ubuntu2.18.04.3) over (1.1.8-3.6ubuntu2.18.04.2) ...\n",
            "Setting up libpam-runtime (1.1.8-3.6ubuntu2.18.04.3) ...\n",
            "(Reading database ... 160778 files and directories currently installed.)\n",
            "Preparing to unpack .../systemd-sysv_237-3ubuntu10.48_amd64.deb ...\n",
            "Unpacking systemd-sysv (237-3ubuntu10.48) over (237-3ubuntu10.47) ...\n",
            "Preparing to unpack .../libpam-systemd_237-3ubuntu10.48_amd64.deb ...\n",
            "Unpacking libpam-systemd:amd64 (237-3ubuntu10.48) over (237-3ubuntu10.47) ...\n",
            "Preparing to unpack .../libsystemd0_237-3ubuntu10.48_amd64.deb ...\n",
            "Unpacking libsystemd0:amd64 (237-3ubuntu10.48) over (237-3ubuntu10.47) ...\n",
            "Setting up libsystemd0:amd64 (237-3ubuntu10.48) ...\n",
            "(Reading database ... 160778 files and directories currently installed.)\n",
            "Preparing to unpack .../systemd_237-3ubuntu10.48_amd64.deb ...\n",
            "Unpacking systemd (237-3ubuntu10.48) over (237-3ubuntu10.47) ...\n",
            "Preparing to unpack .../udev_237-3ubuntu10.48_amd64.deb ...\n",
            "Unpacking udev (237-3ubuntu10.48) over (237-3ubuntu10.47) ...\n",
            "Preparing to unpack .../libudev1_237-3ubuntu10.48_amd64.deb ...\n",
            "Unpacking libudev1:amd64 (237-3ubuntu10.48) over (237-3ubuntu10.47) ...\n",
            "Setting up libudev1:amd64 (237-3ubuntu10.48) ...\n",
            "(Reading database ... 160778 files and directories currently installed.)\n",
            "Preparing to unpack .../liblz4-1_0.0~r131-2ubuntu3.1_amd64.deb ...\n",
            "Unpacking liblz4-1:amd64 (0.0~r131-2ubuntu3.1) over (0.0~r131-2ubuntu3) ...\n",
            "Setting up liblz4-1:amd64 (0.0~r131-2ubuntu3.1) ...\n",
            "(Reading database ... 160778 files and directories currently installed.)\n",
            "Preparing to unpack .../libzstd1_1.3.3+dfsg-2ubuntu1.2_amd64.deb ...\n",
            "Unpacking libzstd1:amd64 (1.3.3+dfsg-2ubuntu1.2) over (1.3.3+dfsg-2ubuntu1.1) ...\n",
            "Setting up libzstd1:amd64 (1.3.3+dfsg-2ubuntu1.2) ...\n",
            "(Reading database ... 160778 files and directories currently installed.)\n",
            "Preparing to unpack .../libnettle6_3.4.1-0ubuntu0.18.04.1_amd64.deb ...\n",
            "Unpacking libnettle6:amd64 (3.4.1-0ubuntu0.18.04.1) over (3.4-1) ...\n",
            "Setting up libnettle6:amd64 (3.4.1-0ubuntu0.18.04.1) ...\n",
            "(Reading database ... 160778 files and directories currently installed.)\n",
            "Preparing to unpack .../libhogweed4_3.4.1-0ubuntu0.18.04.1_amd64.deb ...\n",
            "Unpacking libhogweed4:amd64 (3.4.1-0ubuntu0.18.04.1) over (3.4-1) ...\n",
            "Setting up libhogweed4:amd64 (3.4.1-0ubuntu0.18.04.1) ...\n",
            "(Reading database ... 160778 files and directories currently installed.)\n",
            "Preparing to unpack .../libp11-kit0_0.23.9-2ubuntu0.1_amd64.deb ...\n",
            "Unpacking libp11-kit0:amd64 (0.23.9-2ubuntu0.1) over (0.23.9-2) ...\n",
            "Setting up libp11-kit0:amd64 (0.23.9-2ubuntu0.1) ...\n",
            "(Reading database ... 160778 files and directories currently installed.)\n",
            "Preparing to unpack .../libseccomp2_2.5.1-1ubuntu1~18.04.1_amd64.deb ...\n",
            "Unpacking libseccomp2:amd64 (2.5.1-1ubuntu1~18.04.1) over (2.4.3-1ubuntu3.18.04.3) ...\n",
            "Setting up libseccomp2:amd64 (2.5.1-1ubuntu1~18.04.1) ...\n",
            "(Reading database ... 160778 files and directories currently installed.)\n",
            "Preparing to unpack .../ubuntu-keyring_2018.09.18.1~18.04.2_all.deb ...\n",
            "Unpacking ubuntu-keyring (2018.09.18.1~18.04.2) over (2018.09.18.1~18.04.0) ...\n",
            "Setting up ubuntu-keyring (2018.09.18.1~18.04.2) ...\n",
            "(Reading database ... 160778 files and directories currently installed.)\n",
            "Preparing to unpack .../00-libxml2-dev_2.9.4+dfsg1-6.1ubuntu1.4_amd64.deb ...\n",
            "Unpacking libxml2-dev:amd64 (2.9.4+dfsg1-6.1ubuntu1.4) over (2.9.4+dfsg1-6.1ubuntu1.3) ...\n",
            "Preparing to unpack .../01-libxml2_2.9.4+dfsg1-6.1ubuntu1.4_amd64.deb ...\n",
            "Unpacking libxml2:amd64 (2.9.4+dfsg1-6.1ubuntu1.4) over (2.9.4+dfsg1-6.1ubuntu1.3) ...\n",
            "Preparing to unpack .../02-openssl_1.1.1-1ubuntu2.1~18.04.9_amd64.deb ...\n",
            "Unpacking openssl (1.1.1-1ubuntu2.1~18.04.9) over (1.1.1-1ubuntu2.1~18.04.6) ...\n",
            "Preparing to unpack .../03-binutils-x86-64-linux-gnu_2.30-21ubuntu1~18.04.5_amd64.deb ...\n",
            "Unpacking binutils-x86-64-linux-gnu (2.30-21ubuntu1~18.04.5) over (2.30-21ubuntu1~18.04.4) ...\n",
            "Preparing to unpack .../04-binutils-common_2.30-21ubuntu1~18.04.5_amd64.deb ...\n",
            "Unpacking binutils-common:amd64 (2.30-21ubuntu1~18.04.5) over (2.30-21ubuntu1~18.04.4) ...\n",
            "Preparing to unpack .../05-binutils_2.30-21ubuntu1~18.04.5_amd64.deb ...\n",
            "Unpacking binutils (2.30-21ubuntu1~18.04.5) over (2.30-21ubuntu1~18.04.4) ...\n",
            "Preparing to unpack .../06-libbinutils_2.30-21ubuntu1~18.04.5_amd64.deb ...\n",
            "Unpacking libbinutils:amd64 (2.30-21ubuntu1~18.04.5) over (2.30-21ubuntu1~18.04.4) ...\n",
            "Preparing to unpack .../07-cuda-compat-11-0_450.119.04-1_amd64.deb ...\n",
            "Unpacking cuda-compat-11-0 (450.119.04-1) over (450.80.02-1) ...\n",
            "Preparing to unpack .../08-libcublas10_10.2.3.254-1_amd64.deb ...\n",
            "Unpacking libcublas10 (10.2.3.254-1) over (10.2.1.243-1) ...\n",
            "Preparing to unpack .../09-libcublas-dev_10.2.3.254-1_amd64.deb ...\n",
            "Unpacking libcublas-dev (10.2.3.254-1) over (10.2.1.243-1) ...\n",
            "Preparing to unpack .../10-libcudnn7-dev_7.6.5.32-1+cuda10.2_amd64.deb ...\n",
            "update-alternatives: removing manually selected alternative - switching libcudnn to auto mode\n",
            "update-alternatives: using /usr/include/x86_64-linux-gnu/cudnn_v8.h to provide /usr/include/cudnn.h (libcudnn) in auto mode\n",
            "Unpacking libcudnn7-dev (7.6.5.32-1+cuda10.2) over (7.6.5.32-1+cuda10.1) ...\n",
            "Preparing to unpack .../11-libcudnn7_7.6.5.32-1+cuda10.2_amd64.deb ...\n",
            "Unpacking libcudnn7 (7.6.5.32-1+cuda10.2) over (7.6.5.32-1+cuda10.1) ...\n",
            "Preparing to unpack .../12-libsasl2-modules-db_2.1.27~101-g0780600+dfsg-3ubuntu2.3_amd64.deb ...\n",
            "Unpacking libsasl2-modules-db:amd64 (2.1.27~101-g0780600+dfsg-3ubuntu2.3) over (2.1.27~101-g0780600+dfsg-3ubuntu2.1) ...\n",
            "Preparing to unpack .../13-libsasl2-2_2.1.27~101-g0780600+dfsg-3ubuntu2.3_amd64.deb ...\n",
            "Unpacking libsasl2-2:amd64 (2.1.27~101-g0780600+dfsg-3ubuntu2.3) over (2.1.27~101-g0780600+dfsg-3ubuntu2.1) ...\n",
            "Preparing to unpack .../14-libldap-common_2.4.45+dfsg-1ubuntu1.10_all.deb ...\n",
            "Unpacking libldap-common (2.4.45+dfsg-1ubuntu1.10) over (2.4.45+dfsg-1ubuntu1.6) ...\n",
            "Preparing to unpack .../15-libldap-2.4-2_2.4.45+dfsg-1ubuntu1.10_amd64.deb ...\n",
            "Unpacking libldap-2.4-2:amd64 (2.4.45+dfsg-1ubuntu1.10) over (2.4.45+dfsg-1ubuntu1.6) ...\n",
            "Preparing to unpack .../16-nvidia-driver-465_465.31-0ubuntu0.18.04.1_amd64.deb ...\n",
            "Unpacking nvidia-driver-465 (465.31-0ubuntu0.18.04.1) over (465.27-0ubuntu0.18.04.2) ...\n",
            "Preparing to unpack .../17-libnvidia-extra-465_465.31-0ubuntu0.18.04.1_amd64.deb ...\n",
            "Unpacking libnvidia-extra-465:amd64 (465.31-0ubuntu0.18.04.1) over (465.27-0ubuntu0.18.04.2) ...\n",
            "Preparing to unpack .../18-libnvidia-common-465_465.31-0ubuntu0.18.04.1_all.deb ...\n",
            "Unpacking libnvidia-common-465 (465.31-0ubuntu0.18.04.1) over (465.27-0ubuntu0.18.04.2) ...\n",
            "Preparing to unpack .../19-libnvidia-gl-465_465.31-0ubuntu0.18.04.1_amd64.deb ...\n",
            "Unpacking libnvidia-gl-465:amd64 (465.31-0ubuntu0.18.04.1) over (465.27-0ubuntu0.18.04.2) ...\n",
            "Preparing to unpack .../20-nvidia-dkms-465_465.31-0ubuntu0.18.04.1_amd64.deb ...\n",
            "Removing all DKMS Modules\n",
            "Done.\n",
            "Unpacking nvidia-dkms-465 (465.31-0ubuntu0.18.04.1) over (465.27-0ubuntu0.18.04.2) ...\n",
            "Preparing to unpack .../21-nvidia-kernel-source-465_465.31-0ubuntu0.18.04.1_amd64.deb ...\n",
            "Unpacking nvidia-kernel-source-465 (465.31-0ubuntu0.18.04.1) over (465.27-0ubuntu0.18.04.2) ...\n",
            "Preparing to unpack .../22-nvidia-kernel-common-465_465.31-0ubuntu0.18.04.1_amd64.deb ...\n",
            "Unpacking nvidia-kernel-common-465 (465.31-0ubuntu0.18.04.1) over (465.27-0ubuntu0.18.04.2) ...\n",
            "Preparing to unpack .../23-libnvidia-decode-465_465.31-0ubuntu0.18.04.1_amd64.deb ...\n",
            "Unpacking libnvidia-decode-465:amd64 (465.31-0ubuntu0.18.04.1) over (465.27-0ubuntu0.18.04.2) ...\n",
            "Preparing to unpack .../24-libnvidia-compute-465_465.31-0ubuntu0.18.04.1_amd64.deb ...\n",
            "Unpacking libnvidia-compute-465:amd64 (465.31-0ubuntu0.18.04.1) over (465.27-0ubuntu0.18.04.2) ...\n",
            "Preparing to unpack .../25-nvidia-compute-utils-465_465.31-0ubuntu0.18.04.1_amd64.deb ...\n",
            "System has not been booted with systemd as init system (PID 1). Can't operate.\n",
            "System has not been booted with systemd as init system (PID 1). Can't operate.\n",
            "Unpacking nvidia-compute-utils-465 (465.31-0ubuntu0.18.04.1) over (465.27-0ubuntu0.18.04.2) ...\n",
            "Preparing to unpack .../26-libnvidia-encode-465_465.31-0ubuntu0.18.04.1_amd64.deb ...\n",
            "Unpacking libnvidia-encode-465:amd64 (465.31-0ubuntu0.18.04.1) over (465.27-0ubuntu0.18.04.2) ...\n",
            "Preparing to unpack .../27-nvidia-utils-465_465.31-0ubuntu0.18.04.1_amd64.deb ...\n",
            "Unpacking nvidia-utils-465 (465.31-0ubuntu0.18.04.1) over (465.27-0ubuntu0.18.04.2) ...\n",
            "Preparing to unpack .../28-xserver-xorg-video-nvidia-465_465.31-0ubuntu0.18.04.1_amd64.deb ...\n",
            "Unpacking xserver-xorg-video-nvidia-465 (465.31-0ubuntu0.18.04.1) over (465.27-0ubuntu0.18.04.2) ...\n",
            "Preparing to unpack .../29-libnvidia-ifr1-465_465.31-0ubuntu0.18.04.1_amd64.deb ...\n",
            "Unpacking libnvidia-ifr1-465:amd64 (465.31-0ubuntu0.18.04.1) over (465.27-0ubuntu0.18.04.2) ...\n",
            "Preparing to unpack .../30-libnvidia-fbc1-465_465.31-0ubuntu0.18.04.1_amd64.deb ...\n",
            "Unpacking libnvidia-fbc1-465:amd64 (465.31-0ubuntu0.18.04.1) over (465.27-0ubuntu0.18.04.2) ...\n",
            "Preparing to unpack .../31-libnvidia-cfg1-465_465.31-0ubuntu0.18.04.1_amd64.deb ...\n",
            "Unpacking libnvidia-cfg1-465:amd64 (465.31-0ubuntu0.18.04.1) over (465.27-0ubuntu0.18.04.2) ...\n",
            "Preparing to unpack .../32-libopenexr-dev_2.2.0-11.1ubuntu1.7_amd64.deb ...\n",
            "Unpacking libopenexr-dev (2.2.0-11.1ubuntu1.7) over (2.2.0-11.1ubuntu1.6) ...\n",
            "Preparing to unpack .../33-libopenexr22_2.2.0-11.1ubuntu1.7_amd64.deb ...\n",
            "Unpacking libopenexr22:amd64 (2.2.0-11.1ubuntu1.7) over (2.2.0-11.1ubuntu1.6) ...\n",
            "Preparing to unpack .../34-librbd1_12.2.13-0ubuntu0.18.04.8_amd64.deb ...\n",
            "Unpacking librbd1 (12.2.13-0ubuntu0.18.04.8) over (12.2.13-0ubuntu0.18.04.7) ...\n",
            "Preparing to unpack .../35-librados2_12.2.13-0ubuntu0.18.04.8_amd64.deb ...\n",
            "Unpacking librados2 (12.2.13-0ubuntu0.18.04.8) over (12.2.13-0ubuntu0.18.04.7) ...\n",
            "Preparing to unpack .../36-libxnvctrl0_470.42.01-0ubuntu1_amd64.deb ...\n",
            "Unpacking libxnvctrl0:amd64 (470.42.01-0ubuntu1) over (465.19.01-0ubuntu1) ...\n",
            "Preparing to unpack .../37-linux-libc-dev_4.15.0-147.151_amd64.deb ...\n",
            "Unpacking linux-libc-dev:amd64 (4.15.0-147.151) over (4.15.0-118.119) ...\n",
            "Preparing to unpack .../38-nvidia-settings_470.42.01-0ubuntu1_amd64.deb ...\n",
            "Unpacking nvidia-settings (470.42.01-0ubuntu1) over (465.19.01-0ubuntu1) ...\n",
            "Preparing to unpack .../39-r-cran-dplyr_1.0.7-1cran1.1804.0_amd64.deb ...\n",
            "Unpacking r-cran-dplyr (1.0.7-1cran1.1804.0) over (1.0.6-1cran1.1804.0) ...\n",
            "Preparing to unpack .../40-r-cran-broom_0.7.8-1cran1.1804.0_all.deb ...\n",
            "Unpacking r-cran-broom (0.7.8-1cran1.1804.0) over (0.7.6-1cran1.1804.0) ...\n",
            "Preparing to unpack .../41-r-cran-colorspace_2.0-2-1cran1.1804.0_amd64.deb ...\n",
            "Unpacking r-cran-colorspace (2.0-2-1cran1.1804.0) over (2.0-1-1cran1.1804.0) ...\n",
            "Preparing to unpack .../42-r-cran-cpp11_0.3.1-1cran1.1804.0_all.deb ...\n",
            "Unpacking r-cran-cpp11 (0.3.1-1cran1.1804.0) over (0.2.7-1cran1.1804.0) ...\n",
            "Preparing to unpack .../43-r-cran-curl_4.3.2-1cran1.1804.0_amd64.deb ...\n",
            "Unpacking r-cran-curl (4.3.2-1cran1.1804.0) over (4.3.1-1cran1.1804.0) ...\n",
            "Preparing to unpack .../44-r-cran-gert_1.3.1-1cran1.1804.0_amd64.deb ...\n",
            "Unpacking r-cran-gert (1.3.1-1cran1.1804.0) over (1.3.0-1cran1.1804.0) ...\n",
            "Preparing to unpack .../45-r-cran-ggplot2_3.3.5-1cran1.1804.0_all.deb ...\n",
            "Unpacking r-cran-ggplot2 (3.3.5-1cran1.1804.0) over (3.3.3-1cran2.1804.0) ...\n",
            "Preparing to unpack .../46-r-cran-mime_0.11-1cran1.1804.0_amd64.deb ...\n",
            "Unpacking r-cran-mime (0.11-1cran1.1804.0) over (0.10-1cran1.1804.0) ...\n",
            "Preparing to unpack .../47-r-cran-xfun_0.24-1cran1.1804.0_amd64.deb ...\n",
            "Unpacking r-cran-xfun (0.24-1cran1.1804.0) over (0.23-1cran1.1804.0) ...\n",
            "Preparing to unpack .../48-r-cran-rmarkdown_2.9-1cran1.1804.0_all.deb ...\n",
            "Unpacking r-cran-rmarkdown (2.9-1cran1.1804.0) over (2.8-1cran1.1804.0) ...\n",
            "Preparing to unpack .../49-r-cran-testthat_3.0.3-1cran1.1804.0_amd64.deb ...\n",
            "Unpacking r-cran-testthat (3.0.3-1cran1.1804.0) over (3.0.2-1cran1.1804.0) ...\n",
            "Preparing to unpack .../50-gnupg2_2.2.4-1ubuntu1.4_all.deb ...\n",
            "Unpacking gnupg2 (2.2.4-1ubuntu1.4) over (2.2.4-1ubuntu1.3) ...\n",
            "Preparing to unpack .../51-nvidia-modprobe_470.42.01-0ubuntu1_amd64.deb ...\n",
            "Unpacking nvidia-modprobe (470.42.01-0ubuntu1) over (465.19.01-0ubuntu1) ...\n",
            "Setting up libcudnn7 (7.6.5.32-1+cuda10.2) ...\n",
            "Setting up r-cran-gert (1.3.1-1cran1.1804.0) ...\n",
            "Setting up libldap-common (2.4.45+dfsg-1ubuntu1.10) ...\n",
            "Setting up cuda-compat-11-0 (450.119.04-1) ...\n",
            "Setting up nvidia-kernel-common-465 (465.31-0ubuntu0.18.04.1) ...\n",
            "Setting up libnvidia-cfg1-465:amd64 (465.31-0ubuntu0.18.04.1) ...\n",
            "Setting up libsasl2-modules-db:amd64 (2.1.27~101-g0780600+dfsg-3ubuntu2.3) ...\n",
            "Setting up linux-libc-dev:amd64 (4.15.0-147.151) ...\n",
            "Setting up libsasl2-2:amd64 (2.1.27~101-g0780600+dfsg-3ubuntu2.3) ...\n",
            "Setting up libcudnn7-dev (7.6.5.32-1+cuda10.2) ...\n",
            "update-alternatives: using /usr/include/x86_64-linux-gnu/cudnn_v7.h to provide /usr/include/cudnn.h (libcudnn) in manual mode\n",
            "Setting up perl-modules-5.26 (5.26.1-6ubuntu0.5) ...\n",
            "Setting up libopenexr22:amd64 (2.2.0-11.1ubuntu1.7) ...\n",
            "Setting up r-cran-curl (4.3.2-1cran1.1804.0) ...\n",
            "Setting up libxml2:amd64 (2.9.4+dfsg1-6.1ubuntu1.4) ...\n",
            "Setting up r-cran-xfun (0.24-1cran1.1804.0) ...\n",
            "Setting up libxml2-dev:amd64 (2.9.4+dfsg1-6.1ubuntu1.4) ...\n",
            "Setting up librados2 (12.2.13-0ubuntu0.18.04.8) ...\n",
            "Setting up binutils-common:amd64 (2.30-21ubuntu1~18.04.5) ...\n",
            "Setting up gnupg2 (2.2.4-1ubuntu1.4) ...\n",
            "Setting up nvidia-kernel-source-465 (465.31-0ubuntu0.18.04.1) ...\n",
            "Setting up libcublas10 (10.2.3.254-1) ...\n",
            "Setting up libcublas-dev (10.2.3.254-1) ...\n",
            "Setting up libperl5.26:amd64 (5.26.1-6ubuntu0.5) ...\n",
            "Setting up udev (237-3ubuntu10.48) ...\n",
            "invoke-rc.d: could not determine current runlevel\n",
            "invoke-rc.d: policy-rc.d denied execution of restart.\n",
            "Setting up libldap-2.4-2:amd64 (2.4.45+dfsg-1ubuntu1.10) ...\n",
            "Setting up systemd (237-3ubuntu10.48) ...\n",
            "Setting up r-cran-dplyr (1.0.7-1cran1.1804.0) ...\n",
            "Setting up nvidia-modprobe (470.42.01-0ubuntu1) ...\n",
            "Setting up openssl (1.1.1-1ubuntu2.1~18.04.9) ...\n",
            "Setting up libnvidia-compute-465:amd64 (465.31-0ubuntu0.18.04.1) ...\n",
            "Setting up r-cran-colorspace (2.0-2-1cran1.1804.0) ...\n",
            "Setting up libopenexr-dev (2.2.0-11.1ubuntu1.7) ...\n",
            "Setting up r-cran-broom (0.7.8-1cran1.1804.0) ...\n",
            "Setting up r-cran-cpp11 (0.3.1-1cran1.1804.0) ...\n",
            "Setting up r-cran-testthat (3.0.3-1cran1.1804.0) ...\n",
            "Setting up r-cran-ggplot2 (3.3.5-1cran1.1804.0) ...\n",
            "Setting up xserver-xorg-video-nvidia-465 (465.31-0ubuntu0.18.04.1) ...\n",
            "Setting up libnvidia-common-465 (465.31-0ubuntu0.18.04.1) ...\n",
            "Setting up r-cran-mime (0.11-1cran1.1804.0) ...\n",
            "Setting up r-cran-rmarkdown (2.9-1cran1.1804.0) ...\n",
            "Setting up libnvidia-fbc1-465:amd64 (465.31-0ubuntu0.18.04.1) ...\n",
            "Setting up libxnvctrl0:amd64 (470.42.01-0ubuntu1) ...\n",
            "Setting up libnvidia-extra-465:amd64 (465.31-0ubuntu0.18.04.1) ...\n",
            "Setting up libbinutils:amd64 (2.30-21ubuntu1~18.04.5) ...\n",
            "Setting up nvidia-utils-465 (465.31-0ubuntu0.18.04.1) ...\n",
            "Setting up nvidia-dkms-465 (465.31-0ubuntu0.18.04.1) ...\n",
            "Loading new nvidia-465.31 DKMS files...\n",
            "It is likely that 5.4.104+ belongs to a chroot's host\n",
            "Building for 4.15.0-144-generic\n",
            "Building for architecture x86_64\n",
            "Building initial module for 4.15.0-144-generic\n",
            "Done.\n",
            "\n",
            "nvidia:\n",
            "Running module version sanity check.\n",
            " - Original module\n",
            "   - No original module exists within this kernel\n",
            " - Installation\n",
            "   - Installing to /lib/modules/4.15.0-144-generic/updates/dkms/\n",
            "\n",
            "nvidia-modeset.ko:\n",
            "Running module version sanity check.\n",
            " - Original module\n",
            "   - No original module exists within this kernel\n",
            " - Installation\n",
            "   - Installing to /lib/modules/4.15.0-144-generic/updates/dkms/\n",
            "\n",
            "nvidia-drm.ko:\n",
            "Running module version sanity check.\n",
            " - Original module\n",
            "   - No original module exists within this kernel\n",
            " - Installation\n",
            "   - Installing to /lib/modules/4.15.0-144-generic/updates/dkms/\n",
            "\n",
            "nvidia-uvm.ko:\n",
            "Running module version sanity check.\n",
            " - Original module\n",
            "   - No original module exists within this kernel\n",
            " - Installation\n",
            "   - Installing to /lib/modules/4.15.0-144-generic/updates/dkms/\n",
            "\n",
            "nvidia-peermem.ko:\n",
            "Running module version sanity check.\n",
            " - Original module\n",
            "   - No original module exists within this kernel\n",
            " - Installation\n",
            "   - Installing to /lib/modules/4.15.0-144-generic/updates/dkms/\n",
            "\n",
            "depmod...\n",
            "\n",
            "DKMS: install completed.\n",
            "Setting up systemd-sysv (237-3ubuntu10.48) ...\n",
            "Setting up librbd1 (12.2.13-0ubuntu0.18.04.8) ...\n",
            "Setting up nvidia-settings (470.42.01-0ubuntu1) ...\n",
            "Setting up libnvidia-decode-465:amd64 (465.31-0ubuntu0.18.04.1) ...\n",
            "Setting up nvidia-compute-utils-465 (465.31-0ubuntu0.18.04.1) ...\n",
            "Setting up perl (5.26.1-6ubuntu0.5) ...\n",
            "Setting up libnvidia-gl-465:amd64 (465.31-0ubuntu0.18.04.1) ...\n",
            "Setting up libnvidia-encode-465:amd64 (465.31-0ubuntu0.18.04.1) ...\n",
            "Setting up binutils-x86-64-linux-gnu (2.30-21ubuntu1~18.04.5) ...\n",
            "Setting up libnvidia-ifr1-465:amd64 (465.31-0ubuntu0.18.04.1) ...\n",
            "Setting up libpam-systemd:amd64 (237-3ubuntu10.48) ...\n",
            "Setting up binutils (2.30-21ubuntu1~18.04.5) ...\n",
            "Setting up nvidia-driver-465 (465.31-0ubuntu0.18.04.1) ...\n",
            "Processing triggers for libc-bin (2.27-3ubuntu1.4) ...\n",
            "/sbin/ldconfig.real: /usr/local/lib/python3.7/dist-packages/ideep4py/lib/libmkldnn.so.0 is not a symbolic link\n",
            "\n",
            "Processing triggers for man-db (2.8.3-2ubuntu0.1) ...\n",
            "Processing triggers for dbus (1.12.2-1ubuntu1.2) ...\n",
            "Processing triggers for mime-support (3.60ubuntu1) ...\n",
            "Reading package lists... Done\n",
            "Building dependency tree       \n",
            "Reading state information... Done\n",
            "0 upgraded, 0 newly installed, 0 to remove and 6 not upgraded.\n",
            "Reading package lists... Done\n",
            "Building dependency tree       \n",
            "Reading state information... Done\n",
            "Note, selecting 'libsndfile1-dev' instead of 'libsndfile-dev'\n",
            "apt-utils is already the newest version (1.6.13).\n",
            "gcc is already the newest version (4:7.4.0-1ubuntu2.3).\n",
            "gcc set to manually installed.\n",
            "libpq-dev is already the newest version (10.17-0ubuntu0.18.04.1).\n",
            "libpq-dev set to manually installed.\n",
            "libsndfile1-dev is already the newest version (1.0.28-4ubuntu0.18.04.1).\n",
            "0 upgraded, 0 newly installed, 0 to remove and 6 not upgraded.\n",
            "Reading package lists... Done\n",
            "Building dependency tree       \n",
            "Reading state information... Done\n",
            "build-essential is already the newest version (12.4ubuntu1).\n",
            "liblzma-dev is already the newest version (5.2.2-1.3).\n",
            "liblzma-dev set to manually installed.\n",
            "libatlas-base-dev is already the newest version (3.10.3-5).\n",
            "cmake is already the newest version (3.10.2-1ubuntu2.18.04.1).\n",
            "libbz2-dev is already the newest version (1.0.6-8.1ubuntu0.2).\n",
            "libbz2-dev set to manually installed.\n",
            "The following additional packages will be installed:\n",
            "  libfftw3-bin libfftw3-long3 libfftw3-quad3 libfftw3-single3\n",
            "Suggested packages:\n",
            "  libfftw3-doc\n",
            "The following NEW packages will be installed:\n",
            "  libfftw3-bin libfftw3-dev libfftw3-long3 libfftw3-quad3 libfftw3-single3\n",
            "  libzstd-dev\n",
            "0 upgraded, 6 newly installed, 0 to remove and 6 not upgraded.\n",
            "Need to get 3,996 kB of archives.\n",
            "After this operation, 22.0 MB of additional disk space will be used.\n",
            "Get:1 http://archive.ubuntu.com/ubuntu bionic/main amd64 libfftw3-long3 amd64 3.3.7-1 [308 kB]\n",
            "Get:2 http://archive.ubuntu.com/ubuntu bionic/main amd64 libfftw3-quad3 amd64 3.3.7-1 [552 kB]\n",
            "Get:3 http://archive.ubuntu.com/ubuntu bionic/main amd64 libfftw3-single3 amd64 3.3.7-1 [764 kB]\n",
            "Get:4 http://archive.ubuntu.com/ubuntu bionic/main amd64 libfftw3-bin amd64 3.3.7-1 [32.7 kB]\n",
            "Get:5 http://archive.ubuntu.com/ubuntu bionic/main amd64 libfftw3-dev amd64 3.3.7-1 [2,108 kB]\n",
            "Get:6 http://archive.ubuntu.com/ubuntu bionic-updates/main amd64 libzstd-dev amd64 1.3.3+dfsg-2ubuntu1.2 [230 kB]\n",
            "Fetched 3,996 kB in 1s (3,631 kB/s)\n",
            "Selecting previously unselected package libfftw3-long3:amd64.\n",
            "(Reading database ... 160782 files and directories currently installed.)\n",
            "Preparing to unpack .../0-libfftw3-long3_3.3.7-1_amd64.deb ...\n",
            "Unpacking libfftw3-long3:amd64 (3.3.7-1) ...\n",
            "Selecting previously unselected package libfftw3-quad3:amd64.\n",
            "Preparing to unpack .../1-libfftw3-quad3_3.3.7-1_amd64.deb ...\n",
            "Unpacking libfftw3-quad3:amd64 (3.3.7-1) ...\n",
            "Selecting previously unselected package libfftw3-single3:amd64.\n",
            "Preparing to unpack .../2-libfftw3-single3_3.3.7-1_amd64.deb ...\n",
            "Unpacking libfftw3-single3:amd64 (3.3.7-1) ...\n",
            "Selecting previously unselected package libfftw3-bin.\n",
            "Preparing to unpack .../3-libfftw3-bin_3.3.7-1_amd64.deb ...\n",
            "Unpacking libfftw3-bin (3.3.7-1) ...\n",
            "Selecting previously unselected package libfftw3-dev:amd64.\n",
            "Preparing to unpack .../4-libfftw3-dev_3.3.7-1_amd64.deb ...\n",
            "Unpacking libfftw3-dev:amd64 (3.3.7-1) ...\n",
            "Selecting previously unselected package libzstd-dev:amd64.\n",
            "Preparing to unpack .../5-libzstd-dev_1.3.3+dfsg-2ubuntu1.2_amd64.deb ...\n",
            "Unpacking libzstd-dev:amd64 (1.3.3+dfsg-2ubuntu1.2) ...\n",
            "Setting up libfftw3-quad3:amd64 (3.3.7-1) ...\n",
            "Setting up libzstd-dev:amd64 (1.3.3+dfsg-2ubuntu1.2) ...\n",
            "Setting up libfftw3-single3:amd64 (3.3.7-1) ...\n",
            "Setting up libfftw3-long3:amd64 (3.3.7-1) ...\n",
            "Setting up libfftw3-bin (3.3.7-1) ...\n",
            "Setting up libfftw3-dev:amd64 (3.3.7-1) ...\n",
            "Processing triggers for libc-bin (2.27-3ubuntu1.4) ...\n",
            "/sbin/ldconfig.real: /usr/local/lib/python3.7/dist-packages/ideep4py/lib/libmkldnn.so.0 is not a symbolic link\n",
            "\n",
            "Processing triggers for man-db (2.8.3-2ubuntu0.1) ...\n",
            "Reading package lists... Done\n",
            "Building dependency tree       \n",
            "Reading state information... Done\n",
            "build-essential is already the newest version (12.4ubuntu1).\n",
            "libboost-program-options-dev is already the newest version (1.65.1.0ubuntu1).\n",
            "libboost-program-options-dev set to manually installed.\n",
            "libboost-system-dev is already the newest version (1.65.1.0ubuntu1).\n",
            "libboost-system-dev set to manually installed.\n",
            "libboost-thread-dev is already the newest version (1.65.1.0ubuntu1).\n",
            "libboost-thread-dev set to manually installed.\n",
            "liblzma-dev is already the newest version (5.2.2-1.3).\n",
            "zlib1g-dev is already the newest version (1:1.2.11.dfsg-0ubuntu2).\n",
            "zlib1g-dev set to manually installed.\n",
            "libboost-test-dev is already the newest version (1.65.1.0ubuntu1).\n",
            "libboost-test-dev set to manually installed.\n",
            "cmake is already the newest version (3.10.2-1ubuntu2.18.04.1).\n",
            "libbz2-dev is already the newest version (1.0.6-8.1ubuntu0.2).\n",
            "Suggested packages:\n",
            "  libeigen3-doc libmrpt-dev\n",
            "The following NEW packages will be installed:\n",
            "  libeigen3-dev\n",
            "0 upgraded, 1 newly installed, 0 to remove and 6 not upgraded.\n",
            "Need to get 810 kB of archives.\n",
            "After this operation, 7,128 kB of additional disk space will be used.\n",
            "Get:1 http://archive.ubuntu.com/ubuntu bionic/universe amd64 libeigen3-dev all 3.3.4-4 [810 kB]\n",
            "Fetched 810 kB in 1s (1,103 kB/s)\n",
            "Selecting previously unselected package libeigen3-dev.\n",
            "(Reading database ... 160894 files and directories currently installed.)\n",
            "Preparing to unpack .../libeigen3-dev_3.3.4-4_all.deb ...\n",
            "Unpacking libeigen3-dev (3.3.4-4) ...\n",
            "Setting up libeigen3-dev (3.3.4-4) ...\n",
            "Cloning into 'kenlm'...\n",
            "remote: Enumerating objects: 14047, done.\u001b[K\n",
            "remote: Counting objects: 100% (360/360), done.\u001b[K\n",
            "remote: Compressing objects: 100% (292/292), done.\u001b[K\n",
            "remote: Total 14047 (delta 107), reused 121 (delta 55), pack-reused 13687\u001b[K\n",
            "Receiving objects: 100% (14047/14047), 5.76 MiB | 12.13 MiB/s, done.\n",
            "Resolving deltas: 100% (7987/7987), done.\n",
            "-- The C compiler identification is GNU 7.5.0\n",
            "-- The CXX compiler identification is GNU 7.5.0\n",
            "-- Check for working C compiler: /usr/bin/cc\n",
            "-- Check for working C compiler: /usr/bin/cc -- works\n",
            "-- Detecting C compiler ABI info\n",
            "-- Detecting C compiler ABI info - done\n",
            "-- Detecting C compile features\n",
            "-- Detecting C compile features - done\n",
            "-- Check for working CXX compiler: /usr/bin/c++\n",
            "-- Check for working CXX compiler: /usr/bin/c++ -- works\n",
            "-- Detecting CXX compiler ABI info\n",
            "-- Detecting CXX compiler ABI info - done\n",
            "-- Detecting CXX compile features\n",
            "-- Detecting CXX compile features - done\n",
            "-- Looking for pthread.h\n",
            "-- Looking for pthread.h - found\n",
            "-- Looking for pthread_create\n",
            "-- Looking for pthread_create - not found\n",
            "-- Looking for pthread_create in pthreads\n",
            "-- Looking for pthread_create in pthreads - not found\n",
            "-- Looking for pthread_create in pthread\n",
            "-- Looking for pthread_create in pthread - found\n",
            "-- Found Threads: TRUE  \n",
            "-- Boost version: 1.65.1\n",
            "-- Found the following Boost libraries:\n",
            "--   program_options\n",
            "--   system\n",
            "--   thread\n",
            "--   unit_test_framework\n",
            "--   chrono\n",
            "--   date_time\n",
            "--   atomic\n",
            "-- Check if compiler accepts -pthread\n",
            "-- Check if compiler accepts -pthread - yes\n",
            "-- Found ZLIB: /usr/lib/x86_64-linux-gnu/libz.so (found version \"1.2.11\") \n",
            "-- Found BZip2: /usr/lib/x86_64-linux-gnu/libbz2.so (found version \"1.0.6\") \n",
            "-- Looking for BZ2_bzCompressInit\n",
            "-- Looking for BZ2_bzCompressInit - found\n",
            "-- Looking for lzma_auto_decoder in /usr/lib/x86_64-linux-gnu/liblzma.so\n",
            "-- Looking for lzma_auto_decoder in /usr/lib/x86_64-linux-gnu/liblzma.so - found\n",
            "-- Looking for lzma_easy_encoder in /usr/lib/x86_64-linux-gnu/liblzma.so\n",
            "-- Looking for lzma_easy_encoder in /usr/lib/x86_64-linux-gnu/liblzma.so - found\n",
            "-- Looking for lzma_lzma_preset in /usr/lib/x86_64-linux-gnu/liblzma.so\n",
            "-- Looking for lzma_lzma_preset in /usr/lib/x86_64-linux-gnu/liblzma.so - found\n",
            "-- Found LibLZMA: /usr/include (found version \"5.2.2\") \n",
            "-- Looking for clock_gettime in rt\n",
            "-- Looking for clock_gettime in rt - found\n",
            "-- Found OpenMP_C: -fopenmp (found version \"4.5\") \n",
            "-- Found OpenMP_CXX: -fopenmp (found version \"4.5\") \n",
            "-- Found OpenMP: TRUE (found version \"4.5\")  \n",
            "-- Configuring done\n",
            "-- Generating done\n",
            "-- Build files have been written to: /root/kenlm/build\n",
            "\u001b[35m\u001b[1mScanning dependencies of target kenlm_util\u001b[0m\n",
            "[  1%] \u001b[32mBuilding CXX object util/CMakeFiles/kenlm_util.dir/double-conversion/bignum-dtoa.cc.o\u001b[0m\n",
            "[  2%] \u001b[32mBuilding CXX object util/CMakeFiles/kenlm_util.dir/double-conversion/fixed-dtoa.cc.o\u001b[0m\n",
            "[  3%] \u001b[32mBuilding CXX object util/CMakeFiles/kenlm_util.dir/double-conversion/double-conversion.cc.o\u001b[0m\n",
            "[  4%] \u001b[32mBuilding CXX object util/CMakeFiles/kenlm_util.dir/double-conversion/cached-powers.cc.o\u001b[0m\n",
            "[  5%] \u001b[32mBuilding CXX object util/CMakeFiles/kenlm_util.dir/stream/count_records.cc.o\u001b[0m\n",
            "[  6%] \u001b[32mBuilding CXX object util/CMakeFiles/kenlm_util.dir/double-conversion/diy-fp.cc.o\u001b[0m\n",
            "[  7%] \u001b[32mBuilding CXX object util/CMakeFiles/kenlm_util.dir/double-conversion/bignum.cc.o\u001b[0m\n",
            "[  8%] \u001b[32mBuilding CXX object util/CMakeFiles/kenlm_util.dir/double-conversion/strtod.cc.o\u001b[0m\n",
            "[  9%] \u001b[32mBuilding CXX object util/CMakeFiles/kenlm_util.dir/double-conversion/fast-dtoa.cc.o\u001b[0m\n",
            "[ 10%] \u001b[32mBuilding CXX object util/CMakeFiles/kenlm_util.dir/stream/io.cc.o\u001b[0m\n",
            "[ 11%] \u001b[32mBuilding CXX object util/CMakeFiles/kenlm_util.dir/stream/rewindable_stream.cc.o\u001b[0m\n",
            "[ 12%] \u001b[32mBuilding CXX object util/CMakeFiles/kenlm_util.dir/stream/chain.cc.o\u001b[0m\n",
            "[ 13%] \u001b[32mBuilding CXX object util/CMakeFiles/kenlm_util.dir/stream/multi_progress.cc.o\u001b[0m\n",
            "[ 15%] \u001b[32mBuilding CXX object util/CMakeFiles/kenlm_util.dir/ersatz_progress.cc.o\u001b[0m\n",
            "[ 15%] \u001b[32mBuilding CXX object util/CMakeFiles/kenlm_util.dir/stream/line_input.cc.o\u001b[0m\n",
            "[ 16%] \u001b[32mBuilding CXX object util/CMakeFiles/kenlm_util.dir/bit_packing.cc.o\u001b[0m\n",
            "[ 17%] \u001b[32mBuilding CXX object util/CMakeFiles/kenlm_util.dir/exception.cc.o\u001b[0m\n",
            "[ 18%] \u001b[32mBuilding CXX object util/CMakeFiles/kenlm_util.dir/file.cc.o\u001b[0m\n",
            "[ 19%] \u001b[32mBuilding CXX object util/CMakeFiles/kenlm_util.dir/file_piece.cc.o\u001b[0m\n",
            "[ 20%] \u001b[32mBuilding CXX object util/CMakeFiles/kenlm_util.dir/float_to_string.cc.o\u001b[0m\n",
            "[ 21%] \u001b[32mBuilding CXX object util/CMakeFiles/kenlm_util.dir/integer_to_string.cc.o\u001b[0m\n",
            "[ 22%] \u001b[32mBuilding CXX object util/CMakeFiles/kenlm_util.dir/mmap.cc.o\u001b[0m\n",
            "[ 23%] \u001b[32mBuilding CXX object util/CMakeFiles/kenlm_util.dir/murmur_hash.cc.o\u001b[0m\n",
            "[ 25%] \u001b[32mBuilding CXX object util/CMakeFiles/kenlm_util.dir/parallel_read.cc.o\u001b[0m\n",
            "[ 26%] \u001b[32mBuilding CXX object util/CMakeFiles/kenlm_util.dir/pool.cc.o\u001b[0m\n",
            "[ 27%] \u001b[32mBuilding CXX object util/CMakeFiles/kenlm_util.dir/read_compressed.cc.o\u001b[0m\n",
            "[ 28%] \u001b[32mBuilding CXX object util/CMakeFiles/kenlm_util.dir/scoped.cc.o\u001b[0m\n",
            "[ 29%] \u001b[32mBuilding CXX object util/CMakeFiles/kenlm_util.dir/spaces.cc.o\u001b[0m\n",
            "[ 30%] \u001b[32mBuilding CXX object util/CMakeFiles/kenlm_util.dir/string_piece.cc.o\u001b[0m\n",
            "[ 31%] \u001b[32mBuilding CXX object util/CMakeFiles/kenlm_util.dir/usage.cc.o\u001b[0m\n",
            "[ 32%] \u001b[32m\u001b[1mLinking CXX static library ../lib/libkenlm_util.a\u001b[0m\n",
            "[ 32%] Built target kenlm_util\n",
            "\u001b[35m\u001b[1mScanning dependencies of target probing_hash_table_benchmark\u001b[0m\n",
            "\u001b[35m\u001b[1mScanning dependencies of target kenlm_filter\u001b[0m\n",
            "\u001b[35m\u001b[1mScanning dependencies of target kenlm\u001b[0m\n",
            "[ 33%] \u001b[32mBuilding CXX object util/CMakeFiles/probing_hash_table_benchmark.dir/probing_hash_table_benchmark_main.cc.o\u001b[0m\n",
            "[ 34%] \u001b[32mBuilding CXX object lm/filter/CMakeFiles/kenlm_filter.dir/phrase.cc.o\u001b[0m\n",
            "[ 35%] \u001b[32mBuilding CXX object lm/filter/CMakeFiles/kenlm_filter.dir/vocab.cc.o\u001b[0m\n",
            "[ 36%] \u001b[32mBuilding CXX object lm/filter/CMakeFiles/kenlm_filter.dir/arpa_io.cc.o\u001b[0m\n",
            "[ 37%] \u001b[32mBuilding CXX object lm/CMakeFiles/kenlm.dir/trie_sort.cc.o\u001b[0m\n",
            "[ 38%] \u001b[32mBuilding CXX object lm/CMakeFiles/kenlm.dir/config.cc.o\u001b[0m\n",
            "[ 39%] \u001b[32mBuilding CXX object lm/CMakeFiles/kenlm.dir/bhiksha.cc.o\u001b[0m\n",
            "[ 40%] \u001b[32mBuilding CXX object lm/CMakeFiles/kenlm.dir/binary_format.cc.o\u001b[0m\n",
            "[ 41%] \u001b[32mBuilding CXX object lm/CMakeFiles/kenlm.dir/search_hashed.cc.o\u001b[0m\n",
            "[ 43%] \u001b[32mBuilding CXX object lm/CMakeFiles/kenlm.dir/model.cc.o\u001b[0m\n",
            "[ 43%] \u001b[32mBuilding CXX object lm/CMakeFiles/kenlm.dir/trie.cc.o\u001b[0m\n",
            "[ 44%] \u001b[32mBuilding CXX object lm/CMakeFiles/kenlm.dir/read_arpa.cc.o\u001b[0m\n",
            "[ 45%] \u001b[32mBuilding CXX object lm/CMakeFiles/kenlm.dir/lm_exception.cc.o\u001b[0m\n",
            "[ 46%] \u001b[32mBuilding CXX object lm/CMakeFiles/kenlm.dir/search_trie.cc.o\u001b[0m\n",
            "[ 47%] \u001b[32mBuilding CXX object lm/CMakeFiles/kenlm.dir/quantize.cc.o\u001b[0m\n",
            "[ 48%] \u001b[32mBuilding CXX object lm/CMakeFiles/kenlm.dir/sizes.cc.o\u001b[0m\n",
            "[ 50%] \u001b[32mBuilding CXX object lm/CMakeFiles/kenlm.dir/value_build.cc.o\u001b[0m\n",
            "[ 51%] \u001b[32mBuilding CXX object lm/CMakeFiles/kenlm.dir/virtual_interface.cc.o\u001b[0m\n",
            "[ 52%] \u001b[32mBuilding CXX object lm/CMakeFiles/kenlm.dir/vocab.cc.o\u001b[0m\n",
            "[ 53%] \u001b[32mBuilding CXX object lm/CMakeFiles/kenlm.dir/common/model_buffer.cc.o\u001b[0m\n",
            "[ 54%] \u001b[32mBuilding CXX object lm/CMakeFiles/kenlm.dir/common/print.cc.o\u001b[0m\n",
            "[ 55%] \u001b[32mBuilding CXX object lm/CMakeFiles/kenlm.dir/common/renumber.cc.o\u001b[0m\n",
            "[ 56%] \u001b[32mBuilding CXX object lm/CMakeFiles/kenlm.dir/common/size_option.cc.o\u001b[0m\n",
            "[ 57%] \u001b[32m\u001b[1mLinking CXX static library ../../lib/libkenlm_filter.a\u001b[0m\n",
            "[ 57%] Built target kenlm_filter\n",
            "[ 58%] \u001b[32m\u001b[1mLinking CXX static library ../lib/libkenlm.a\u001b[0m\n",
            "[ 58%] Built target kenlm\n",
            "\u001b[35m\u001b[1mScanning dependencies of target filter\u001b[0m\n",
            "\u001b[35m\u001b[1mScanning dependencies of target kenlm_builder\u001b[0m\n",
            "\u001b[35m\u001b[1mScanning dependencies of target fragment\u001b[0m\n",
            "\u001b[35m\u001b[1mScanning dependencies of target kenlm_interpolate\u001b[0m\n",
            "\u001b[35m\u001b[1mScanning dependencies of target kenlm_benchmark\u001b[0m\n",
            "\u001b[35m\u001b[1mScanning dependencies of target build_binary\u001b[0m\n",
            "\u001b[35m\u001b[1mScanning dependencies of target phrase_table_vocab\u001b[0m\n",
            "\u001b[35m\u001b[1mScanning dependencies of target query\u001b[0m\n",
            "[ 59%] \u001b[32mBuilding CXX object lm/filter/CMakeFiles/phrase_table_vocab.dir/phrase_table_vocab_main.cc.o\u001b[0m\n",
            "[ 62%] \u001b[32mBuilding CXX object lm/CMakeFiles/fragment.dir/fragment_main.cc.o\u001b[0m\n",
            "[ 62%] \u001b[32mBuilding CXX object lm/filter/CMakeFiles/filter.dir/filter_main.cc.o\u001b[0m\n",
            "[ 62%] \u001b[32mBuilding CXX object lm/CMakeFiles/kenlm_benchmark.dir/kenlm_benchmark_main.cc.o\u001b[0m\n",
            "[ 63%] \u001b[32mBuilding CXX object lm/builder/CMakeFiles/kenlm_builder.dir/initial_probabilities.cc.o\u001b[0m\n",
            "[ 64%] \u001b[32mBuilding CXX object lm/builder/CMakeFiles/kenlm_builder.dir/interpolate.cc.o\u001b[0m\n",
            "[ 65%] \u001b[32mBuilding CXX object lm/builder/CMakeFiles/kenlm_builder.dir/pipeline.cc.o\u001b[0m\n",
            "[ 66%] \u001b[32mBuilding CXX object lm/builder/CMakeFiles/kenlm_builder.dir/adjust_counts.cc.o\u001b[0m\n",
            "[ 67%] \u001b[32mBuilding CXX object lm/CMakeFiles/query.dir/query_main.cc.o\u001b[0m\n",
            "[ 68%] \u001b[32mBuilding CXX object lm/CMakeFiles/build_binary.dir/build_binary_main.cc.o\u001b[0m\n",
            "[ 69%] \u001b[32mBuilding CXX object lm/builder/CMakeFiles/kenlm_builder.dir/corpus_count.cc.o\u001b[0m\n",
            "[ 70%] \u001b[32mBuilding CXX object lm/builder/CMakeFiles/kenlm_builder.dir/output.cc.o\u001b[0m\n",
            "[ 71%] \u001b[32mBuilding CXX object lm/interpolate/CMakeFiles/kenlm_interpolate.dir/backoff_reunification.cc.o\u001b[0m\n",
            "[ 72%] \u001b[32mBuilding CXX object lm/interpolate/CMakeFiles/kenlm_interpolate.dir/bounded_sequence_encoding.cc.o\u001b[0m\n",
            "[ 73%] \u001b[32mBuilding CXX object lm/interpolate/CMakeFiles/kenlm_interpolate.dir/merge_probabilities.cc.o\u001b[0m\n",
            "[ 75%] \u001b[32mBuilding CXX object lm/interpolate/CMakeFiles/kenlm_interpolate.dir/merge_vocab.cc.o\u001b[0m\n",
            "[ 76%] \u001b[32m\u001b[1mLinking CXX executable ../bin/fragment\u001b[0m\n",
            "[ 77%] \u001b[32m\u001b[1mLinking CXX executable ../bin/build_binary\u001b[0m\n",
            "[ 77%] Built target fragment\n",
            "[ 78%] \u001b[32mBuilding CXX object lm/interpolate/CMakeFiles/kenlm_interpolate.dir/normalize.cc.o\u001b[0m\n",
            "[ 78%] Built target build_binary\n",
            "[ 79%] \u001b[32mBuilding CXX object lm/interpolate/CMakeFiles/kenlm_interpolate.dir/pipeline.cc.o\u001b[0m\n",
            "[ 80%] \u001b[32mBuilding CXX object lm/interpolate/CMakeFiles/kenlm_interpolate.dir/split_worker.cc.o\u001b[0m\n",
            "[ 81%] \u001b[32m\u001b[1mLinking CXX executable ../bin/probing_hash_table_benchmark\u001b[0m\n",
            "[ 81%] Built target probing_hash_table_benchmark\n",
            "[ 82%] \u001b[32mBuilding CXX object lm/interpolate/CMakeFiles/kenlm_interpolate.dir/tune_derivatives.cc.o\u001b[0m\n",
            "[ 83%] \u001b[32m\u001b[1mLinking CXX executable ../bin/query\u001b[0m\n",
            "[ 83%] Built target query\n",
            "[ 84%] \u001b[32mBuilding CXX object lm/interpolate/CMakeFiles/kenlm_interpolate.dir/tune_instances.cc.o\u001b[0m\n",
            "[ 85%] \u001b[32m\u001b[1mLinking CXX executable ../../bin/phrase_table_vocab\u001b[0m\n",
            "[ 86%] \u001b[32mBuilding CXX object lm/interpolate/CMakeFiles/kenlm_interpolate.dir/tune_weights.cc.o\u001b[0m\n",
            "[ 87%] \u001b[32mBuilding CXX object lm/interpolate/CMakeFiles/kenlm_interpolate.dir/universal_vocab.cc.o\u001b[0m\n",
            "[ 87%] Built target phrase_table_vocab\n",
            "[ 88%] \u001b[32m\u001b[1mLinking CXX static library ../../lib/libkenlm_builder.a\u001b[0m\n",
            "[ 88%] Built target kenlm_builder\n",
            "\u001b[35m\u001b[1mScanning dependencies of target count_ngrams\u001b[0m\n",
            "\u001b[35m\u001b[1mScanning dependencies of target lmplz\u001b[0m\n",
            "[ 89%] \u001b[32mBuilding CXX object lm/builder/CMakeFiles/lmplz.dir/lmplz_main.cc.o\u001b[0m\n",
            "[ 90%] \u001b[32mBuilding CXX object lm/builder/CMakeFiles/count_ngrams.dir/count_ngrams_main.cc.o\u001b[0m\n",
            "[ 91%] \u001b[32m\u001b[1mLinking CXX static library ../../lib/libkenlm_interpolate.a\u001b[0m\n",
            "[ 91%] Built target kenlm_interpolate\n",
            "\u001b[35m\u001b[1mScanning dependencies of target interpolate\u001b[0m\n",
            "\u001b[35m\u001b[1mScanning dependencies of target streaming_example\u001b[0m\n",
            "[ 92%] \u001b[32mBuilding CXX object lm/interpolate/CMakeFiles/streaming_example.dir/streaming_example_main.cc.o\u001b[0m\n",
            "[ 93%] \u001b[32mBuilding CXX object lm/interpolate/CMakeFiles/interpolate.dir/interpolate_main.cc.o\u001b[0m\n",
            "[ 94%] \u001b[32m\u001b[1mLinking CXX executable ../../bin/filter\u001b[0m\n",
            "[ 94%] Built target filter\n",
            "[ 95%] \u001b[32m\u001b[1mLinking CXX executable ../bin/kenlm_benchmark\u001b[0m\n",
            "[ 95%] Built target kenlm_benchmark\n",
            "[ 96%] \u001b[32m\u001b[1mLinking CXX executable ../../bin/lmplz\u001b[0m\n",
            "[ 96%] Built target lmplz\n",
            "[ 97%] \u001b[32m\u001b[1mLinking CXX executable ../../bin/interpolate\u001b[0m\n",
            "[ 97%] Built target interpolate\n",
            "[ 98%] \u001b[32m\u001b[1mLinking CXX executable ../../bin/streaming_example\u001b[0m\n",
            "[ 98%] Built target streaming_example\n",
            "[100%] \u001b[32m\u001b[1mLinking CXX executable ../../bin/count_ngrams\u001b[0m\n",
            "[100%] Built target count_ngrams\n",
            "Reading package lists... Done\n",
            "Building dependency tree       \n",
            "Reading state information... Done\n",
            "libfftw3-dev is already the newest version (3.3.7-1).\n",
            "libopenblas-dev is already the newest version (0.2.20+ds-4).\n",
            "libsndfile1-dev is already the newest version (1.0.28-4ubuntu0.18.04.1).\n",
            "The following additional packages will be installed:\n",
            "  libgflags2.2 libgoogle-glog0v5\n",
            "The following NEW packages will be installed:\n",
            "  libgflags-dev libgflags2.2 libgoogle-glog-dev libgoogle-glog0v5\n",
            "0 upgraded, 4 newly installed, 0 to remove and 6 not upgraded.\n",
            "Need to get 283 kB of archives.\n",
            "After this operation, 1,418 kB of additional disk space will be used.\n",
            "Get:1 http://archive.ubuntu.com/ubuntu bionic/universe amd64 libgflags2.2 amd64 2.2.1-1 [72.4 kB]\n",
            "Get:2 http://archive.ubuntu.com/ubuntu bionic/universe amd64 libgflags-dev amd64 2.2.1-1 [86.1 kB]\n",
            "Get:3 http://archive.ubuntu.com/ubuntu bionic/universe amd64 libgoogle-glog0v5 amd64 0.3.5-1 [50.5 kB]\n",
            "Get:4 http://archive.ubuntu.com/ubuntu bionic/universe amd64 libgoogle-glog-dev amd64 0.3.5-1 [73.8 kB]\n",
            "Fetched 283 kB in 1s (449 kB/s)\n",
            "Selecting previously unselected package libgflags2.2.\n",
            "(Reading database ... 161453 files and directories currently installed.)\n",
            "Preparing to unpack .../libgflags2.2_2.2.1-1_amd64.deb ...\n",
            "Unpacking libgflags2.2 (2.2.1-1) ...\n",
            "Selecting previously unselected package libgflags-dev.\n",
            "Preparing to unpack .../libgflags-dev_2.2.1-1_amd64.deb ...\n",
            "Unpacking libgflags-dev (2.2.1-1) ...\n",
            "Selecting previously unselected package libgoogle-glog0v5.\n",
            "Preparing to unpack .../libgoogle-glog0v5_0.3.5-1_amd64.deb ...\n",
            "Unpacking libgoogle-glog0v5 (0.3.5-1) ...\n",
            "Selecting previously unselected package libgoogle-glog-dev.\n",
            "Preparing to unpack .../libgoogle-glog-dev_0.3.5-1_amd64.deb ...\n",
            "Unpacking libgoogle-glog-dev (0.3.5-1) ...\n",
            "Setting up libgflags2.2 (2.2.1-1) ...\n",
            "Setting up libgflags-dev (2.2.1-1) ...\n",
            "Setting up libgoogle-glog0v5 (0.3.5-1) ...\n",
            "Setting up libgoogle-glog-dev (0.3.5-1) ...\n",
            "Processing triggers for libc-bin (2.27-3ubuntu1.4) ...\n",
            "/sbin/ldconfig.real: /usr/local/lib/python3.7/dist-packages/ideep4py/lib/libmkldnn.so.0 is not a symbolic link\n",
            "\n",
            "Cloning into 'wav2letter'...\n",
            "remote: Enumerating objects: 6712, done.\u001b[K\n",
            "remote: Counting objects: 100% (244/244), done.\u001b[K\n",
            "remote: Compressing objects: 100% (190/190), done.\u001b[K\n",
            "remote: Total 6712 (delta 89), reused 138 (delta 40), pack-reused 6468\u001b[K\n",
            "Receiving objects: 100% (6712/6712), 6.20 MiB | 19.71 MiB/s, done.\n",
            "Resolving deltas: 100% (4262/4262), done.\n",
            "Obtaining file:///root/wav2letter/bindings/python\n",
            "Installing collected packages: wav2letter\n",
            "  Running setup.py develop for wav2letter\n",
            "\u001b[31mERROR: Command errored out with exit status 1: /usr/bin/python3 -c 'import sys, setuptools, tokenize; sys.argv[0] = '\"'\"'/root/wav2letter/bindings/python/setup.py'\"'\"'; __file__='\"'\"'/root/wav2letter/bindings/python/setup.py'\"'\"';f=getattr(tokenize, '\"'\"'open'\"'\"', open)(__file__);code=f.read().replace('\"'\"'\\r\\n'\"'\"', '\"'\"'\\n'\"'\"');f.close();exec(compile(code, __file__, '\"'\"'exec'\"'\"'))' develop --no-deps Check the logs for full command output.\u001b[0m\n"
          ],
          "name": "stdout"
        }
      ]
    },
    {
      "cell_type": "code",
      "metadata": {
        "colab": {
          "base_uri": "https://localhost:8080/"
        },
        "id": "F4fdnjdVF8ZE",
        "outputId": "58a1cdac-0d28-4c12-b8b2-1d1760b230d4"
      },
      "source": [
        "!bash tts-install.sh"
      ],
      "execution_count": null,
      "outputs": [
        {
          "output_type": "stream",
          "text": [
            "Requirement already satisfied: soundfile in /usr/local/lib/python3.7/dist-packages (0.10.2)\n",
            "Requirement already satisfied: cffi>=1.0 in /usr/local/lib/python3.7/dist-packages (from soundfile) (1.14.5)\n",
            "Requirement already satisfied: pycparser in /usr/local/lib/python3.7/dist-packages (from cffi>=1.0->soundfile) (2.20)\n",
            "Requirement already satisfied: torchaudio==0.6.0 in /usr/local/lib/python3.7/dist-packages (0.6.0)\n",
            "Requirement already satisfied: torch==1.6.0 in /usr/local/lib/python3.7/dist-packages (from torchaudio==0.6.0) (1.6.0)\n",
            "Requirement already satisfied: numpy in /usr/local/lib/python3.7/dist-packages (from torch==1.6.0->torchaudio==0.6.0) (1.19.5)\n",
            "Requirement already satisfied: future in /usr/local/lib/python3.7/dist-packages (from torch==1.6.0->torchaudio==0.6.0) (0.16.0)\n",
            "tts-install.sh: line 4: conda: command not found\n",
            "Requirement already satisfied: editdistance==0.5.3 in /usr/local/lib/python3.7/dist-packages (0.5.3)\n",
            "Collecting epitran==1.2\n",
            "\u001b[?25l  Downloading https://files.pythonhosted.org/packages/4d/5c/f41db67c0e6e7cd8f2902d45e7230f087076e9780124bf7054a4f59e879b/epitran-1.2-py2.py3-none-any.whl (132kB)\n",
            "\u001b[K     |████████████████████████████████| 133kB 3.9MB/s \n",
            "\u001b[?25hCollecting unicodecsv\n",
            "  Downloading https://files.pythonhosted.org/packages/6f/a4/691ab63b17505a26096608cc309960b5a6bdf39e4ba1a793d5f9b1a53270/unicodecsv-0.14.1.tar.gz\n",
            "Requirement already satisfied: marisa-trie in /usr/local/lib/python3.7/dist-packages (from epitran==1.2) (0.7.5)\n",
            "Collecting panphon>=0.15\n",
            "\u001b[?25l  Downloading https://files.pythonhosted.org/packages/b9/6e/a6928ab77ef8adbc4929c9203471501901d10bdc1d7b2e689fb00b26cf77/panphon-0.19-py2.py3-none-any.whl (72kB)\n",
            "\u001b[K     |████████████████████████████████| 81kB 4.1MB/s \n",
            "\u001b[?25hRequirement already satisfied: regex in /usr/local/lib/python3.7/dist-packages (from epitran==1.2) (2019.12.20)\n",
            "Requirement already satisfied: setuptools in /usr/local/lib/python3.7/dist-packages (from epitran==1.2) (57.0.0)\n",
            "Requirement already satisfied: PyYAML in /usr/local/lib/python3.7/dist-packages (from panphon>=0.15->epitran==1.2) (3.13)\n",
            "Requirement already satisfied: editdistance in /usr/local/lib/python3.7/dist-packages (from panphon>=0.15->epitran==1.2) (0.5.3)\n",
            "Collecting munkres\n",
            "  Downloading https://files.pythonhosted.org/packages/90/ab/0301c945a704218bc9435f0e3c88884f6b19ef234d8899fb47ce1ccfd0c9/munkres-1.1.4-py2.py3-none-any.whl\n",
            "Requirement already satisfied: numpy in /usr/local/lib/python3.7/dist-packages (from panphon>=0.15->epitran==1.2) (1.19.5)\n",
            "Building wheels for collected packages: unicodecsv\n",
            "  Building wheel for unicodecsv (setup.py) ... \u001b[?25l\u001b[?25hdone\n",
            "  Created wheel for unicodecsv: filename=unicodecsv-0.14.1-cp37-none-any.whl size=10768 sha256=0a6f3faa9494c6b5a5e317c67b72aae99bd9c326988e38c5c700913e8bce4ee0\n",
            "  Stored in directory: /root/.cache/pip/wheels/a6/09/e9/e800279c98a0a8c94543f3de6c8a562f60e51363ed26e71283\n",
            "Successfully built unicodecsv\n",
            "Installing collected packages: unicodecsv, munkres, panphon, epitran\n",
            "Successfully installed epitran-1.2 munkres-1.1.4 panphon-0.19 unicodecsv-0.14.1\n",
            "Requirement already satisfied: fastdtw==0.3.4 in /usr/local/lib/python3.7/dist-packages (0.3.4)\n",
            "Requirement already satisfied: numpy in /usr/local/lib/python3.7/dist-packages (from fastdtw==0.3.4) (1.19.5)\n",
            "Requirement already satisfied: future in /usr/local/lib/python3.7/dist-packages (0.16.0)\n",
            "Requirement already satisfied: jieba==0.42.1 in /usr/local/lib/python3.7/dist-packages (0.42.1)\n",
            "Collecting Pillow==7.2.0\n",
            "\u001b[?25l  Downloading https://files.pythonhosted.org/packages/e8/f2/6722dd0c22e3a143ac792ccb2424924ac72af4adea756b1165b4cad50da7/Pillow-7.2.0-cp37-cp37m-manylinux1_x86_64.whl (2.2MB)\n",
            "\u001b[K     |████████████████████████████████| 2.2MB 4.0MB/s \n",
            "\u001b[31mERROR: albumentations 0.1.12 has requirement imgaug<0.2.7,>=0.2.5, but you'll have imgaug 0.2.9 which is incompatible.\u001b[0m\n",
            "\u001b[?25hInstalling collected packages: Pillow\n",
            "  Found existing installation: Pillow 7.1.2\n",
            "    Uninstalling Pillow-7.1.2:\n",
            "      Successfully uninstalled Pillow-7.1.2\n",
            "Successfully installed Pillow-7.2.0\n",
            "Collecting pinyin==0.4.0\n",
            "\u001b[?25l  Downloading https://files.pythonhosted.org/packages/32/95/d2969f1071b7bc0afff407d1d7b4b3f445e8e6b59df7921c9c09e35ee375/pinyin-0.4.0.tar.gz (3.6MB)\n",
            "\u001b[K     |████████████████████████████████| 3.6MB 4.0MB/s \n",
            "\u001b[?25hBuilding wheels for collected packages: pinyin\n",
            "  Building wheel for pinyin (setup.py) ... \u001b[?25l\u001b[?25hdone\n",
            "  Created wheel for pinyin: filename=pinyin-0.4.0-cp37-none-any.whl size=3630495 sha256=9ad95dbf753c947cbe434dbb18b4343706d3d71e4b7480965cb74fd835c2c8af\n",
            "  Stored in directory: /root/.cache/pip/wheels/bd/90/5a/e9844998f3e67b29c5bbca9dc20b5c76f936a45ea77f78e4a9\n",
            "Successfully built pinyin\n",
            "Installing collected packages: pinyin\n",
            "Successfully installed pinyin-0.4.0\n",
            "Requirement already satisfied: scikit-learn in /usr/local/lib/python3.7/dist-packages (0.22.2.post1)\n",
            "Requirement already satisfied: joblib>=0.11 in /usr/local/lib/python3.7/dist-packages (from scikit-learn) (1.0.1)\n",
            "Requirement already satisfied: scipy>=0.17.0 in /usr/local/lib/python3.7/dist-packages (from scikit-learn) (1.4.1)\n",
            "Requirement already satisfied: numpy>=1.11.0 in /usr/local/lib/python3.7/dist-packages (from scikit-learn) (1.19.5)\n",
            "Requirement already satisfied: scipy in /usr/local/lib/python3.7/dist-packages (1.4.1)\n",
            "Requirement already satisfied: numpy>=1.13.3 in /usr/local/lib/python3.7/dist-packages (from scipy) (1.19.5)\n",
            "Requirement already satisfied: SoundFile==0.10.2 in /usr/local/lib/python3.7/dist-packages (0.10.2)\n",
            "Requirement already satisfied: cffi>=1.0 in /usr/local/lib/python3.7/dist-packages (from SoundFile==0.10.2) (1.14.5)\n",
            "Requirement already satisfied: pycparser in /usr/local/lib/python3.7/dist-packages (from cffi>=1.0->SoundFile==0.10.2) (2.20)\n",
            "Requirement already satisfied: numba==0.48 in /usr/local/lib/python3.7/dist-packages (0.48.0)\n",
            "Requirement already satisfied: llvmlite<0.32.0,>=0.31.0dev0 in /usr/local/lib/python3.7/dist-packages (from numba==0.48) (0.31.0)\n",
            "Requirement already satisfied: setuptools in /usr/local/lib/python3.7/dist-packages (from numba==0.48) (57.0.0)\n",
            "Requirement already satisfied: numpy>=1.15 in /usr/local/lib/python3.7/dist-packages (from numba==0.48) (1.19.5)\n",
            "Collecting ko_pron\n",
            "  Downloading https://files.pythonhosted.org/packages/d8/36/872adff056b7214a62f1df5649eda8d9c29704c359149706058afbaa47fe/ko_pron-1.3-py3-none-any.whl\n",
            "Installing collected packages: ko-pron\n",
            "Successfully installed ko-pron-1.3\n"
          ],
          "name": "stdout"
        }
      ]
    },
    {
      "cell_type": "code",
      "metadata": {
        "id": "SrTAZCSZHWDO"
      },
      "source": [
        "from pororo import Pororo"
      ],
      "execution_count": null,
      "outputs": []
    },
    {
      "cell_type": "code",
      "metadata": {
        "colab": {
          "base_uri": "https://localhost:8080/",
          "height": 125
        },
        "id": "9RoM0fXFHjpV",
        "outputId": "145d5aca-88ae-4758-9239-fb6d861e6186"
      },
      "source": [
        "Pororo.available_tasks()"
      ],
      "execution_count": null,
      "outputs": [
        {
          "output_type": "execute_result",
          "data": {
            "application/vnd.google.colaboratory.intrinsic+json": {
              "type": "string"
            },
            "text/plain": [
              "\"Available tasks are ['mrc', 'rc', 'qa', 'question_answering', 'machine_reading_comprehension', 'reading_comprehension', 'sentiment', 'sentiment_analysis', 'nli', 'natural_language_inference', 'inference', 'fill', 'fill_in_blank', 'fib', 'para', 'pi', 'cse', 'contextual_subword_embedding', 'similarity', 'sts', 'semantic_textual_similarity', 'sentence_similarity', 'sentvec', 'sentence_embedding', 'sentence_vector', 'se', 'inflection', 'morphological_inflection', 'g2p', 'grapheme_to_phoneme', 'grapheme_to_phoneme_conversion', 'w2v', 'wordvec', 'word2vec', 'word_vector', 'word_embedding', 'tokenize', 'tokenise', 'tokenization', 'tokenisation', 'tok', 'segmentation', 'seg', 'mt', 'machine_translation', 'translation', 'pos', 'tag', 'pos_tagging', 'tagging', 'const', 'constituency', 'constituency_parsing', 'cp', 'pg', 'collocation', 'collocate', 'col', 'word_translation', 'wt', 'summarization', 'summarisation', 'text_summarization', 'text_summarisation', 'summary', 'gec', 'review', 'review_scoring', 'lemmatization', 'lemmatisation', 'lemma', 'ner', 'named_entity_recognition', 'entity_recognition', 'zero-topic', 'dp', 'dep_parse', 'caption', 'captioning', 'asr', 'speech_recognition', 'st', 'speech_translation', 'tts', 'text_to_speech', 'speech_synthesis', 'ocr', 'srl', 'semantic_role_labeling', 'p2g', 'aes', 'essay', 'qg', 'question_generation', 'age_suitability', 'wsd']\""
            ]
          },
          "metadata": {
            "tags": []
          },
          "execution_count": 8
        }
      ]
    },
    {
      "cell_type": "code",
      "metadata": {
        "colab": {
          "base_uri": "https://localhost:8080/",
          "height": 35
        },
        "id": "EdUttjFDHnCk",
        "outputId": "09a297ae-0bb2-4494-a11c-d5dd8e3069cd"
      },
      "source": [
        "Pororo.available_models(\"collocation\")"
      ],
      "execution_count": null,
      "outputs": [
        {
          "output_type": "execute_result",
          "data": {
            "application/vnd.google.colaboratory.intrinsic+json": {
              "type": "string"
            },
            "text/plain": [
              "'Available models for collocation are ([lang]: ko, [model]: kollocate), ([lang]: en, [model]: collocate.en), ([lang]: ja, [model]: collocate.ja), ([lang]: zh, [model]: collocate.zh)'"
            ]
          },
          "metadata": {
            "tags": []
          },
          "execution_count": 8
        }
      ]
    },
    {
      "cell_type": "code",
      "metadata": {
        "id": "6TAwiAfIfP0z"
      },
      "source": [
        "text = \"□ 연구의 목표○ 본 연구의 목표는 국제 스마트시티 산업의 생태계를 비교 분석하는 것임○ (1차 년도 목표) 국내 스마트시티 산업의 정의와 산업 생태계 및 구조 융합 변화 규명- 문헌고찰과 논문 신문기사 등의 빅데이터 분석을 활용한 스마트시티 산업 정의 규명- 산업연관표를 이용한 스마트시티 산업의 양적 변화 규명- 투입산출계수 및 생산유발계수를 이용한 스마트시티 산업의 질적 생태계 변화 규명- 산업 생산경로를 이용한 스마트시티 산업의 구조적 융합 변화 규명 ○ (2차 년도 목표) 국내·외 스마트시티 산업의 비교특성 규명- `15년도 산업연관표를 이용한 국내 스마트시티 주도국 스마트시티 추격국의 스마트시티 산업 생산량 및 질적 생태계 비교특성 규명 (국외 전문가 자문)- 산업 생산경로를 이용한 국내 스마트시티 주도국 스마트시티 추격국에 대한 스마트시티 산업 의 구조적 융합 비교특성 규명 (국외 전문가 자문)- 우리나라 주도국 추격국의 대표적인 사례를 맵핑하여 사례관점의 비교특성 규명□ 연구의 필요성○ 빅데이터 분석을 활용한 스마트시티 산업의 정의- 빅데이터 분석 활용 및 스마트시티 서비스/기술을 산업과 연계/고려하여 스마트시티 산업을 정의 하는 연구는 전무○ 스마트시티 산업의 융합 및 구조 생태계 변화 규명- 스마트시티 산업이 `60년부터 `14년까지 5년 단위로 어떠한 양적 질적 융합변화를 거쳤는지 또 한 어떤 구조적 형태를 가지고 있는지에 대한 생태계 변화 규명 연구는 전무○ 국내·외 스마트시티 산업의 비교특성 규명- 스마트시티를 국내 주도국 추진국 등으로 세분화하고 산업적인 측면에서 양적 질적 구조적인 변화의 비교특성을 규명하는 연구는 전무, □ 1차 년도 연구의 추진 전략 및 방법○ 6월 7월 : 스마트시티의 개념·산업·산업분류·방법론과 관련된 국내·외 문헌고찰 수행 / `08년 이 후 추진된 주요 스마트시티 계획 보고서(스마트도시계획 스마트시티국가시범도시 등) 내용에서 스마트시티 서비스 추출 및 서비스 구현을 위한 기술 데이터 추출 / `08년 이후 스마트시티 기술관 련 논문 및 신문기사의 텍스트 마이닝 키워드 분석 등 빅데이터를 활용한 스마트시티 구현기술 추출 및 데이터 구축 / 한국은행에서 작성된 `60년부터 `14년까지 5년 단위 소분류 기준(400개 산 업) 산업연관표 데이터(12개 테이블) 구축○ 8월 : ICT 기술 평가를 위한 ICT 기술 분류체계(TTA)의 10대 ICT 기술분야와 표준산업분류 연 계표를 근거로 데이터로 기 구축된 스마트시티 구현기술과 표준산업간 맵핑 / 표준산업으로 맵핑 된 기술과 산업을 산업연관표로 최종 매칭시킴으로써 스마트시티 산업의 정의를 규명○ 9월 : 기 구축된 소분류 기준(400개 산업) 산업연관표를 5년 단위로 양적 질적 구조적 비교분석 을 위해 2010년 GDP Deflator를 적용하여 데이터를 가공 / 가공된 소분류 기준의 12개 산업연관 표는 기 정의된 스마트시티 산업을 고려하여 9개 28개 산업으로 재분류하여 데이터 재가공○ 10월 : 9개 28개로 재분류된 12개 산업연관표 자료를 통해 양적분석(산업생산량)을 수행하여 스 마트시티 산업의 양적인 변화 규명○ 11월 : 산업연관표 자료를 투입산출분석 모형에 적용하여 투입산출계수 생산유발계수 분석 후 산업간 공급(투입)구조와 수요(판매)구조의 생태계 변화 및 파급효과 분석 수행○ 12월 : 구조경로분석 모형을 통해 산업의 생산경로에서 나타는 Value Chain의 발견 및 구조적으 로 어떠한 융합변화를 갖는지에 대한 생태계 변화 규명○ 1월 2월 : 연구 결과 및 자료 정리 연구 결과를 KCI급 학술지 투고 또는 컨퍼런스 참여(ex : 스마 트시티 산업의 구조적 특성변화 분석)□ 2차 년도 연구의 추진 전략 및 방법○ 3월 4월 : 스마트시티 주도국와 추격국을 선정하기 위한 국외 스마트시티 문헌고찰 스마트시티 주도국 및 추격국 선정에 따른 국내·외 2015년 산업연관표 데이터 구축○ 5월 6월 : 우리나라 ‘15년 산업연관표를 기준으로 양적 분석 질적 생태계 분석 구조적 융합 및 특성분석을 진행하고 관련 적용 사례 맵핑○ 7월 8월 : 스마트시티 주도국의 ‘15년 산업연관표를 기준으로 양적 분석 질적 생태계 분석 구 조적 융합 및 특성분석을 수행하며 관련 적용 사례 맵핑 및 국외 전문가 자문○ 9월 10월 : 스마트시티 추격국의 ‘15년 산업연관표를 기준으로 양적 분석 질적 생태계 분석 구 조적 융합 및 특성분석을 수행하며 관련 적용 사례 맵핑 및 국외 전문가 자문 실시○ 11월 12월 : 분석된 결과를 중심으로 우리나라 주도국 추격국의 스마트시티 산업 비교특성 규 명 및 대표적인 관련사례 비교 분석 수행 국외 전문가 자문 실시○ 1월 2월 : 연구 결과 및 자료 정리 연구 결과를 KCI급 학술지 투고 또는 컨퍼런스 참여(ex : 국내 ·외 스마트시티 산업의 비교특성 분석)\""
      ],
      "execution_count": null,
      "outputs": []
    },
    {
      "cell_type": "code",
      "metadata": {
        "colab": {
          "base_uri": "https://localhost:8080/",
          "height": 197
        },
        "id": "F97-0tpS-sHs",
        "outputId": "0afe5e87-0b85-44f0-9968-b22dfb992511"
      },
      "source": [
        "text"
      ],
      "execution_count": null,
      "outputs": [
        {
          "output_type": "execute_result",
          "data": {
            "application/vnd.google.colaboratory.intrinsic+json": {
              "type": "string"
            },
            "text/plain": [
              "'□ 연구의 목표○ 본 연구의 목표는 국제 스마트시티 산업의 생태계를 비교 분석하는 것임○ (1차 년도 목표) 국내 스마트시티 산업의 정의와 산업 생태계 및 구조 융합 변화 규명- 문헌고찰과 논문 신문기사 등의 빅데이터 분석을 활용한 스마트시티 산업 정의 규명- 산업연관표를 이용한 스마트시티 산업의 양적 변화 규명- 투입산출계수 및 생산유발계수를 이용한 스마트시티 산업의 질적 생태계 변화 규명- 산업 생산경로를 이용한 스마트시티 산업의 구조적 융합 변화 규명 ○ (2차 년도 목표) 국내·외 스마트시티 산업의 비교특성 규명- `15년도 산업연관표를 이용한 국내 스마트시티 주도국 스마트시티 추격국의 스마트시티 산업 생산량 및 질적 생태계 비교특성 규명 (국외 전문가 자문)- 산업 생산경로를 이용한 국내 스마트시티 주도국 스마트시티 추격국에 대한 스마트시티 산업 의 구조적 융합 비교특성 규명 (국외 전문가 자문)- 우리나라 주도국 추격국의 대표적인 사례를 맵핑하여 사례관점의 비교특성 규명□ 연구의 필요성○ 빅데이터 분석을 활용한 스마트시티 산업의 정의- 빅데이터 분석 활용 및 스마트시티 서비스/기술을 산업과 연계/고려하여 스마트시티 산업을 정의 하는 연구는 전무○ 스마트시티 산업의 융합 및 구조 생태계 변화 규명- 스마트시티 산업이 `60년부터 `14년까지 5년 단위로 어떠한 양적 질적 융합변화를 거쳤는지 또 한 어떤 구조적 형태를 가지고 있는지에 대한 생태계 변화 규명 연구는 전무○ 국내·외 스마트시티 산업의 비교특성 규명- 스마트시티를 국내 주도국 추진국 등으로 세분화하고 산업적인 측면에서 양적 질적 구조적인 변화의 비교특성을 규명하는 연구는 전무, □ 1차 년도 연구의 추진 전략 및 방법○ 6월 7월 : 스마트시티의 개념·산업·산업분류·방법론과 관련된 국내·외 문헌고찰 수행 / `08년 이 후 추진된 주요 스마트시티 계획 보고서(스마트도시계획 스마트시티국가시범도시 등) 내용에서 스마트시티 서비스 추출 및 서비스 구현을 위한 기술 데이터 추출 / `08년 이후 스마트시티 기술관 련 논문 및 신문기사의 텍스트 마이닝 키워드 분석 등 빅데이터를 활용한 스마트시티 구현기술 추출 및 데이터 구축 / 한국은행에서 작성된 `60년부터 `14년까지 5년 단위 소분류 기준(400개 산 업) 산업연관표 데이터(12개 테이블) 구축○ 8월 : ICT 기술 평가를 위한 ICT 기술 분류체계(TTA)의 10대 ICT 기술분야와 표준산업분류 연 계표를 근거로 데이터로 기 구축된 스마트시티 구현기술과 표준산업간 맵핑 / 표준산업으로 맵핑 된 기술과 산업을 산업연관표로 최종 매칭시킴으로써 스마트시티 산업의 정의를 규명○ 9월 : 기 구축된 소분류 기준(400개 산업) 산업연관표를 5년 단위로 양적 질적 구조적 비교분석 을 위해 2010년 GDP Deflator를 적용하여 데이터를 가공 / 가공된 소분류 기준의 12개 산업연관 표는 기 정의된 스마트시티 산업을 고려하여 9개 28개 산업으로 재분류하여 데이터 재가공○ 10월 : 9개 28개로 재분류된 12개 산업연관표 자료를 통해 양적분석(산업생산량)을 수행하여 스 마트시티 산업의 양적인 변화 규명○ 11월 : 산업연관표 자료를 투입산출분석 모형에 적용하여 투입산출계수 생산유발계수 분석 후 산업간 공급(투입)구조와 수요(판매)구조의 생태계 변화 및 파급효과 분석 수행○ 12월 : 구조경로분석 모형을 통해 산업의 생산경로에서 나타는 Value Chain의 발견 및 구조적으 로 어떠한 융합변화를 갖는지에 대한 생태계 변화 규명○ 1월 2월 : 연구 결과 및 자료 정리 연구 결과를 KCI급 학술지 투고 또는 컨퍼런스 참여(ex : 스마 트시티 산업의 구조적 특성변화 분석)□ 2차 년도 연구의 추진 전략 및 방법○ 3월 4월 : 스마트시티 주도국와 추격국을 선정하기 위한 국외 스마트시티 문헌고찰 스마트시티 주도국 및 추격국 선정에 따른 국내·외 2015년 산업연관표 데이터 구축○ 5월 6월 : 우리나라 ‘15년 산업연관표를 기준으로 양적 분석 질적 생태계 분석 구조적 융합 및 특성분석을 진행하고 관련 적용 사례 맵핑○ 7월 8월 : 스마트시티 주도국의 ‘15년 산업연관표를 기준으로 양적 분석 질적 생태계 분석 구 조적 융합 및 특성분석을 수행하며 관련 적용 사례 맵핑 및 국외 전문가 자문○ 9월 10월 : 스마트시티 추격국의 ‘15년 산업연관표를 기준으로 양적 분석 질적 생태계 분석 구 조적 융합 및 특성분석을 수행하며 관련 적용 사례 맵핑 및 국외 전문가 자문 실시○ 11월 12월 : 분석된 결과를 중심으로 우리나라 주도국 추격국의 스마트시티 산업 비교특성 규 명 및 대표적인 관련사례 비교 분석 수행 국외 전문가 자문 실시○ 1월 2월 : 연구 결과 및 자료 정리 연구 결과를 KCI급 학술지 투고 또는 컨퍼런스 참여(ex : 국내 ·외 스마트시티 산업의 비교특성 분석)'"
            ]
          },
          "metadata": {
            "tags": []
          },
          "execution_count": 19
        }
      ]
    },
    {
      "cell_type": "code",
      "metadata": {
        "id": "c7-7-9n3NAXt"
      },
      "source": [
        "summ1 = Pororo(task=\"summarization\", model=\"extractive\", lang=\"ko\") # 3개의 문장을 추출 (일반 문장 1차 요약)"
      ],
      "execution_count": null,
      "outputs": []
    },
    {
      "cell_type": "code",
      "metadata": {
        "id": "PXh8k4QCXziV"
      },
      "source": [
        "text1 = summ1(text)"
      ],
      "execution_count": null,
      "outputs": []
    },
    {
      "cell_type": "code",
      "metadata": {
        "colab": {
          "base_uri": "https://localhost:8080/",
          "height": 413
        },
        "id": "iMTsCTmE-Rew",
        "outputId": "1e54b977-67df-4ed5-84b5-2c629a46b61e"
      },
      "source": [
        "text1"
      ],
      "execution_count": null,
      "outputs": [
        {
          "output_type": "execute_result",
          "data": {
            "application/vnd.google.colaboratory.intrinsic+json": {
              "type": "string"
            },
            "text/plain": [
              "\"□ 연구의 목표○ 본 연구의 목표는 국제 스마트시티 산업의 생태계를 비교 분석하는 것임○ (1차 년도 목표) 국내 스마트시티 산업의 정의와 산업 생태계 및 구조 융합 변화 규명- 문헌고찰과 논문 신문기사 등의 빅데이터 분석을 활용한 스마트시티 산업 정의 규명- 산업연관표를 이용한 스마트시티 산업의 양적 변화 규명- 투입산출계수 및 생산유발계수를 이용한 스마트시티 산업의 질적 생태계 변화 규명- 산업 생산경로를 이용한 스마트시티 산업의 구조적 융합 변화 규명 ○ (2차 년도 목표) 국내·외 스마트시티 산업의 비교특성 규명- `15년도 산업연관표를 이용한 국내 스마트시티 주도국 스마트시티 추격국의 스마트시티 산업 생산량 및 질적 생태계 비교특성 규명 (국외 전문가 자문)- 산업 생산경로를 이용한 국내 스마트시티 주도국 스마트시티 추격국에 대한 스마트시티 산업 의 구조적 융합 비교특성 규명 (국외 전문가 자문)- 우리나라 주도국 추격국의 대표적인 사례를 맵핑하여 사례관점의 비교특성 규명□ 연구의 필요성○ 빅데이터 분석을 활용한 스마트시티 산업의 정의- 빅데이터 분석 활용 및 스마트시티 서비스/기술을 산업과 연계/고려하여 스마트시티 산업을 정의 하는 연구는 전무○ 스마트시티 산업의 융합 및 구조 생태계 변화 규명- 스마트시티 산업이 `60년부터 `14년까지 5년 단위로 어떠한 양적 질적 융합변화를 거쳤는지 또 한 어떤 구조적 형태를 가지고 있는지에 대한 생태계 변화 규명 연구는 전무○ 국내·외 스마트시티 산업의 비교특성 규명- 스마트시티를 국내 주도국 추진국 등으로 세분화하고 산업적인 측면에서 양적 질적 구조적인 변화의 비교특성을 규명하는 연구는 전무, □ 1차 년도 연구의 추진 전략 및 방법○ 6월 7월 : 스마트시티의 개념·산업·산업분류·방법론과 관련된 국내·외 문헌고찰 수행 / `08년 이 후 추진된 주요 스마트시티 계획 보고서(스마트도시계획 스마트시티국가시범도시 등) 내용에서 스마트시티 서비스 추출 및 서비스 구현을 위한 기술 데이터 추출 / `08년 이후 스마트시티 기술관 련 논문 및 신문기사의 텍스트 마이닝 키워드 분석 등 빅데이터를 활용한 스마트시티 구현기술 추출 및 데이터 구축 / 한국은행에서 작성된 `60년부터 `14년까지 5년 단위 소분류 기준(400개 산 업) 산업연관표 데이터(12개 테이블) 구축○ 8월 : ICT 기술 평가를 위한 ICT 기술 분류체계(TTA)의 10대 ICT 기술분야와 표준산업분류 연 계표를 근거로 데이터로 기 구축된 스마트시티 구현기술과 표준산업간 맵핑 / 표준산업으로 맵핑 된 기술과 산업을 산업연관표로 최종 매칭시킴으로써 스마트시티 산업의 정의를 규명○ 9월 : 기 구축된 소분류 기준(400개 산업) 산업연관표를 5년 단위로 양적 질적 구조적 비교분석 을 위해 2010년 GDP Deflator를 적용하여 데이터를 가공 / 가공된 소분류 기준의 12개 산업연관 표는 기 정의된 스마트시티 산업을 고려하여 9개 28개 산업으로 재분류하여 데이터 재가공○ 10월 : 9개 28개로 재분류된 12개 산업연관표 자료를 통해 양적분석(산업생산량)을 수행하여 스 마트시티 산업의 양적인 변화 규명○ 11월 : 산업연관표 자료를 투입산출분석 모형에 적용하여 투입산출계수 생산유발계수 분석 후 산업간 공급(투입)구조와 수요(판매)구조의 생태계 변화 및 파급효과 분석 수행○ 12월 : 구조경로분석 모형을 통해 산업의 생산경로에서 나타는 Value Chain의 발견 및 구조적으 로 어떠한 융합변화를 갖는지에 대한 생태계 변화 규명○ 1월 2월 : 연구 결과 및 자료 정리 연구 결과를 KCI급 학술지 투고 또는 컨퍼런스 참여(ex : 스마 트시티 산업의 구조적 특성변화 분석)□ 2차 년도 연구의 추진 전략 및 방법○ 3월 4월 : 스마트시티 주도국와 추격국을 선정하기 위한 국외 스마트시티 문헌고찰 스마트시티 주도국 및 추격국 선정에 따른 국내·외 2015년 산업연관표 데이터 구축○ 5월 6월 : 우리나라 ‘15년 산업연관표를 기준으로 양적 분석 질적 생태계 분석 구조적 융합 및 특성분석을 진행하고 관련 적용 사례 맵핑○ 7월 8월 : 스마트시티 주도국의 ‘15년 산업연관표를 기준으로 양적 분석 질적 생태계 분석 구 조적 융합 및 특성분석을 수행하며 관련 적용 사례 맵핑 및 국외 전문가 자문○ 9월 10월 : 스마트시티 추격국의'15년 산업연관표를 기준으로 양적 분석 질적 생태계 분석 구 조적 융합 및 특성분석을 수행하며 관련 적용 사례 맵핑 및 국외 전문가 자문 실시○ 11월 12월 : 분석된 결과를 중심으로 우리나라 주도국 추격국의 스마트시티 산업 비교특성 규 명 및 대표적인 관련사례 비교 분석 수행 국외 전문가 자문 실시○ 1월 2월 : 연구 결과 및 자료 정리 연구 결과를 KCI급 학술지 투고 또는 컨퍼런스 참여(ex : 국내 ·외 스마트시티 산업의 비교특성 분석)\""
            ]
          },
          "metadata": {
            "tags": []
          },
          "execution_count": 24
        }
      ]
    },
    {
      "cell_type": "code",
      "metadata": {
        "colab": {
          "base_uri": "https://localhost:8080/"
        },
        "id": "tujFvcfvX0Y0",
        "outputId": "fbf7838d-d0a6-4c6a-b8a7-2ba1af1bdca8"
      },
      "source": [
        "summ2 = Pororo(task=\"summarization\", model=\"abstractive\", lang=\"ko\") # 완벽한 형태의 1개 문장으로 압축 (일반 문장 2차 요약)"
      ],
      "execution_count": null,
      "outputs": [
        {
          "output_type": "stream",
          "text": [
            "\n"
          ],
          "name": "stderr"
        }
      ]
    },
    {
      "cell_type": "code",
      "metadata": {
        "id": "zxIgC0gJ8o8y"
      },
      "source": [
        "text2 = summ2(text)"
      ],
      "execution_count": null,
      "outputs": []
    },
    {
      "cell_type": "code",
      "metadata": {
        "colab": {
          "base_uri": "https://localhost:8080/",
          "height": 53
        },
        "id": "v6atczAuq7xq",
        "outputId": "c03ccff4-6081-42a1-a736-57dc5941d4a6"
      },
      "source": [
        "text2"
      ],
      "execution_count": null,
      "outputs": [
        {
          "output_type": "execute_result",
          "data": {
            "application/vnd.google.colaboratory.intrinsic+json": {
              "type": "string"
            },
            "text/plain": [
              "'국내 스마트시티 산업의 생태계를 비교 분석하기 위해 빅데이터를 활용한 스마트시티 산업의 정의와 산업 생태계 및 구조 융합 변화 규명하고, 우리나라 주도국 추격국의 대표적인 사례를 맵핑하여 비교특성을 규명하는 연구를 수행했다.'"
            ]
          },
          "metadata": {
            "tags": []
          },
          "execution_count": 27
        }
      ]
    },
    {
      "cell_type": "code",
      "metadata": {
        "colab": {
          "base_uri": "https://localhost:8080/",
          "height": 285,
          "referenced_widgets": [
            "17bd4aa405024bb68befa636ec690d39",
            "98f3efc8c1704328b459e8deeacfad01",
            "848bf6a9472e491d91c991bf6e6cf1f9",
            "5c282670db6645c2891065f21d99ff99",
            "b0386879b887443dac60a69442036de7",
            "936bce6d29164e9a95ccd1e8bd7c45ee",
            "61b05e0c39934ef4914a04f3702c2d9e",
            "21a9cd3df16c41b9962723f056bc7521",
            "cd90dc17e10d45f196a7fcf8032fbf08",
            "d08a063d7088474e83323606352d1496",
            "bac76594a8c8477e93aa3c9289f02833",
            "bb7a928574764cd797bdc42271182265",
            "cd8c4529dcbe4c76b201c3c9056f46eb",
            "4f0af18a1f1542dcb2286ce38fe202c7",
            "093563758b2640849f05151af73188a5",
            "3a6dd39e29a74af0ac46e07b04a04d56",
            "50c5bbcc2ce447a4ad96dd4b6d631398",
            "42d2b945a782404889050df03620bfaf",
            "21ff366119da4763ac08c158c70393d8",
            "5df85987421a4bd6895a68ab62c900f2",
            "88dda3020cf14e41bb512b8b937806b0",
            "3935260239114d789272127e3233a3fd",
            "c9afbd1a0293499890dd702115f9ddee",
            "19cf66251fcd4c9cad4084d562ac4278",
            "af0f0adc2621433984e6f60f4ccddde9",
            "4c48851837c84f3db0d8ea5aafc5513c",
            "35061f03eeaa404f95acf9f9719c860d",
            "6330eeae1362433db41f3f6648e31bb9",
            "22bc18002cf0471a8402a30ee06e6f03",
            "024a7bd1dba24e3c9a8d915540e6f75e",
            "0829ac2adc2444ca80f9d0f23f8ae986",
            "b6d4ae308813438990398da8aeee0476",
            "649bd77015cf49b59350930bcbde7562",
            "481ebd106e95430595530f5a35c9fb2f",
            "cce563ae6f594bb19f30f0c2bc284c37",
            "78577ac025b74c2a971c7404a6862004",
            "572b4b64af6c494189b7fce1149220ae",
            "c5ec2015592f4cd1bbbc995c82f4c5ae",
            "f56d1cd0cde447458c5afed1fc2d334d",
            "8fb19a24506044c4bbc1fab7efd7fc3d"
          ]
        },
        "id": "UY4K2zeI_xah",
        "outputId": "adaf6533-c0d8-4ee2-e7b7-c7eae68043f8"
      },
      "source": [
        "summ3 = Pororo(task=\"summarization\", model=\"bullet\", lang=\"ko\") # 중요하다고 판단되는 구절을 추출 (개조식 문장에 사용 가능)"
      ],
      "execution_count": null,
      "outputs": [
        {
          "output_type": "stream",
          "text": [
            "\n"
          ],
          "name": "stderr"
        },
        {
          "output_type": "display_data",
          "data": {
            "application/vnd.jupyter.widget-view+json": {
              "model_id": "17bd4aa405024bb68befa636ec690d39",
              "version_minor": 0,
              "version_major": 2
            },
            "text/plain": [
              "HBox(children=(FloatProgress(value=0.0, description='Downloading', max=1110.0, style=ProgressStyle(description…"
            ]
          },
          "metadata": {
            "tags": []
          }
        },
        {
          "output_type": "stream",
          "text": [
            "\n"
          ],
          "name": "stdout"
        },
        {
          "output_type": "display_data",
          "data": {
            "application/vnd.jupyter.widget-view+json": {
              "model_id": "cd90dc17e10d45f196a7fcf8032fbf08",
              "version_minor": 0,
              "version_major": 2
            },
            "text/plain": [
              "HBox(children=(FloatProgress(value=0.0, description='Downloading', max=2.0, style=ProgressStyle(description_wi…"
            ]
          },
          "metadata": {
            "tags": []
          }
        },
        {
          "output_type": "stream",
          "text": [
            "\n"
          ],
          "name": "stdout"
        },
        {
          "output_type": "display_data",
          "data": {
            "application/vnd.jupyter.widget-view+json": {
              "model_id": "50c5bbcc2ce447a4ad96dd4b6d631398",
              "version_minor": 0,
              "version_major": 2
            },
            "text/plain": [
              "HBox(children=(FloatProgress(value=0.0, description='Downloading', max=85.0, style=ProgressStyle(description_w…"
            ]
          },
          "metadata": {
            "tags": []
          }
        },
        {
          "output_type": "stream",
          "text": [
            "\n"
          ],
          "name": "stdout"
        },
        {
          "output_type": "display_data",
          "data": {
            "application/vnd.jupyter.widget-view+json": {
              "model_id": "af0f0adc2621433984e6f60f4ccddde9",
              "version_minor": 0,
              "version_major": 2
            },
            "text/plain": [
              "HBox(children=(FloatProgress(value=0.0, description='Downloading', max=109.0, style=ProgressStyle(description_…"
            ]
          },
          "metadata": {
            "tags": []
          }
        },
        {
          "output_type": "stream",
          "text": [
            "\n"
          ],
          "name": "stdout"
        },
        {
          "output_type": "display_data",
          "data": {
            "application/vnd.jupyter.widget-view+json": {
              "model_id": "649bd77015cf49b59350930bcbde7562",
              "version_minor": 0,
              "version_major": 2
            },
            "text/plain": [
              "HBox(children=(FloatProgress(value=0.0, description='Downloading', max=682149.0, style=ProgressStyle(descripti…"
            ]
          },
          "metadata": {
            "tags": []
          }
        },
        {
          "output_type": "stream",
          "text": [
            "\n"
          ],
          "name": "stdout"
        }
      ]
    },
    {
      "cell_type": "code",
      "metadata": {
        "id": "yJMDyD3T_xcs"
      },
      "source": [
        "text3 = summ3(text)"
      ],
      "execution_count": null,
      "outputs": []
    },
    {
      "cell_type": "code",
      "metadata": {
        "colab": {
          "base_uri": "https://localhost:8080/"
        },
        "id": "vTldBCffElF9",
        "outputId": "30888119-7802-44aa-e0ba-dd4e40fa3004"
      },
      "source": [
        "text3"
      ],
      "execution_count": null,
      "outputs": [
        {
          "output_type": "execute_result",
          "data": {
            "text/plain": [
              "['국내 스마트시티 산업의 정의 및 산업 생태계 및 구조 융합 변화 규명',\n",
              " ' 산업연관표를 이용한 국내 스마트시티 산업 정의 및 산업연관표 이용 스마트시티 산업 생산량 및 질적 생태계 비교특성 규명']"
            ]
          },
          "metadata": {
            "tags": []
          },
          "execution_count": 21
        }
      ]
    },
    {
      "cell_type": "code",
      "metadata": {
        "id": "76kfyspB85QZ"
      },
      "source": [
        "text4 = text3"
      ],
      "execution_count": null,
      "outputs": []
    },
    {
      "cell_type": "code",
      "metadata": {
        "colab": {
          "base_uri": "https://localhost:8080/"
        },
        "id": "Nb1mZfPkVznT",
        "outputId": "8c3c8482-6ac5-4625-d74b-288b60e18426"
      },
      "source": [
        "text4"
      ],
      "execution_count": null,
      "outputs": [
        {
          "output_type": "execute_result",
          "data": {
            "text/plain": [
              "['화합물정보 데이터 지원 및 초기 약리평가, in vitro 약물성/독성 평가기반 종합적 평가지원 연구지원 연구']"
            ]
          },
          "metadata": {
            "tags": []
          },
          "execution_count": 29
        }
      ]
    },
    {
      "cell_type": "code",
      "metadata": {
        "id": "_Ht_IjWbCvsl"
      },
      "source": [
        ""
      ],
      "execution_count": null,
      "outputs": []
    },
    {
      "cell_type": "code",
      "metadata": {
        "id": "2Bkdq31lCvvO"
      },
      "source": [
        ""
      ],
      "execution_count": null,
      "outputs": []
    },
    {
      "cell_type": "code",
      "metadata": {
        "id": "jTtkeUspCvyI"
      },
      "source": [
        "# 제목 추출 이후 '을 위하여/ 를 위하여' 붙이기 위한 구절 일반화 과정"
      ],
      "execution_count": null,
      "outputs": []
    },
    {
      "cell_type": "code",
      "metadata": {
        "colab": {
          "base_uri": "https://localhost:8080/"
        },
        "id": "fP0lgvuq4r9q",
        "outputId": "b5b252e3-4796-4d3d-c46b-7429607079b0"
      },
      "source": [
        "pg = Pororo(task=\"pg\", lang=\"ko\")"
      ],
      "execution_count": null,
      "outputs": [
        {
          "output_type": "stream",
          "text": [
            "\n",
            "\n",
            "\n"
          ],
          "name": "stderr"
        }
      ]
    },
    {
      "cell_type": "code",
      "metadata": {
        "id": "nF_Qb8DY5BS3"
      },
      "source": [
        "text = \"인공지능 기반 무선 센서 네트워크 설계\""
      ],
      "execution_count": null,
      "outputs": []
    },
    {
      "cell_type": "code",
      "metadata": {
        "colab": {
          "base_uri": "https://localhost:8080/",
          "height": 35
        },
        "id": "02VnpvydeNug",
        "outputId": "ac89637d-5efc-45e2-f38a-0bee6868d853"
      },
      "source": [
        "text"
      ],
      "execution_count": null,
      "outputs": [
        {
          "output_type": "execute_result",
          "data": {
            "application/vnd.google.colaboratory.intrinsic+json": {
              "type": "string"
            },
            "text/plain": [
              "'인공지능 기반 무선 센서 네트워크 설계'"
            ]
          },
          "metadata": {
            "tags": []
          },
          "execution_count": 141
        }
      ]
    },
    {
      "cell_type": "code",
      "metadata": {
        "id": "81EvglpHc3WD"
      },
      "source": [
        "list1 = text.split(\" \")"
      ],
      "execution_count": null,
      "outputs": []
    },
    {
      "cell_type": "code",
      "metadata": {
        "colab": {
          "base_uri": "https://localhost:8080/"
        },
        "id": "8Ej3jUf8eV_u",
        "outputId": "159099f8-0570-4737-dc7b-eaa01124b8fb"
      },
      "source": [
        "list1"
      ],
      "execution_count": null,
      "outputs": [
        {
          "output_type": "execute_result",
          "data": {
            "text/plain": [
              "['인공지능', '기반', '무선', '센서', '네트워크', '설계']"
            ]
          },
          "metadata": {
            "tags": []
          },
          "execution_count": 143
        }
      ]
    },
    {
      "cell_type": "code",
      "metadata": {
        "id": "SbnZwHxhc3X4"
      },
      "source": [
        "a = len(list1)"
      ],
      "execution_count": null,
      "outputs": []
    },
    {
      "cell_type": "code",
      "metadata": {
        "id": "43v1hq7Y5OaJ"
      },
      "source": [
        "text1 = list1[a-1] + \"을 위하여\""
      ],
      "execution_count": null,
      "outputs": []
    },
    {
      "cell_type": "code",
      "metadata": {
        "colab": {
          "base_uri": "https://localhost:8080/",
          "height": 35
        },
        "id": "KRY-C-JjO2KC",
        "outputId": "3d322458-1eac-4148-d622-55ace1ba8557"
      },
      "source": [
        "text1"
      ],
      "execution_count": null,
      "outputs": [
        {
          "output_type": "execute_result",
          "data": {
            "application/vnd.google.colaboratory.intrinsic+json": {
              "type": "string"
            },
            "text/plain": [
              "'설계을 위하여'"
            ]
          },
          "metadata": {
            "tags": []
          },
          "execution_count": 146
        }
      ]
    },
    {
      "cell_type": "code",
      "metadata": {
        "id": "zhno52jVRlJR"
      },
      "source": [
        "text2 = pg(text1)"
      ],
      "execution_count": null,
      "outputs": []
    },
    {
      "cell_type": "code",
      "metadata": {
        "colab": {
          "base_uri": "https://localhost:8080/",
          "height": 35
        },
        "id": "Kl0veRe6RlLo",
        "outputId": "eed10436-02e4-49c5-bf38-46cf6e09c890"
      },
      "source": [
        "text2"
      ],
      "execution_count": null,
      "outputs": [
        {
          "output_type": "execute_result",
          "data": {
            "application/vnd.google.colaboratory.intrinsic+json": {
              "type": "string"
            },
            "text/plain": [
              "'설계를 위해서'"
            ]
          },
          "metadata": {
            "tags": []
          },
          "execution_count": 148
        }
      ]
    },
    {
      "cell_type": "code",
      "metadata": {
        "id": "6HphS6OngP_E"
      },
      "source": [
        "list2 = text2.split(\" \")"
      ],
      "execution_count": null,
      "outputs": []
    },
    {
      "cell_type": "code",
      "metadata": {
        "colab": {
          "base_uri": "https://localhost:8080/",
          "height": 35
        },
        "id": "s_YxZTIogS97",
        "outputId": "c5c80892-d69f-4805-94f9-e98809426aa3"
      },
      "source": [
        "list2[-2]"
      ],
      "execution_count": null,
      "outputs": [
        {
          "output_type": "execute_result",
          "data": {
            "application/vnd.google.colaboratory.intrinsic+json": {
              "type": "string"
            },
            "text/plain": [
              "'미러를'"
            ]
          },
          "metadata": {
            "tags": []
          },
          "execution_count": 136
        }
      ]
    },
    {
      "cell_type": "code",
      "metadata": {
        "id": "xgyTJuKggTAN"
      },
      "source": [
        "text5 = list2[-2]"
      ],
      "execution_count": null,
      "outputs": []
    },
    {
      "cell_type": "code",
      "metadata": {
        "colab": {
          "base_uri": "https://localhost:8080/",
          "height": 35
        },
        "id": "_RYx0DeTgTCl",
        "outputId": "b996faf0-1508-4676-bfb9-f95a62f879d2"
      },
      "source": [
        "text5[-1]"
      ],
      "execution_count": null,
      "outputs": [
        {
          "output_type": "execute_result",
          "data": {
            "application/vnd.google.colaboratory.intrinsic+json": {
              "type": "string"
            },
            "text/plain": [
              "'를'"
            ]
          },
          "metadata": {
            "tags": []
          },
          "execution_count": 138
        }
      ]
    },
    {
      "cell_type": "code",
      "metadata": {
        "colab": {
          "base_uri": "https://localhost:8080/"
        },
        "id": "PXJvP5iBRlOf",
        "outputId": "debe7158-4836-4c3e-f04f-5a9401e33a96"
      },
      "source": [
        "if text5[-1] == \"을\" :\n",
        "  text3 = text + \"을 위해서\"\n",
        "  print(\"변경 없음\")\n",
        "  print(text3)\n",
        "else :\n",
        "  text3 = text + \"를 위해서\"\n",
        "  print(\"변경 있음\")\n",
        "  print(text3)"
      ],
      "execution_count": null,
      "outputs": [
        {
          "output_type": "stream",
          "text": [
            "변경 있음\n",
            "RCNN을 활용한 개인 인공지능 스타일리스트(내 옷장 DB 생성 관리 + 스마트미러)를 위해서\n"
          ],
          "name": "stdout"
        }
      ]
    },
    {
      "cell_type": "code",
      "metadata": {
        "id": "gJMI23VFC5-C"
      },
      "source": [
        "# 구절 일반화 과정 끝"
      ],
      "execution_count": null,
      "outputs": []
    },
    {
      "cell_type": "code",
      "metadata": {
        "id": "0EZyFjDzC6AZ"
      },
      "source": [
        ""
      ],
      "execution_count": null,
      "outputs": []
    },
    {
      "cell_type": "code",
      "metadata": {
        "id": "FX5p9NQoC6Es"
      },
      "source": [
        ""
      ],
      "execution_count": null,
      "outputs": []
    },
    {
      "cell_type": "code",
      "metadata": {
        "id": "Ae25c7vCC6HD"
      },
      "source": [
        "# 연구목표는 과제책임자가 작성한 요약임으로 '연구목표' 와 '요약내용' 의 유사도를 분석하여 검증을 수행 0.7 이상일 경우 정확한 요약으로 간주\n",
        "# 나는 동물을 좋아하는 사람이야 - 강아지를 좋아하는 아버지 의 유사도 점수는 0.415\n",
        "# 두 문장에서 모두 같은 단어가 나오지 않는 이상 0.8을 넘을 순 없음 문맥적 흐름이 같은 두 문장의 경우 0.7 이상의 결과를 보임"
      ],
      "execution_count": null,
      "outputs": []
    },
    {
      "cell_type": "code",
      "metadata": {
        "id": "6X4i3OI4DwQ0"
      },
      "source": [
        "# 연구목표와 요약내용의 유사도 분석 과정"
      ],
      "execution_count": null,
      "outputs": []
    },
    {
      "cell_type": "code",
      "metadata": {
        "colab": {
          "base_uri": "https://localhost:8080/"
        },
        "id": "wwGMgcaMnLik",
        "outputId": "9072d09e-b05c-482c-8cb6-561a13c1f34c"
      },
      "source": [
        "sts = Pororo(task=\"similarity\", lang=\"ko\")"
      ],
      "execution_count": null,
      "outputs": [
        {
          "output_type": "stream",
          "text": [
            "\n",
            "\n"
          ],
          "name": "stderr"
        }
      ]
    },
    {
      "cell_type": "code",
      "metadata": {
        "id": "1RhWwinP66s1"
      },
      "source": [
        "text1 = \"□ 연구의 목표○ 본 연구의 목표는 국제 스마트시티 산업의 생태계를 비교 분석하는 것임○ (1차 년도 목표) 국내 스마트시티 산업의 정의와 산업 생태계 및 구조 융합 변화 규명- 문헌고찰과 논문 신문기사 등의 빅데이터 분석을 활용한 스마트시티 산업 정의 규명- 산업연관표를 이용한 스마트시티 산업의 양적 변화 규명- 투입산출계수 및 생산유발계수를 이용한 스마트시티 산업의 질적 생태계 변화 규명- 산업 생산경로를 이용한 스마트시티 산업의 구조적 융합 변화 규명 ○ (2차 년도 목표) 국내·외 스마트시티 산업의 비교특성 규명- `15년도 산업연관표를 이용한 국내 스마트시티 주도국 스마트시티 추격국의 스마트시티 산업 생산량 및 질적 생태계 비교특성 규명 (국외 전문가 자문)- 산업 생산경로를 이용한 국내 스마트시티 주도국 스마트시티 추격국에 대한 스마트시티 산업 의 구조적 융합 비교특성 규명 (국외 전문가 자문)- 우리나라 주도국 추격국의 대표적인 사례를 맵핑하여 사례관점의 비교특성 규명□ 연구의 필요성○ 빅데이터 분석을 활용한 스마트시티 산업의 정의- 빅데이터 분석 활용 및 스마트시티 서비스/기술을 산업과 연계/고려하여 스마트시티 산업을 정의 하는 연구는 전무○ 스마트시티 산업의 융합 및 구조 생태계 변화 규명- 스마트시티 산업이 `60년부터 `14년까지 5년 단위로 어떠한 양적 질적 융합변화를 거쳤는지 또 한 어떤 구조적 형태를 가지고 있는지에 대한 생태계 변화 규명 연구는 전무○ 국내·외 스마트시티 산업의 비교특성 규명- 스마트시티를 국내 주도국 추진국 등으로 세분화하고 산업적인 측면에서 양적 질적 구조적인 변화의 비교특성을 규명하는 연구는 전무\""
      ],
      "execution_count": null,
      "outputs": []
    },
    {
      "cell_type": "code",
      "metadata": {
        "id": "vQBO0SBf7GZc"
      },
      "source": [
        "text2 = \"재활운동\""
      ],
      "execution_count": null,
      "outputs": []
    },
    {
      "cell_type": "code",
      "metadata": {
        "id": "yedQxwm85tVh"
      },
      "source": [
        "text3 = \"국제 스마트시티 산업의 생태계 비교 분석을 위해 국내 스마트시티 산업의 정의 및 산업 생태계 및 구조 융합 변화 규명, 산업연관표를 이용한 국내 스마트시티 산업 정의 및 산업연관표 이용 스마트시티 산업 생산량 및 질적 생태계 비교특성 규명을 수행하였다.\""
      ],
      "execution_count": null,
      "outputs": []
    },
    {
      "cell_type": "code",
      "metadata": {
        "id": "66G-9OcsoNas"
      },
      "source": [
        "text4 = \"빅데이터 스마트시티 산업의 생태계를 비교 분석하기 위해 1차 년도 목표인 국내 스마트시티 산업의 정의와 산업 생태계 및 구조 융합 변화 규명하고, 스마트시티를 국내 주도국 추진국 등으로 세분화하고 산업적인 측면에서 양적 질적 구조적인 변화의 비교특성을 규명하는 연구는 전무○ □ 1차 년도 연구의 추진 전략 및 방법 : 스마트시티의 개념·산업·산업분류·방법론과 관련된 국내·외 문헌고찰 수행, 스마트시티 서비스 추출 및 서비스 구현을 위한 기술 데이터 추출 등 빅데이터를 활용한 스마트시티 산업 생태계 변화 규명 연구를 시작했다.\""
      ],
      "execution_count": null,
      "outputs": []
    },
    {
      "cell_type": "code",
      "metadata": {
        "colab": {
          "base_uri": "https://localhost:8080/"
        },
        "id": "V9gOevIO7QNz",
        "outputId": "844fc1a3-3096-4f9a-94b7-082827fddce0"
      },
      "source": [
        "sts(text1, text3)"
      ],
      "execution_count": null,
      "outputs": [
        {
          "output_type": "execute_result",
          "data": {
            "text/plain": [
              "0.764"
            ]
          },
          "metadata": {
            "tags": []
          },
          "execution_count": 47
        }
      ]
    },
    {
      "cell_type": "code",
      "metadata": {
        "id": "-bZaZ9_37VnL"
      },
      "source": [
        "text5 = pg(text4)"
      ],
      "execution_count": null,
      "outputs": []
    },
    {
      "cell_type": "code",
      "metadata": {
        "colab": {
          "base_uri": "https://localhost:8080/",
          "height": 53
        },
        "id": "pT0voksNog16",
        "outputId": "b84913a8-470a-468b-e252-f705544105f4"
      },
      "source": [
        "text5"
      ],
      "execution_count": null,
      "outputs": [
        {
          "output_type": "execute_result",
          "data": {
            "application/vnd.google.colaboratory.intrinsic+json": {
              "type": "string"
            },
            "text/plain": [
              "'빅데이터 스마트시티 산업의 생태계를 비교 분석하기 위해 1차 연도 목표인 국내 스마ト시티 업계의 정의와 산업생태계 및 구조 융합 변화를 규명하고 국내주도국 추진국 등으로 세분화하고 산업적인 측면에서 양적 질적 구조적인 변화의 비교적 특성을 파악하는 연구는 전무○1차 년도 연구의 추진 전략과 방법: 스매트시티의 개념·산업·산업분류·방법론과 관련된 국내외 문헌고찰,'"
            ]
          },
          "metadata": {
            "tags": []
          },
          "execution_count": 37
        }
      ]
    },
    {
      "cell_type": "code",
      "metadata": {
        "id": "EZCMlnC-o7fB"
      },
      "source": [
        "text6 = '빅데이터 스마트시티 산업의 생태계를 비교 분석하기 위해 스마트시티 업계의 정의와 산업생태계 및 구조 융합 변화를 규명하고 주도국 추진국 등으로 세분화하고 산업적인 측면에서 양적 질적 구조적인 변화의 비교적 특성을 파악하는 연구는 전무○1차 년도 연구의 추진 전략과 방법: 스마트시티의 개념·산업·산업분류·방법론과 관련된 국내외 문헌고찰을 수행하였다.'"
      ],
      "execution_count": null,
      "outputs": []
    },
    {
      "cell_type": "code",
      "metadata": {
        "id": "nyrcQsh8xW0c"
      },
      "source": [
        "# 유사도 분석 과정 끝"
      ],
      "execution_count": null,
      "outputs": []
    },
    {
      "cell_type": "code",
      "metadata": {
        "id": "vdZuPpAFEAYW"
      },
      "source": [
        "# 유사도 점수 0.7 미만은 따로 빼서 분석해야할듯"
      ],
      "execution_count": null,
      "outputs": []
    }
  ]
}