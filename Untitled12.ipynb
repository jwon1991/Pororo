{
  "nbformat": 4,
  "nbformat_minor": 0,
  "metadata": {
    "colab": {
      "name": "Untitled12.ipynb",
      "provenance": [],
      "collapsed_sections": [],
      "authorship_tag": "ABX9TyO1xLH4vityhpxInal3duDp",
      "include_colab_link": true
    },
    "kernelspec": {
      "name": "python3",
      "display_name": "Python 3"
    },
    "language_info": {
      "name": "python"
    },
    "accelerator": "GPU"
  },
  "cells": [
    {
      "cell_type": "markdown",
      "metadata": {
        "id": "view-in-github",
        "colab_type": "text"
      },
      "source": [
        "<a href=\"https://colab.research.google.com/github/jwon1991/Pororo/blob/main/Untitled12.ipynb\" target=\"_parent\"><img src=\"https://colab.research.google.com/assets/colab-badge.svg\" alt=\"Open In Colab\"/></a>"
      ]
    },
    {
      "cell_type": "code",
      "metadata": {
        "id": "SrHOxpo38R63"
      },
      "source": [
        "!pip install pororo"
      ],
      "execution_count": null,
      "outputs": []
    },
    {
      "cell_type": "code",
      "metadata": {
        "id": "gU7ZrhfU8ULR"
      },
      "source": [
        "!git clone https://github.com/kakaobrain/pororo.git"
      ],
      "execution_count": null,
      "outputs": []
    },
    {
      "cell_type": "code",
      "metadata": {
        "colab": {
          "base_uri": "https://localhost:8080/"
        },
        "id": "VdB6HVzP9W1Q",
        "outputId": "cd55b9b3-b436-4520-dead-05fe5984d8b8"
      },
      "source": [
        "cd pororo"
      ],
      "execution_count": 3,
      "outputs": [
        {
          "output_type": "stream",
          "text": [
            "/content/pororo\n"
          ],
          "name": "stdout"
        }
      ]
    },
    {
      "cell_type": "code",
      "metadata": {
        "id": "FGv20Scu9X9X"
      },
      "source": [
        "pip install -e ."
      ],
      "execution_count": null,
      "outputs": []
    },
    {
      "cell_type": "code",
      "metadata": {
        "colab": {
          "base_uri": "https://localhost:8080/"
        },
        "id": "ZJR82C7O9YjP",
        "outputId": "b7d9d0b5-bbe0-44d8-8eb9-d6070708b6cf"
      },
      "source": [
        "from pororo import Pororo"
      ],
      "execution_count": 5,
      "outputs": [
        {
          "output_type": "stream",
          "text": [
            "[Korean Sentence Splitter]: Initializing Kss...\n"
          ],
          "name": "stderr"
        }
      ]
    },
    {
      "cell_type": "code",
      "metadata": {
        "id": "eO9aF70P9ziE"
      },
      "source": [
        "Pororo.available_tasks()"
      ],
      "execution_count": null,
      "outputs": []
    },
    {
      "cell_type": "code",
      "metadata": {
        "colab": {
          "base_uri": "https://localhost:8080/",
          "height": 35
        },
        "id": "iOCAJZC59jBv",
        "outputId": "995b4a69-9d17-404c-90bc-a8a5828596b8"
      },
      "source": [
        "Pororo.available_models(\"collocation\")"
      ],
      "execution_count": 7,
      "outputs": [
        {
          "output_type": "execute_result",
          "data": {
            "application/vnd.google.colaboratory.intrinsic+json": {
              "type": "string"
            },
            "text/plain": [
              "'Available models for collocation are ([lang]: ko, [model]: kollocate), ([lang]: en, [model]: collocate.en), ([lang]: ja, [model]: collocate.ja), ([lang]: zh, [model]: collocate.zh)'"
            ]
          },
          "metadata": {},
          "execution_count": 7
        }
      ]
    },
    {
      "cell_type": "code",
      "metadata": {
        "id": "bXLbqGQg-e2U"
      },
      "source": [
        "pip install -v python-mecab-ko"
      ],
      "execution_count": null,
      "outputs": []
    },
    {
      "cell_type": "code",
      "metadata": {
        "id": "zBiLVa0v_AbQ"
      },
      "source": [
        "import mecab"
      ],
      "execution_count": 10,
      "outputs": []
    },
    {
      "cell_type": "code",
      "metadata": {
        "id": "Ikq9bzEvO3mt"
      },
      "source": [
        "import collections"
      ],
      "execution_count": 11,
      "outputs": []
    },
    {
      "cell_type": "code",
      "metadata": {
        "id": "hnj1HpiNC9uX"
      },
      "source": [
        "mecab = mecab.MeCab()"
      ],
      "execution_count": 12,
      "outputs": []
    },
    {
      "cell_type": "code",
      "metadata": {
        "colab": {
          "base_uri": "https://localhost:8080/"
        },
        "id": "DYyID2DRDBPf",
        "outputId": "7504d06f-17fa-4174-f927-1ac526f0f875"
      },
      "source": [
        "mecab.morphs('영등포구청역에 있는 맛집 좀 알려주세요.')"
      ],
      "execution_count": 13,
      "outputs": [
        {
          "output_type": "execute_result",
          "data": {
            "text/plain": [
              "['영등포구청역', '에', '있', '는', '맛집', '좀', '알려', '주', '세요', '.']"
            ]
          },
          "metadata": {},
          "execution_count": 13
        }
      ]
    },
    {
      "cell_type": "code",
      "metadata": {
        "id": "FJWVO7MvDCU-"
      },
      "source": [
        "pos = Pororo(task=\"pos\", lang=\"ko\")"
      ],
      "execution_count": 14,
      "outputs": []
    },
    {
      "cell_type": "code",
      "metadata": {
        "id": "W4iKkPr-Ob_M"
      },
      "source": [
        "b = 'NNG'"
      ],
      "execution_count": 15,
      "outputs": []
    },
    {
      "cell_type": "code",
      "metadata": {
        "id": "NWCJRE2POcBL"
      },
      "source": [
        "c = 'NNP'"
      ],
      "execution_count": 16,
      "outputs": []
    },
    {
      "cell_type": "code",
      "metadata": {
        "id": "JAINzo_PDJw3"
      },
      "source": [
        "list1 = []"
      ],
      "execution_count": 41,
      "outputs": []
    },
    {
      "cell_type": "code",
      "metadata": {
        "id": "kPISBXhsMSAN"
      },
      "source": [
        "list2 = []"
      ],
      "execution_count": 42,
      "outputs": []
    },
    {
      "cell_type": "code",
      "metadata": {
        "id": "hqk69t-wC-p5"
      },
      "source": [
        "str1 = []"
      ],
      "execution_count": 43,
      "outputs": []
    },
    {
      "cell_type": "code",
      "metadata": {
        "id": "wggQlWHOK95N"
      },
      "source": [
        "list1 = pos(\"근로자 개인의 정신적 건강 상태를 확인하고, 직무스트레스와 우울 등 다양한 이유로 생산성 저하, 심하게는 자해, 자살 위기에 직면할 수 있는 위험군을 조기에 발견하기 위한 빅데이터 기반의 지능적 진단 서비스 설계 및 개발 상호작용형 정신건강진단 서비스용 AI 기술 설계 및 개발 가) 검사 항목 최소화를 위한 딥러닝 기반 검사 모델 개발 나) 데이터 학습을 통한 모델 최적화 다) 기존 지필 검사와의 비교 평가 마음 공감 상담 로봇 엔진 설계 기업 임직원 정신건강진단 서비스 앱 및 웹 개발 정신건강데이터 관리 블록체인 플랫폼 설계 및 개발 수요기관 보유데이터 빅데이터 구축\")"
      ],
      "execution_count": 46,
      "outputs": []
    },
    {
      "cell_type": "code",
      "metadata": {
        "id": "GmDFr_5eCmWl"
      },
      "source": [
        "for a in list1:\n",
        "  if b in a:\n",
        "    str1 = str(a)\n",
        "    str1 = str1.replace(\"(\", \"\")\n",
        "    str1 = str1.replace(\")\", \"\")\n",
        "    str1 = str1.replace(\"'\", \"\")\n",
        "    str1 = str1.replace(\", \", \"\")\n",
        "    str1 = str1.replace(\"NNG\", \"\")\n",
        "    str1 = str1.replace(\"NNP\", \"\")\n",
        "    list2.append(str1)\n",
        "  elif c in a:\n",
        "    str1 = str(a)\n",
        "    str1 = str1.replace(\"(\", \"\")\n",
        "    str1 = str1.replace(\")\", \"\")\n",
        "    str1 = str1.replace(\"'\", \"\")\n",
        "    str1 = str1.replace(\", \", \"\")\n",
        "    str1 = str1.replace(\"NNG\", \"\")\n",
        "    str1 = str1.replace(\"NNP\", \"\")\n",
        "    list2.append(a)"
      ],
      "execution_count": 47,
      "outputs": []
    },
    {
      "cell_type": "code",
      "metadata": {
        "id": "bH6Ni8zSCmZK"
      },
      "source": [
        "list2"
      ],
      "execution_count": null,
      "outputs": []
    },
    {
      "cell_type": "code",
      "metadata": {
        "id": "f-yhiHvBNEB2"
      },
      "source": [
        "dict = []"
      ],
      "execution_count": 49,
      "outputs": []
    },
    {
      "cell_type": "code",
      "metadata": {
        "id": "IPHrylLGO5j1"
      },
      "source": [
        "dict = collections.Counter(list2)"
      ],
      "execution_count": 50,
      "outputs": []
    },
    {
      "cell_type": "code",
      "metadata": {
        "colab": {
          "base_uri": "https://localhost:8080/"
        },
        "id": "OCMSp3xVO-sV",
        "outputId": "27de0d49-29d6-4755-dc0d-8eaed33f6c2a"
      },
      "source": [
        "print(dict)"
      ],
      "execution_count": 51,
      "outputs": [
        {
          "output_type": "stream",
          "text": [
            "Counter({'데이터': 5, '개발': 5, '정신': 4, '건강': 4, '설계': 4, '진단': 3, '서비스': 3, '검사': 3, '빅': 2, '기반': 2, '모델': 2, '근로': 1, '자': 1, '개인': 1, '상태': 1, '확인': 1, '직무': 1, '스트레스': 1, '우울': 1, '다양': 1, '이유': 1, '생산': 1, '저하': 1, '자해': 1, '자살': 1, '위기': 1, '직면': 1, '위험': 1, '군': 1, '조기': 1, '발견': 1, '지능': 1, '상호': 1, '작용': 1, '기술': 1, '항목': 1, '최소': 1, '화': 1, '딥': 1, '러닝': 1, '나': 1, '학습': 1, '최적': 1, '기존': 1, '비교': 1, '평가': 1, '마음': 1, '공감': 1, '상담': 1, '로봇': 1, '엔진': 1, '기업': 1, '임': 1, '직원': 1, '앱': 1, '웹': 1, '관리': 1, '블록': 1, '체인': 1, '플랫': 1, '폼': 1, '수요': 1, '기관': 1, '보유': 1, '구축': 1})\n"
          ],
          "name": "stdout"
        }
      ]
    },
    {
      "cell_type": "code",
      "metadata": {
        "colab": {
          "base_uri": "https://localhost:8080/"
        },
        "id": "kE9L88fUPASc",
        "outputId": "d5bf103a-e126-4858-c7f4-e6e72d340be8"
      },
      "source": [
        "type(dict)"
      ],
      "execution_count": 125,
      "outputs": [
        {
          "output_type": "execute_result",
          "data": {
            "text/plain": [
              "collections.Counter"
            ]
          },
          "metadata": {},
          "execution_count": 125
        }
      ]
    },
    {
      "cell_type": "code",
      "metadata": {
        "id": "J-6a8u7tUscM"
      },
      "source": [
        ""
      ],
      "execution_count": null,
      "outputs": []
    }
  ]
}